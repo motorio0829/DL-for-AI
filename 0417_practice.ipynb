{
  "cells": [
    {
      "cell_type": "markdown",
      "metadata": {
        "id": "view-in-github",
        "colab_type": "text"
      },
      "source": [
        "<a href=\"https://colab.research.google.com/github/motorio0829/DL-for-AI/blob/main/0417_practice.ipynb\" target=\"_parent\"><img src=\"https://colab.research.google.com/assets/colab-badge.svg\" alt=\"Open In Colab\"/></a>"
      ]
    },
    {
      "cell_type": "markdown",
      "metadata": {
        "id": "DdcA6bS-9T2p"
      },
      "source": [
        "This is a companion notebook for the book [Deep Learning with Python, Second Edition](https://www.manning.com/books/deep-learning-with-python-second-edition?a_aid=keras&a_bid=76564dff). For readability, it only contains runnable code blocks and section titles, and omits everything else in the book: text paragraphs, figures, and pseudocode.\n",
        "\n",
        "**If you want to be able to follow what's going on, I recommend reading the notebook side by side with your copy of the book.**\n",
        "\n",
        "This notebook was generated for TensorFlow 2.6."
      ]
    },
    {
      "cell_type": "markdown",
      "metadata": {
        "id": "l7J5LhB29T2r"
      },
      "source": [
        "# Working with Keras: A deep dive"
      ]
    },
    {
      "cell_type": "markdown",
      "metadata": {
        "id": "1ho0Q4xA9T2t"
      },
      "source": [
        "## A spectrum of workflows"
      ]
    },
    {
      "cell_type": "markdown",
      "metadata": {
        "id": "qcQVhBpx9T2t"
      },
      "source": [
        "## Different ways to build Keras models"
      ]
    },
    {
      "cell_type": "markdown",
      "metadata": {
        "id": "z-Bjlyn-9T2u"
      },
      "source": [
        "### The Sequential model"
      ]
    },
    {
      "cell_type": "markdown",
      "metadata": {
        "id": "ppt9TgSd9T2u"
      },
      "source": [
        "**The `Sequential` class**"
      ]
    },
    {
      "cell_type": "code",
      "execution_count": 1,
      "metadata": {
        "id": "NiWe5zZC9T2u"
      },
      "outputs": [],
      "source": [
        "from tensorflow import keras\n",
        "from tensorflow.keras import layers\n",
        "\n",
        "model = keras.Sequential([\n",
        "    layers.Dense(64, activation=\"relu\"),\n",
        "    layers.Dense(10, activation=\"softmax\")\n",
        "])"
      ]
    },
    {
      "cell_type": "markdown",
      "metadata": {
        "id": "00JXTySr9T2v"
      },
      "source": [
        "**Incrementally building a Sequential model**"
      ]
    },
    {
      "cell_type": "code",
      "execution_count": 2,
      "metadata": {
        "id": "gl3dv_Le9T2w"
      },
      "outputs": [],
      "source": [
        "model = keras.Sequential()\n",
        "model.add(layers.Dense(64, activation=\"relu\"))\n",
        "model.add(layers.Dense(10, activation=\"softmax\"))"
      ]
    },
    {
      "cell_type": "markdown",
      "metadata": {
        "id": "XP333vSe9T2w"
      },
      "source": [
        "**Calling a model for the first time to build it**"
      ]
    },
    {
      "cell_type": "code",
      "execution_count": 3,
      "metadata": {
        "id": "VtWZtdNC9T2w",
        "outputId": "ac7a5f95-dbf9-452b-fb3c-072f34f82b90",
        "colab": {
          "base_uri": "https://localhost:8080/"
        }
      },
      "outputs": [
        {
          "output_type": "execute_result",
          "data": {
            "text/plain": [
              "[<Variable path=sequential_1/dense_2/kernel, shape=(3, 64), dtype=float32, value=[[-0.18930842  0.04602987  0.07282475  0.2694285  -0.02095374  0.1592314\n",
              "   -0.17597795 -0.2563758  -0.04104295 -0.27830422  0.11646619  0.01045832\n",
              "    0.01281407  0.193367   -0.01121804 -0.03677952 -0.17841274  0.09606704\n",
              "   -0.09338465 -0.19310895  0.13258934  0.14393216 -0.27159446 -0.07931058\n",
              "    0.11737257  0.08521253 -0.02459466  0.20784557  0.08003283  0.03391016\n",
              "    0.27880692 -0.06939501 -0.287894   -0.10212685 -0.05068086 -0.1125734\n",
              "   -0.12198348 -0.24128273  0.14152542  0.18859217  0.19512987  0.03800941\n",
              "   -0.06707422 -0.2783182  -0.2552255   0.26671803  0.03855115 -0.06941077\n",
              "   -0.09928344  0.1604957   0.04790965 -0.07229614  0.2349577   0.2035076\n",
              "    0.2981676   0.00466913 -0.23370521 -0.25331292 -0.13414001  0.22559017\n",
              "   -0.13519982  0.24680269 -0.28124094 -0.10888238]\n",
              "  [ 0.05372161  0.2837178  -0.22278634  0.17036617 -0.12889898 -0.00245085\n",
              "   -0.21752846 -0.25826    -0.03956273  0.08455655  0.06148642  0.27439135\n",
              "    0.2965703  -0.13105552  0.10800138 -0.07435316 -0.23951568 -0.24002895\n",
              "   -0.14338186  0.02131218  0.23114133 -0.23458885  0.20809388 -0.22425646\n",
              "    0.00387681 -0.00850976  0.08774227  0.29904014  0.22754705  0.2579602\n",
              "   -0.23609713 -0.2609635  -0.13560727  0.05012229  0.0639036   0.01043636\n",
              "   -0.22608453 -0.15483305  0.11891112 -0.12222514 -0.06089768 -0.18222854\n",
              "   -0.09929286 -0.03822932  0.28604913 -0.26623392  0.11302575 -0.09843312\n",
              "   -0.02334994  0.11012155 -0.28112814 -0.08216149  0.28766257 -0.07063317\n",
              "   -0.02125332  0.0896292  -0.1194901  -0.11061683  0.15259147  0.02522525\n",
              "   -0.10750781 -0.11653954  0.23216546  0.2494064 ]\n",
              "  [ 0.2534004  -0.28594095  0.16434002 -0.13812241  0.05082485  0.08979088\n",
              "   -0.25081554 -0.22538418  0.09389123  0.23539829  0.04240355  0.05492318\n",
              "   -0.03699648  0.05170456 -0.17007671 -0.15154772 -0.02505687  0.15309909\n",
              "    0.15026203 -0.13543732  0.21116078  0.1826218   0.00433379 -0.15126525\n",
              "    0.14906853 -0.14537245 -0.21914214  0.06130663 -0.22892493 -0.00074351\n",
              "   -0.04834068 -0.06395163  0.05628049  0.2338748  -0.06228673 -0.2725407\n",
              "   -0.10392024  0.22844034  0.10840279 -0.17675033  0.04487184 -0.1481007\n",
              "   -0.09477286  0.05293852 -0.0556502  -0.08246714  0.05785713 -0.11715005\n",
              "   -0.10547969 -0.0554032  -0.04068816  0.1838786  -0.16961288  0.15917605\n",
              "   -0.02056703 -0.15862131  0.2770309  -0.12994158 -0.07444926  0.01286408\n",
              "    0.19155857 -0.26226488  0.05520466 -0.20984899]]>,\n",
              " <Variable path=sequential_1/dense_2/bias, shape=(64,), dtype=float32, value=[0. 0. 0. 0. 0. 0. 0. 0. 0. 0. 0. 0. 0. 0. 0. 0. 0. 0. 0. 0. 0. 0. 0. 0.\n",
              "  0. 0. 0. 0. 0. 0. 0. 0. 0. 0. 0. 0. 0. 0. 0. 0. 0. 0. 0. 0. 0. 0. 0. 0.\n",
              "  0. 0. 0. 0. 0. 0. 0. 0. 0. 0. 0. 0. 0. 0. 0. 0.]>,\n",
              " <Variable path=sequential_1/dense_3/kernel, shape=(64, 10), dtype=float32, value=[[-0.20858985  0.14946613  0.16602653  0.09324658  0.03320292 -0.26825354\n",
              "    0.17720073 -0.25814384  0.23543814  0.2723463 ]\n",
              "  [-0.14622362  0.17408997 -0.23358776  0.17505577  0.00271279  0.00762382\n",
              "    0.03798088  0.22112527  0.1228767  -0.09054826]\n",
              "  [ 0.14858744 -0.05798317 -0.20048639 -0.21180317 -0.0513517   0.18915021\n",
              "   -0.09459901  0.14732927 -0.07240973  0.01278976]\n",
              "  [-0.07219934  0.2532244   0.06023404 -0.12125029  0.22782573 -0.12095158\n",
              "   -0.22711474  0.27635852 -0.1867918   0.27041057]\n",
              "  [-0.23806179 -0.15009785 -0.04152775 -0.1931569  -0.09045941  0.16161725\n",
              "    0.00289363 -0.12726606  0.26863238  0.18651313]\n",
              "  [-0.251306   -0.07045697  0.12597367  0.02177048  0.17758009  0.19992456\n",
              "   -0.13262694 -0.26287305  0.07826945 -0.2676917 ]\n",
              "  [ 0.15415767  0.2585663  -0.21954     0.09729517  0.27467754  0.23494825\n",
              "    0.2082001  -0.20146814  0.2493634  -0.02937648]\n",
              "  [ 0.27645823  0.12902766 -0.14102378 -0.12494732  0.15147945 -0.01127127\n",
              "   -0.25137603  0.13540313 -0.1013395   0.25265083]\n",
              "  [-0.16070932  0.23848256 -0.14215611 -0.16205603 -0.08677921  0.26888636\n",
              "   -0.1289045  -0.17897819 -0.2138228  -0.1107488 ]\n",
              "  [-0.1503935  -0.20411909 -0.08231957  0.03918681 -0.0298107   0.03817403\n",
              "    0.26372507 -0.2443551   0.02873343  0.06163812]\n",
              "  [-0.14750028  0.05853865  0.08488503  0.22208455 -0.22867048  0.10684729\n",
              "   -0.05880272  0.07438001 -0.05682926  0.26558736]\n",
              "  [ 0.25066885  0.02301392 -0.24753034  0.0642378  -0.09184943  0.24446252\n",
              "   -0.03940228 -0.22184892 -0.05868888 -0.04748501]\n",
              "  [ 0.01975253  0.06839395  0.24004027  0.2591426   0.1882382  -0.06244186\n",
              "    0.06515667 -0.08540621  0.23168412  0.10278636]\n",
              "  [ 0.05558118 -0.18951613  0.17420104  0.20336172  0.09312147 -0.24920617\n",
              "    0.02253938 -0.2426282   0.00060162  0.04932466]\n",
              "  [-0.13857299 -0.05211118 -0.22240622 -0.03479084 -0.1065726  -0.23029174\n",
              "   -0.09064236 -0.05195816 -0.21469265 -0.26375642]\n",
              "  [ 0.21493298 -0.11345363 -0.17922144  0.13622361 -0.08354837  0.2028125\n",
              "   -0.14510277  0.18004793  0.11025286  0.01114547]\n",
              "  [-0.22952947 -0.13142556  0.20616972  0.06829879  0.18209994  0.02184603\n",
              "    0.0923034  -0.13413665  0.14775091 -0.0498506 ]\n",
              "  [-0.20955068 -0.16124143 -0.00505182  0.20374629 -0.20858407  0.24747601\n",
              "   -0.06075644 -0.2241156   0.12371492 -0.18732658]\n",
              "  [-0.26270124  0.14232963 -0.19687897  0.214349    0.1369228   0.1991891\n",
              "    0.11898613 -0.11785373  0.07491383  0.05973524]\n",
              "  [-0.28070346 -0.07022181 -0.24142921 -0.1729252   0.12115851 -0.24941772\n",
              "    0.25788036  0.25960317 -0.01488549  0.09267455]\n",
              "  [ 0.04067403  0.10990411  0.23677668  0.17196757 -0.00696582  0.02242023\n",
              "   -0.01382419 -0.25486052 -0.03201276 -0.06160159]\n",
              "  [ 0.01086077 -0.19052985 -0.02521923 -0.18484291  0.21240398  0.15081123\n",
              "    0.19158098 -0.08782516 -0.1086344  -0.0907207 ]\n",
              "  [-0.10313904 -0.05470081 -0.00454482  0.11248314 -0.05784957  0.09631407\n",
              "   -0.18320177 -0.24738865 -0.10433485  0.15285718]\n",
              "  [-0.19799352 -0.0018656  -0.19368419 -0.14657976 -0.19804762 -0.13812764\n",
              "   -0.26655373  0.14338017 -0.2804081   0.00339982]\n",
              "  [ 0.18415582 -0.12159128  0.06268638 -0.16835701 -0.13502023 -0.24677928\n",
              "   -0.25438008  0.15366378  0.17738014  0.16660106]\n",
              "  [-0.15212949 -0.16657487 -0.00722015  0.24674174 -0.01498345 -0.21724387\n",
              "    0.0181466   0.12453231  0.03596607 -0.20215362]\n",
              "  [-0.28446254 -0.07533228 -0.22850469 -0.05502863  0.23748145  0.23424056\n",
              "   -0.03135449 -0.19611326 -0.28078818 -0.0655714 ]\n",
              "  [-0.12824558 -0.14759287 -0.25206974  0.07237938  0.25062898  0.20790559\n",
              "   -0.11730464 -0.05951624  0.06512931  0.04448614]\n",
              "  [ 0.04038498 -0.19954044 -0.0767213   0.26633212 -0.25769    -0.10548569\n",
              "   -0.18864024  0.04011661 -0.2219073   0.05395272]\n",
              "  [ 0.11705562 -0.2490753  -0.03825359 -0.25110543  0.03826928 -0.20669052\n",
              "    0.11173171 -0.01581442  0.10219592  0.10823745]\n",
              "  [-0.18655393 -0.12079291 -0.21203385 -0.0517308   0.10738307 -0.1257546\n",
              "    0.06243309 -0.04199441  0.167171    0.2269192 ]\n",
              "  [ 0.27834925 -0.21665621  0.16700235 -0.02105764  0.04414332  0.023018\n",
              "    0.24247852 -0.24615924 -0.04251397 -0.09714152]\n",
              "  [ 0.1601527   0.04869255 -0.07839246 -0.06011264 -0.2319377   0.16831797\n",
              "    0.02276742 -0.16998819 -0.10093264 -0.23171917]\n",
              "  [ 0.0216516  -0.03480761 -0.16230592 -0.22318503 -0.24371041 -0.09492874\n",
              "   -0.11779846  0.08053225 -0.16124114  0.00381869]\n",
              "  [ 0.2218006  -0.09260212  0.28239545 -0.04221186 -0.18180475  0.01096034\n",
              "    0.09218276  0.11818925 -0.1186128   0.2152395 ]\n",
              "  [-0.03280163  0.0223192  -0.25614315  0.2690231  -0.2269628  -0.18090536\n",
              "   -0.02727619  0.22320369  0.21236962  0.04092965]\n",
              "  [ 0.23788318 -0.07542543  0.01840717 -0.01306844  0.10333347 -0.27643695\n",
              "    0.24890932  0.24657896  0.21035278 -0.1503324 ]\n",
              "  [ 0.25776216  0.10227263 -0.04368478  0.10157996 -0.11828639 -0.12581915\n",
              "    0.24676213 -0.17565191 -0.05864176  0.23084036]\n",
              "  [-0.03753302  0.05103648  0.10629296  0.22697762  0.22930977  0.11323246\n",
              "   -0.10960907  0.2588043  -0.19202816  0.13274926]\n",
              "  [-0.24914941  0.01850888  0.02603173 -0.22616449 -0.17795612  0.09697893\n",
              "    0.21026495 -0.02205715 -0.05458376  0.20811707]\n",
              "  [-0.031885   -0.18809909 -0.1153971  -0.12013289  0.27508804 -0.09310809\n",
              "   -0.04822385  0.03600633  0.15605062 -0.19904608]\n",
              "  [ 0.00719759 -0.1747405   0.2634708   0.18804953 -0.12383705 -0.1799452\n",
              "   -0.01560241  0.2634366   0.16713828  0.02426437]\n",
              "  [ 0.0117313  -0.11710002  0.24304685 -0.25798234 -0.27509975  0.07536611\n",
              "   -0.08900861 -0.14222413  0.18953887  0.12767586]\n",
              "  [ 0.05053118  0.18575826  0.11407775  0.27642372 -0.14128456 -0.13780925\n",
              "    0.12973234 -0.21013662 -0.0319964   0.0697    ]\n",
              "  [ 0.25611314  0.22750524 -0.07896002 -0.22259352 -0.14213364 -0.01051155\n",
              "   -0.11492689 -0.28223556  0.0014421   0.11985612]\n",
              "  [-0.07043558 -0.00180924 -0.15225583 -0.2429288  -0.16628313  0.17514524\n",
              "    0.19414902 -0.18480423 -0.07712932 -0.20938802]\n",
              "  [-0.14995147  0.18659168  0.28469178  0.15665838  0.09133491 -0.13375233\n",
              "   -0.27921185 -0.06788337  0.05471513  0.09561875]\n",
              "  [-0.04036772  0.24175039 -0.18853644 -0.13095726 -0.10673337  0.19547123\n",
              "   -0.27356374  0.2018989  -0.27038395  0.16811642]\n",
              "  [-0.27974933  0.27276495 -0.03189814  0.12796396  0.2782502  -0.17809346\n",
              "    0.27439323 -0.11475806  0.07573643 -0.11804205]\n",
              "  [ 0.27821603 -0.27779597  0.19938505  0.25041685 -0.13021097 -0.02077439\n",
              "    0.05300719 -0.04671718  0.0847005   0.05315652]\n",
              "  [ 0.06919205 -0.02299103  0.17519045  0.2069633  -0.16456121 -0.19204527\n",
              "    0.06116343  0.25208727 -0.22325937 -0.2468511 ]\n",
              "  [ 0.00324386 -0.16306838 -0.24142568 -0.08489765 -0.2506601   0.0791598\n",
              "   -0.04755521 -0.229162    0.24816707  0.11051548]\n",
              "  [-0.24792191  0.00751281  0.14440927  0.02003711  0.21278614 -0.11628956\n",
              "   -0.17926571  0.09602448 -0.12498574 -0.25487614]\n",
              "  [ 0.16412705 -0.20604903 -0.10403179 -0.01706913 -0.16416195  0.06693971\n",
              "   -0.00590745 -0.02818611 -0.2758771  -0.202434  ]\n",
              "  [ 0.19524121  0.23357669 -0.16132927 -0.07307871  0.21849623  0.11168519\n",
              "    0.14134076  0.073062    0.11127746 -0.2658199 ]\n",
              "  [-0.08505686 -0.01063481  0.04322749  0.2786509  -0.05050084  0.22491977\n",
              "    0.04829058  0.04326972  0.06430554 -0.27200815]\n",
              "  [ 0.10340571  0.1466907  -0.21771196 -0.10203177 -0.19635311  0.16501668\n",
              "    0.27776322  0.18198907  0.188871   -0.22285877]\n",
              "  [ 0.1762976  -0.14698608  0.00814661 -0.1937835  -0.24944982 -0.21054138\n",
              "   -0.17274359  0.23080876 -0.2673419   0.05237871]\n",
              "  [-0.21196169  0.08847275  0.13634223  0.08538145 -0.1886166   0.17552638\n",
              "    0.2199063   0.14323133  0.07526156 -0.20908591]\n",
              "  [ 0.05307323 -0.05789064 -0.08215263  0.23524705  0.2484509   0.17094862\n",
              "    0.08374524  0.20914143  0.01837975  0.19012469]\n",
              "  [-0.17639868 -0.27211893  0.07749376 -0.0738221  -0.2237528  -0.26761186\n",
              "    0.15757617  0.08782226  0.24740562  0.19710946]\n",
              "  [-0.0130491  -0.01425073 -0.15756285  0.17841592 -0.20424019  0.15920353\n",
              "    0.22255847 -0.04449537 -0.03344053  0.24566898]\n",
              "  [-0.08797452 -0.21726286  0.24222997  0.03216746  0.13837871 -0.24753699\n",
              "    0.09089187 -0.20953017 -0.05961515 -0.21911754]\n",
              "  [-0.06241022 -0.19884871 -0.07216221 -0.2563472  -0.1992521   0.10717613\n",
              "   -0.18426749 -0.02950296 -0.239796    0.07823658]]>,\n",
              " <Variable path=sequential_1/dense_3/bias, shape=(10,), dtype=float32, value=[0. 0. 0. 0. 0. 0. 0. 0. 0. 0.]>]"
            ]
          },
          "metadata": {},
          "execution_count": 3
        }
      ],
      "source": [
        "model.build(input_shape=(None, 3))\n",
        "model.weights"
      ]
    },
    {
      "cell_type": "markdown",
      "metadata": {
        "id": "BpEIxcEB9T2x"
      },
      "source": [
        "**The summary method**"
      ]
    },
    {
      "cell_type": "code",
      "execution_count": 4,
      "metadata": {
        "id": "i_XFc9C29T2x",
        "outputId": "cd9e6830-2d66-4b84-c10e-b27b325e0a25",
        "colab": {
          "base_uri": "https://localhost:8080/",
          "height": 200
        }
      },
      "outputs": [
        {
          "output_type": "display_data",
          "data": {
            "text/plain": [
              "\u001b[1mModel: \"sequential_1\"\u001b[0m\n"
            ],
            "text/html": [
              "<pre style=\"white-space:pre;overflow-x:auto;line-height:normal;font-family:Menlo,'DejaVu Sans Mono',consolas,'Courier New',monospace\"><span style=\"font-weight: bold\">Model: \"sequential_1\"</span>\n",
              "</pre>\n"
            ]
          },
          "metadata": {}
        },
        {
          "output_type": "display_data",
          "data": {
            "text/plain": [
              "┏━━━━━━━━━━━━━━━━━━━━━━━━━━━━━━━━━┳━━━━━━━━━━━━━━━━━━━━━━━━┳━━━━━━━━━━━━━━━┓\n",
              "┃\u001b[1m \u001b[0m\u001b[1mLayer (type)                   \u001b[0m\u001b[1m \u001b[0m┃\u001b[1m \u001b[0m\u001b[1mOutput Shape          \u001b[0m\u001b[1m \u001b[0m┃\u001b[1m \u001b[0m\u001b[1m      Param #\u001b[0m\u001b[1m \u001b[0m┃\n",
              "┡━━━━━━━━━━━━━━━━━━━━━━━━━━━━━━━━━╇━━━━━━━━━━━━━━━━━━━━━━━━╇━━━━━━━━━━━━━━━┩\n",
              "│ dense_2 (\u001b[38;5;33mDense\u001b[0m)                 │ (\u001b[38;5;45mNone\u001b[0m, \u001b[38;5;34m64\u001b[0m)             │           \u001b[38;5;34m256\u001b[0m │\n",
              "├─────────────────────────────────┼────────────────────────┼───────────────┤\n",
              "│ dense_3 (\u001b[38;5;33mDense\u001b[0m)                 │ (\u001b[38;5;45mNone\u001b[0m, \u001b[38;5;34m10\u001b[0m)             │           \u001b[38;5;34m650\u001b[0m │\n",
              "└─────────────────────────────────┴────────────────────────┴───────────────┘\n"
            ],
            "text/html": [
              "<pre style=\"white-space:pre;overflow-x:auto;line-height:normal;font-family:Menlo,'DejaVu Sans Mono',consolas,'Courier New',monospace\">┏━━━━━━━━━━━━━━━━━━━━━━━━━━━━━━━━━┳━━━━━━━━━━━━━━━━━━━━━━━━┳━━━━━━━━━━━━━━━┓\n",
              "┃<span style=\"font-weight: bold\"> Layer (type)                    </span>┃<span style=\"font-weight: bold\"> Output Shape           </span>┃<span style=\"font-weight: bold\">       Param # </span>┃\n",
              "┡━━━━━━━━━━━━━━━━━━━━━━━━━━━━━━━━━╇━━━━━━━━━━━━━━━━━━━━━━━━╇━━━━━━━━━━━━━━━┩\n",
              "│ dense_2 (<span style=\"color: #0087ff; text-decoration-color: #0087ff\">Dense</span>)                 │ (<span style=\"color: #00d7ff; text-decoration-color: #00d7ff\">None</span>, <span style=\"color: #00af00; text-decoration-color: #00af00\">64</span>)             │           <span style=\"color: #00af00; text-decoration-color: #00af00\">256</span> │\n",
              "├─────────────────────────────────┼────────────────────────┼───────────────┤\n",
              "│ dense_3 (<span style=\"color: #0087ff; text-decoration-color: #0087ff\">Dense</span>)                 │ (<span style=\"color: #00d7ff; text-decoration-color: #00d7ff\">None</span>, <span style=\"color: #00af00; text-decoration-color: #00af00\">10</span>)             │           <span style=\"color: #00af00; text-decoration-color: #00af00\">650</span> │\n",
              "└─────────────────────────────────┴────────────────────────┴───────────────┘\n",
              "</pre>\n"
            ]
          },
          "metadata": {}
        },
        {
          "output_type": "display_data",
          "data": {
            "text/plain": [
              "\u001b[1m Total params: \u001b[0m\u001b[38;5;34m906\u001b[0m (3.54 KB)\n"
            ],
            "text/html": [
              "<pre style=\"white-space:pre;overflow-x:auto;line-height:normal;font-family:Menlo,'DejaVu Sans Mono',consolas,'Courier New',monospace\"><span style=\"font-weight: bold\"> Total params: </span><span style=\"color: #00af00; text-decoration-color: #00af00\">906</span> (3.54 KB)\n",
              "</pre>\n"
            ]
          },
          "metadata": {}
        },
        {
          "output_type": "display_data",
          "data": {
            "text/plain": [
              "\u001b[1m Trainable params: \u001b[0m\u001b[38;5;34m906\u001b[0m (3.54 KB)\n"
            ],
            "text/html": [
              "<pre style=\"white-space:pre;overflow-x:auto;line-height:normal;font-family:Menlo,'DejaVu Sans Mono',consolas,'Courier New',monospace\"><span style=\"font-weight: bold\"> Trainable params: </span><span style=\"color: #00af00; text-decoration-color: #00af00\">906</span> (3.54 KB)\n",
              "</pre>\n"
            ]
          },
          "metadata": {}
        },
        {
          "output_type": "display_data",
          "data": {
            "text/plain": [
              "\u001b[1m Non-trainable params: \u001b[0m\u001b[38;5;34m0\u001b[0m (0.00 B)\n"
            ],
            "text/html": [
              "<pre style=\"white-space:pre;overflow-x:auto;line-height:normal;font-family:Menlo,'DejaVu Sans Mono',consolas,'Courier New',monospace\"><span style=\"font-weight: bold\"> Non-trainable params: </span><span style=\"color: #00af00; text-decoration-color: #00af00\">0</span> (0.00 B)\n",
              "</pre>\n"
            ]
          },
          "metadata": {}
        }
      ],
      "source": [
        "model.summary()"
      ]
    },
    {
      "cell_type": "markdown",
      "metadata": {
        "id": "6a4zwwvF9T2x"
      },
      "source": [
        "**Naming models and layers with the `name` argument**"
      ]
    },
    {
      "cell_type": "code",
      "execution_count": 9,
      "metadata": {
        "id": "k0nkF7DM9T2x",
        "outputId": "3fbf19b0-dcc9-4cb4-80d8-18a3a25f5961",
        "colab": {
          "base_uri": "https://localhost:8080/",
          "height": 200
        }
      },
      "outputs": [
        {
          "output_type": "display_data",
          "data": {
            "text/plain": [
              "\u001b[1mModel: \"my_example_model\"\u001b[0m\n"
            ],
            "text/html": [
              "<pre style=\"white-space:pre;overflow-x:auto;line-height:normal;font-family:Menlo,'DejaVu Sans Mono',consolas,'Courier New',monospace\"><span style=\"font-weight: bold\">Model: \"my_example_model\"</span>\n",
              "</pre>\n"
            ]
          },
          "metadata": {}
        },
        {
          "output_type": "display_data",
          "data": {
            "text/plain": [
              "┏━━━━━━━━━━━━━━━━━━━━━━━━━━━━━━━━━┳━━━━━━━━━━━━━━━━━━━━━━━━┳━━━━━━━━━━━━━━━┓\n",
              "┃\u001b[1m \u001b[0m\u001b[1mLayer (type)                   \u001b[0m\u001b[1m \u001b[0m┃\u001b[1m \u001b[0m\u001b[1mOutput Shape          \u001b[0m\u001b[1m \u001b[0m┃\u001b[1m \u001b[0m\u001b[1m      Param #\u001b[0m\u001b[1m \u001b[0m┃\n",
              "┡━━━━━━━━━━━━━━━━━━━━━━━━━━━━━━━━━╇━━━━━━━━━━━━━━━━━━━━━━━━╇━━━━━━━━━━━━━━━┩\n",
              "│ my_first_layer (\u001b[38;5;33mDense\u001b[0m)          │ (\u001b[38;5;45mNone\u001b[0m, \u001b[38;5;34m64\u001b[0m)             │           \u001b[38;5;34m256\u001b[0m │\n",
              "├─────────────────────────────────┼────────────────────────┼───────────────┤\n",
              "│ my_last_layer (\u001b[38;5;33mDense\u001b[0m)           │ (\u001b[38;5;45mNone\u001b[0m, \u001b[38;5;34m10\u001b[0m)             │           \u001b[38;5;34m650\u001b[0m │\n",
              "└─────────────────────────────────┴────────────────────────┴───────────────┘\n"
            ],
            "text/html": [
              "<pre style=\"white-space:pre;overflow-x:auto;line-height:normal;font-family:Menlo,'DejaVu Sans Mono',consolas,'Courier New',monospace\">┏━━━━━━━━━━━━━━━━━━━━━━━━━━━━━━━━━┳━━━━━━━━━━━━━━━━━━━━━━━━┳━━━━━━━━━━━━━━━┓\n",
              "┃<span style=\"font-weight: bold\"> Layer (type)                    </span>┃<span style=\"font-weight: bold\"> Output Shape           </span>┃<span style=\"font-weight: bold\">       Param # </span>┃\n",
              "┡━━━━━━━━━━━━━━━━━━━━━━━━━━━━━━━━━╇━━━━━━━━━━━━━━━━━━━━━━━━╇━━━━━━━━━━━━━━━┩\n",
              "│ my_first_layer (<span style=\"color: #0087ff; text-decoration-color: #0087ff\">Dense</span>)          │ (<span style=\"color: #00d7ff; text-decoration-color: #00d7ff\">None</span>, <span style=\"color: #00af00; text-decoration-color: #00af00\">64</span>)             │           <span style=\"color: #00af00; text-decoration-color: #00af00\">256</span> │\n",
              "├─────────────────────────────────┼────────────────────────┼───────────────┤\n",
              "│ my_last_layer (<span style=\"color: #0087ff; text-decoration-color: #0087ff\">Dense</span>)           │ (<span style=\"color: #00d7ff; text-decoration-color: #00d7ff\">None</span>, <span style=\"color: #00af00; text-decoration-color: #00af00\">10</span>)             │           <span style=\"color: #00af00; text-decoration-color: #00af00\">650</span> │\n",
              "└─────────────────────────────────┴────────────────────────┴───────────────┘\n",
              "</pre>\n"
            ]
          },
          "metadata": {}
        },
        {
          "output_type": "display_data",
          "data": {
            "text/plain": [
              "\u001b[1m Total params: \u001b[0m\u001b[38;5;34m906\u001b[0m (3.54 KB)\n"
            ],
            "text/html": [
              "<pre style=\"white-space:pre;overflow-x:auto;line-height:normal;font-family:Menlo,'DejaVu Sans Mono',consolas,'Courier New',monospace\"><span style=\"font-weight: bold\"> Total params: </span><span style=\"color: #00af00; text-decoration-color: #00af00\">906</span> (3.54 KB)\n",
              "</pre>\n"
            ]
          },
          "metadata": {}
        },
        {
          "output_type": "display_data",
          "data": {
            "text/plain": [
              "\u001b[1m Trainable params: \u001b[0m\u001b[38;5;34m906\u001b[0m (3.54 KB)\n"
            ],
            "text/html": [
              "<pre style=\"white-space:pre;overflow-x:auto;line-height:normal;font-family:Menlo,'DejaVu Sans Mono',consolas,'Courier New',monospace\"><span style=\"font-weight: bold\"> Trainable params: </span><span style=\"color: #00af00; text-decoration-color: #00af00\">906</span> (3.54 KB)\n",
              "</pre>\n"
            ]
          },
          "metadata": {}
        },
        {
          "output_type": "display_data",
          "data": {
            "text/plain": [
              "\u001b[1m Non-trainable params: \u001b[0m\u001b[38;5;34m0\u001b[0m (0.00 B)\n"
            ],
            "text/html": [
              "<pre style=\"white-space:pre;overflow-x:auto;line-height:normal;font-family:Menlo,'DejaVu Sans Mono',consolas,'Courier New',monospace\"><span style=\"font-weight: bold\"> Non-trainable params: </span><span style=\"color: #00af00; text-decoration-color: #00af00\">0</span> (0.00 B)\n",
              "</pre>\n"
            ]
          },
          "metadata": {}
        }
      ],
      "source": [
        "model = keras.Sequential(name=\"my_example_model\")\n",
        "model.add(layers.Dense(64, activation=\"relu\", name=\"my_first_layer\"))\n",
        "model.add(layers.Dense(10, activation=\"softmax\", name=\"my_last_layer\"))\n",
        "model.build((None, 3))\n",
        "model.summary()"
      ]
    },
    {
      "cell_type": "markdown",
      "metadata": {
        "id": "jkG9rnlj9T2x"
      },
      "source": [
        "**Specifying the input shape of your model in advance**"
      ]
    },
    {
      "cell_type": "code",
      "execution_count": 10,
      "metadata": {
        "id": "1NQv2nqz9T2y"
      },
      "outputs": [],
      "source": [
        "model = keras.Sequential()\n",
        "model.add(keras.Input(shape=(3,)))\n",
        "model.add(layers.Dense(64, activation=\"relu\"))"
      ]
    },
    {
      "cell_type": "code",
      "execution_count": 11,
      "metadata": {
        "id": "tjiLS9id9T2y",
        "outputId": "12c74369-01ae-4a14-ea14-84ecc4bd100a",
        "colab": {
          "base_uri": "https://localhost:8080/",
          "height": 167
        }
      },
      "outputs": [
        {
          "output_type": "display_data",
          "data": {
            "text/plain": [
              "\u001b[1mModel: \"sequential_2\"\u001b[0m\n"
            ],
            "text/html": [
              "<pre style=\"white-space:pre;overflow-x:auto;line-height:normal;font-family:Menlo,'DejaVu Sans Mono',consolas,'Courier New',monospace\"><span style=\"font-weight: bold\">Model: \"sequential_2\"</span>\n",
              "</pre>\n"
            ]
          },
          "metadata": {}
        },
        {
          "output_type": "display_data",
          "data": {
            "text/plain": [
              "┏━━━━━━━━━━━━━━━━━━━━━━━━━━━━━━━━━┳━━━━━━━━━━━━━━━━━━━━━━━━┳━━━━━━━━━━━━━━━┓\n",
              "┃\u001b[1m \u001b[0m\u001b[1mLayer (type)                   \u001b[0m\u001b[1m \u001b[0m┃\u001b[1m \u001b[0m\u001b[1mOutput Shape          \u001b[0m\u001b[1m \u001b[0m┃\u001b[1m \u001b[0m\u001b[1m      Param #\u001b[0m\u001b[1m \u001b[0m┃\n",
              "┡━━━━━━━━━━━━━━━━━━━━━━━━━━━━━━━━━╇━━━━━━━━━━━━━━━━━━━━━━━━╇━━━━━━━━━━━━━━━┩\n",
              "│ dense_4 (\u001b[38;5;33mDense\u001b[0m)                 │ (\u001b[38;5;45mNone\u001b[0m, \u001b[38;5;34m64\u001b[0m)             │           \u001b[38;5;34m256\u001b[0m │\n",
              "└─────────────────────────────────┴────────────────────────┴───────────────┘\n"
            ],
            "text/html": [
              "<pre style=\"white-space:pre;overflow-x:auto;line-height:normal;font-family:Menlo,'DejaVu Sans Mono',consolas,'Courier New',monospace\">┏━━━━━━━━━━━━━━━━━━━━━━━━━━━━━━━━━┳━━━━━━━━━━━━━━━━━━━━━━━━┳━━━━━━━━━━━━━━━┓\n",
              "┃<span style=\"font-weight: bold\"> Layer (type)                    </span>┃<span style=\"font-weight: bold\"> Output Shape           </span>┃<span style=\"font-weight: bold\">       Param # </span>┃\n",
              "┡━━━━━━━━━━━━━━━━━━━━━━━━━━━━━━━━━╇━━━━━━━━━━━━━━━━━━━━━━━━╇━━━━━━━━━━━━━━━┩\n",
              "│ dense_4 (<span style=\"color: #0087ff; text-decoration-color: #0087ff\">Dense</span>)                 │ (<span style=\"color: #00d7ff; text-decoration-color: #00d7ff\">None</span>, <span style=\"color: #00af00; text-decoration-color: #00af00\">64</span>)             │           <span style=\"color: #00af00; text-decoration-color: #00af00\">256</span> │\n",
              "└─────────────────────────────────┴────────────────────────┴───────────────┘\n",
              "</pre>\n"
            ]
          },
          "metadata": {}
        },
        {
          "output_type": "display_data",
          "data": {
            "text/plain": [
              "\u001b[1m Total params: \u001b[0m\u001b[38;5;34m256\u001b[0m (1.00 KB)\n"
            ],
            "text/html": [
              "<pre style=\"white-space:pre;overflow-x:auto;line-height:normal;font-family:Menlo,'DejaVu Sans Mono',consolas,'Courier New',monospace\"><span style=\"font-weight: bold\"> Total params: </span><span style=\"color: #00af00; text-decoration-color: #00af00\">256</span> (1.00 KB)\n",
              "</pre>\n"
            ]
          },
          "metadata": {}
        },
        {
          "output_type": "display_data",
          "data": {
            "text/plain": [
              "\u001b[1m Trainable params: \u001b[0m\u001b[38;5;34m256\u001b[0m (1.00 KB)\n"
            ],
            "text/html": [
              "<pre style=\"white-space:pre;overflow-x:auto;line-height:normal;font-family:Menlo,'DejaVu Sans Mono',consolas,'Courier New',monospace\"><span style=\"font-weight: bold\"> Trainable params: </span><span style=\"color: #00af00; text-decoration-color: #00af00\">256</span> (1.00 KB)\n",
              "</pre>\n"
            ]
          },
          "metadata": {}
        },
        {
          "output_type": "display_data",
          "data": {
            "text/plain": [
              "\u001b[1m Non-trainable params: \u001b[0m\u001b[38;5;34m0\u001b[0m (0.00 B)\n"
            ],
            "text/html": [
              "<pre style=\"white-space:pre;overflow-x:auto;line-height:normal;font-family:Menlo,'DejaVu Sans Mono',consolas,'Courier New',monospace\"><span style=\"font-weight: bold\"> Non-trainable params: </span><span style=\"color: #00af00; text-decoration-color: #00af00\">0</span> (0.00 B)\n",
              "</pre>\n"
            ]
          },
          "metadata": {}
        }
      ],
      "source": [
        "model.summary()"
      ]
    },
    {
      "cell_type": "code",
      "execution_count": 12,
      "metadata": {
        "id": "yCvlXpCG9T2y",
        "outputId": "871d23d4-b186-4045-d127-406c231dd4d0",
        "colab": {
          "base_uri": "https://localhost:8080/",
          "height": 200
        }
      },
      "outputs": [
        {
          "output_type": "display_data",
          "data": {
            "text/plain": [
              "\u001b[1mModel: \"sequential_2\"\u001b[0m\n"
            ],
            "text/html": [
              "<pre style=\"white-space:pre;overflow-x:auto;line-height:normal;font-family:Menlo,'DejaVu Sans Mono',consolas,'Courier New',monospace\"><span style=\"font-weight: bold\">Model: \"sequential_2\"</span>\n",
              "</pre>\n"
            ]
          },
          "metadata": {}
        },
        {
          "output_type": "display_data",
          "data": {
            "text/plain": [
              "┏━━━━━━━━━━━━━━━━━━━━━━━━━━━━━━━━━┳━━━━━━━━━━━━━━━━━━━━━━━━┳━━━━━━━━━━━━━━━┓\n",
              "┃\u001b[1m \u001b[0m\u001b[1mLayer (type)                   \u001b[0m\u001b[1m \u001b[0m┃\u001b[1m \u001b[0m\u001b[1mOutput Shape          \u001b[0m\u001b[1m \u001b[0m┃\u001b[1m \u001b[0m\u001b[1m      Param #\u001b[0m\u001b[1m \u001b[0m┃\n",
              "┡━━━━━━━━━━━━━━━━━━━━━━━━━━━━━━━━━╇━━━━━━━━━━━━━━━━━━━━━━━━╇━━━━━━━━━━━━━━━┩\n",
              "│ dense_4 (\u001b[38;5;33mDense\u001b[0m)                 │ (\u001b[38;5;45mNone\u001b[0m, \u001b[38;5;34m64\u001b[0m)             │           \u001b[38;5;34m256\u001b[0m │\n",
              "├─────────────────────────────────┼────────────────────────┼───────────────┤\n",
              "│ dense_5 (\u001b[38;5;33mDense\u001b[0m)                 │ (\u001b[38;5;45mNone\u001b[0m, \u001b[38;5;34m10\u001b[0m)             │           \u001b[38;5;34m650\u001b[0m │\n",
              "└─────────────────────────────────┴────────────────────────┴───────────────┘\n"
            ],
            "text/html": [
              "<pre style=\"white-space:pre;overflow-x:auto;line-height:normal;font-family:Menlo,'DejaVu Sans Mono',consolas,'Courier New',monospace\">┏━━━━━━━━━━━━━━━━━━━━━━━━━━━━━━━━━┳━━━━━━━━━━━━━━━━━━━━━━━━┳━━━━━━━━━━━━━━━┓\n",
              "┃<span style=\"font-weight: bold\"> Layer (type)                    </span>┃<span style=\"font-weight: bold\"> Output Shape           </span>┃<span style=\"font-weight: bold\">       Param # </span>┃\n",
              "┡━━━━━━━━━━━━━━━━━━━━━━━━━━━━━━━━━╇━━━━━━━━━━━━━━━━━━━━━━━━╇━━━━━━━━━━━━━━━┩\n",
              "│ dense_4 (<span style=\"color: #0087ff; text-decoration-color: #0087ff\">Dense</span>)                 │ (<span style=\"color: #00d7ff; text-decoration-color: #00d7ff\">None</span>, <span style=\"color: #00af00; text-decoration-color: #00af00\">64</span>)             │           <span style=\"color: #00af00; text-decoration-color: #00af00\">256</span> │\n",
              "├─────────────────────────────────┼────────────────────────┼───────────────┤\n",
              "│ dense_5 (<span style=\"color: #0087ff; text-decoration-color: #0087ff\">Dense</span>)                 │ (<span style=\"color: #00d7ff; text-decoration-color: #00d7ff\">None</span>, <span style=\"color: #00af00; text-decoration-color: #00af00\">10</span>)             │           <span style=\"color: #00af00; text-decoration-color: #00af00\">650</span> │\n",
              "└─────────────────────────────────┴────────────────────────┴───────────────┘\n",
              "</pre>\n"
            ]
          },
          "metadata": {}
        },
        {
          "output_type": "display_data",
          "data": {
            "text/plain": [
              "\u001b[1m Total params: \u001b[0m\u001b[38;5;34m906\u001b[0m (3.54 KB)\n"
            ],
            "text/html": [
              "<pre style=\"white-space:pre;overflow-x:auto;line-height:normal;font-family:Menlo,'DejaVu Sans Mono',consolas,'Courier New',monospace\"><span style=\"font-weight: bold\"> Total params: </span><span style=\"color: #00af00; text-decoration-color: #00af00\">906</span> (3.54 KB)\n",
              "</pre>\n"
            ]
          },
          "metadata": {}
        },
        {
          "output_type": "display_data",
          "data": {
            "text/plain": [
              "\u001b[1m Trainable params: \u001b[0m\u001b[38;5;34m906\u001b[0m (3.54 KB)\n"
            ],
            "text/html": [
              "<pre style=\"white-space:pre;overflow-x:auto;line-height:normal;font-family:Menlo,'DejaVu Sans Mono',consolas,'Courier New',monospace\"><span style=\"font-weight: bold\"> Trainable params: </span><span style=\"color: #00af00; text-decoration-color: #00af00\">906</span> (3.54 KB)\n",
              "</pre>\n"
            ]
          },
          "metadata": {}
        },
        {
          "output_type": "display_data",
          "data": {
            "text/plain": [
              "\u001b[1m Non-trainable params: \u001b[0m\u001b[38;5;34m0\u001b[0m (0.00 B)\n"
            ],
            "text/html": [
              "<pre style=\"white-space:pre;overflow-x:auto;line-height:normal;font-family:Menlo,'DejaVu Sans Mono',consolas,'Courier New',monospace\"><span style=\"font-weight: bold\"> Non-trainable params: </span><span style=\"color: #00af00; text-decoration-color: #00af00\">0</span> (0.00 B)\n",
              "</pre>\n"
            ]
          },
          "metadata": {}
        }
      ],
      "source": [
        "model.add(layers.Dense(10, activation=\"softmax\"))\n",
        "model.summary()"
      ]
    },
    {
      "cell_type": "markdown",
      "metadata": {
        "id": "MuFzxneR9T2y"
      },
      "source": [
        "### The Functional API"
      ]
    },
    {
      "cell_type": "markdown",
      "metadata": {
        "id": "6JPwGFw29T2y"
      },
      "source": [
        "#### A simple example"
      ]
    },
    {
      "cell_type": "markdown",
      "metadata": {
        "id": "RGBmyHyG9T2y"
      },
      "source": [
        "**A simple Functional model with two `Dense` layers**"
      ]
    },
    {
      "cell_type": "code",
      "execution_count": 13,
      "metadata": {
        "id": "LzYf68619T2z"
      },
      "outputs": [],
      "source": [
        "inputs = keras.Input(shape=(3,), name=\"my_input\")\n",
        "features = layers.Dense(64, activation=\"relu\")(inputs)\n",
        "outputs = layers.Dense(10, activation=\"softmax\")(features)\n",
        "model = keras.Model(inputs=inputs, outputs=outputs)"
      ]
    },
    {
      "cell_type": "code",
      "execution_count": 14,
      "metadata": {
        "id": "lzmolQZE9T2z"
      },
      "outputs": [],
      "source": [
        "inputs = keras.Input(shape=(3,), name=\"my_input\")"
      ]
    },
    {
      "cell_type": "code",
      "execution_count": 15,
      "metadata": {
        "id": "IdvZSa4G9T2z",
        "outputId": "99d2375a-93e1-417a-d448-50eb4dd670ca",
        "colab": {
          "base_uri": "https://localhost:8080/"
        }
      },
      "outputs": [
        {
          "output_type": "execute_result",
          "data": {
            "text/plain": [
              "(None, 3)"
            ]
          },
          "metadata": {},
          "execution_count": 15
        }
      ],
      "source": [
        "inputs.shape"
      ]
    },
    {
      "cell_type": "code",
      "execution_count": 16,
      "metadata": {
        "id": "ab56uIPe9T2z",
        "outputId": "906e3858-56f1-44e4-886d-becc62bfe387",
        "colab": {
          "base_uri": "https://localhost:8080/",
          "height": 35
        }
      },
      "outputs": [
        {
          "output_type": "execute_result",
          "data": {
            "text/plain": [
              "'float32'"
            ],
            "application/vnd.google.colaboratory.intrinsic+json": {
              "type": "string"
            }
          },
          "metadata": {},
          "execution_count": 16
        }
      ],
      "source": [
        "inputs.dtype"
      ]
    },
    {
      "cell_type": "code",
      "execution_count": 17,
      "metadata": {
        "id": "eYem4WgV9T2z"
      },
      "outputs": [],
      "source": [
        "features = layers.Dense(64, activation=\"relu\")(inputs)"
      ]
    },
    {
      "cell_type": "code",
      "execution_count": 18,
      "metadata": {
        "id": "AElAbXc29T2z",
        "outputId": "465713d6-4e94-4478-f6a7-8fe2c0117cf8",
        "colab": {
          "base_uri": "https://localhost:8080/"
        }
      },
      "outputs": [
        {
          "output_type": "execute_result",
          "data": {
            "text/plain": [
              "(None, 64)"
            ]
          },
          "metadata": {},
          "execution_count": 18
        }
      ],
      "source": [
        "features.shape"
      ]
    },
    {
      "cell_type": "code",
      "execution_count": 19,
      "metadata": {
        "id": "aH8KbLvh9T2z"
      },
      "outputs": [],
      "source": [
        "outputs = layers.Dense(10, activation=\"softmax\")(features)\n",
        "model = keras.Model(inputs=inputs, outputs=outputs)"
      ]
    },
    {
      "cell_type": "code",
      "execution_count": 20,
      "metadata": {
        "id": "imAwdqI69T20",
        "outputId": "01e1218f-b95e-4083-969e-512162113f5e",
        "colab": {
          "base_uri": "https://localhost:8080/",
          "height": 233
        }
      },
      "outputs": [
        {
          "output_type": "display_data",
          "data": {
            "text/plain": [
              "\u001b[1mModel: \"functional_9\"\u001b[0m\n"
            ],
            "text/html": [
              "<pre style=\"white-space:pre;overflow-x:auto;line-height:normal;font-family:Menlo,'DejaVu Sans Mono',consolas,'Courier New',monospace\"><span style=\"font-weight: bold\">Model: \"functional_9\"</span>\n",
              "</pre>\n"
            ]
          },
          "metadata": {}
        },
        {
          "output_type": "display_data",
          "data": {
            "text/plain": [
              "┏━━━━━━━━━━━━━━━━━━━━━━━━━━━━━━━━━┳━━━━━━━━━━━━━━━━━━━━━━━━┳━━━━━━━━━━━━━━━┓\n",
              "┃\u001b[1m \u001b[0m\u001b[1mLayer (type)                   \u001b[0m\u001b[1m \u001b[0m┃\u001b[1m \u001b[0m\u001b[1mOutput Shape          \u001b[0m\u001b[1m \u001b[0m┃\u001b[1m \u001b[0m\u001b[1m      Param #\u001b[0m\u001b[1m \u001b[0m┃\n",
              "┡━━━━━━━━━━━━━━━━━━━━━━━━━━━━━━━━━╇━━━━━━━━━━━━━━━━━━━━━━━━╇━━━━━━━━━━━━━━━┩\n",
              "│ my_input (\u001b[38;5;33mInputLayer\u001b[0m)           │ (\u001b[38;5;45mNone\u001b[0m, \u001b[38;5;34m3\u001b[0m)              │             \u001b[38;5;34m0\u001b[0m │\n",
              "├─────────────────────────────────┼────────────────────────┼───────────────┤\n",
              "│ dense_8 (\u001b[38;5;33mDense\u001b[0m)                 │ (\u001b[38;5;45mNone\u001b[0m, \u001b[38;5;34m64\u001b[0m)             │           \u001b[38;5;34m256\u001b[0m │\n",
              "├─────────────────────────────────┼────────────────────────┼───────────────┤\n",
              "│ dense_9 (\u001b[38;5;33mDense\u001b[0m)                 │ (\u001b[38;5;45mNone\u001b[0m, \u001b[38;5;34m10\u001b[0m)             │           \u001b[38;5;34m650\u001b[0m │\n",
              "└─────────────────────────────────┴────────────────────────┴───────────────┘\n"
            ],
            "text/html": [
              "<pre style=\"white-space:pre;overflow-x:auto;line-height:normal;font-family:Menlo,'DejaVu Sans Mono',consolas,'Courier New',monospace\">┏━━━━━━━━━━━━━━━━━━━━━━━━━━━━━━━━━┳━━━━━━━━━━━━━━━━━━━━━━━━┳━━━━━━━━━━━━━━━┓\n",
              "┃<span style=\"font-weight: bold\"> Layer (type)                    </span>┃<span style=\"font-weight: bold\"> Output Shape           </span>┃<span style=\"font-weight: bold\">       Param # </span>┃\n",
              "┡━━━━━━━━━━━━━━━━━━━━━━━━━━━━━━━━━╇━━━━━━━━━━━━━━━━━━━━━━━━╇━━━━━━━━━━━━━━━┩\n",
              "│ my_input (<span style=\"color: #0087ff; text-decoration-color: #0087ff\">InputLayer</span>)           │ (<span style=\"color: #00d7ff; text-decoration-color: #00d7ff\">None</span>, <span style=\"color: #00af00; text-decoration-color: #00af00\">3</span>)              │             <span style=\"color: #00af00; text-decoration-color: #00af00\">0</span> │\n",
              "├─────────────────────────────────┼────────────────────────┼───────────────┤\n",
              "│ dense_8 (<span style=\"color: #0087ff; text-decoration-color: #0087ff\">Dense</span>)                 │ (<span style=\"color: #00d7ff; text-decoration-color: #00d7ff\">None</span>, <span style=\"color: #00af00; text-decoration-color: #00af00\">64</span>)             │           <span style=\"color: #00af00; text-decoration-color: #00af00\">256</span> │\n",
              "├─────────────────────────────────┼────────────────────────┼───────────────┤\n",
              "│ dense_9 (<span style=\"color: #0087ff; text-decoration-color: #0087ff\">Dense</span>)                 │ (<span style=\"color: #00d7ff; text-decoration-color: #00d7ff\">None</span>, <span style=\"color: #00af00; text-decoration-color: #00af00\">10</span>)             │           <span style=\"color: #00af00; text-decoration-color: #00af00\">650</span> │\n",
              "└─────────────────────────────────┴────────────────────────┴───────────────┘\n",
              "</pre>\n"
            ]
          },
          "metadata": {}
        },
        {
          "output_type": "display_data",
          "data": {
            "text/plain": [
              "\u001b[1m Total params: \u001b[0m\u001b[38;5;34m906\u001b[0m (3.54 KB)\n"
            ],
            "text/html": [
              "<pre style=\"white-space:pre;overflow-x:auto;line-height:normal;font-family:Menlo,'DejaVu Sans Mono',consolas,'Courier New',monospace\"><span style=\"font-weight: bold\"> Total params: </span><span style=\"color: #00af00; text-decoration-color: #00af00\">906</span> (3.54 KB)\n",
              "</pre>\n"
            ]
          },
          "metadata": {}
        },
        {
          "output_type": "display_data",
          "data": {
            "text/plain": [
              "\u001b[1m Trainable params: \u001b[0m\u001b[38;5;34m906\u001b[0m (3.54 KB)\n"
            ],
            "text/html": [
              "<pre style=\"white-space:pre;overflow-x:auto;line-height:normal;font-family:Menlo,'DejaVu Sans Mono',consolas,'Courier New',monospace\"><span style=\"font-weight: bold\"> Trainable params: </span><span style=\"color: #00af00; text-decoration-color: #00af00\">906</span> (3.54 KB)\n",
              "</pre>\n"
            ]
          },
          "metadata": {}
        },
        {
          "output_type": "display_data",
          "data": {
            "text/plain": [
              "\u001b[1m Non-trainable params: \u001b[0m\u001b[38;5;34m0\u001b[0m (0.00 B)\n"
            ],
            "text/html": [
              "<pre style=\"white-space:pre;overflow-x:auto;line-height:normal;font-family:Menlo,'DejaVu Sans Mono',consolas,'Courier New',monospace\"><span style=\"font-weight: bold\"> Non-trainable params: </span><span style=\"color: #00af00; text-decoration-color: #00af00\">0</span> (0.00 B)\n",
              "</pre>\n"
            ]
          },
          "metadata": {}
        }
      ],
      "source": [
        "model.summary()"
      ]
    },
    {
      "cell_type": "markdown",
      "metadata": {
        "id": "BZVV4N1h9T20"
      },
      "source": [
        "#### Multi-input, multi-output models"
      ]
    },
    {
      "cell_type": "markdown",
      "metadata": {
        "id": "3yLp30aP9T20"
      },
      "source": [
        "**A multi-input, multi-output Functional model**"
      ]
    },
    {
      "cell_type": "code",
      "execution_count": 21,
      "metadata": {
        "id": "TsCrXgHr9T20"
      },
      "outputs": [],
      "source": [
        "vocabulary_size = 10000\n",
        "num_tags = 100\n",
        "num_departments = 4\n",
        "\n",
        "title = keras.Input(shape=(vocabulary_size,), name=\"title\")\n",
        "text_body = keras.Input(shape=(vocabulary_size,), name=\"text_body\")\n",
        "tags = keras.Input(shape=(num_tags,), name=\"tags\")\n",
        "\n",
        "features = layers.Concatenate()([title, text_body, tags])\n",
        "features = layers.Dense(64, activation=\"relu\")(features)\n",
        "\n",
        "priority = layers.Dense(1, activation=\"sigmoid\", name=\"priority\")(features)\n",
        "department = layers.Dense(\n",
        "    num_departments, activation=\"softmax\", name=\"department\")(features)\n",
        "\n",
        "model = keras.Model(inputs=[title, text_body, tags], outputs=[priority, department])"
      ]
    },
    {
      "cell_type": "markdown",
      "metadata": {
        "id": "sUMlaeQM9T20"
      },
      "source": [
        "#### Training a multi-input, multi-output model"
      ]
    },
    {
      "cell_type": "markdown",
      "metadata": {
        "id": "W9iTnC0j9T20"
      },
      "source": [
        "**Training a model by providing lists of input & target arrays**"
      ]
    },
    {
      "cell_type": "code",
      "execution_count": 22,
      "metadata": {
        "id": "Rww7CMUH9T20",
        "outputId": "c91ae552-8434-4e61-a352-4b6da7f855f0",
        "colab": {
          "base_uri": "https://localhost:8080/"
        }
      },
      "outputs": [
        {
          "output_type": "stream",
          "name": "stdout",
          "text": [
            "\u001b[1m40/40\u001b[0m \u001b[32m━━━━━━━━━━━━━━━━━━━━\u001b[0m\u001b[37m\u001b[0m \u001b[1m3s\u001b[0m 7ms/step - department_accuracy: 0.2377 - department_loss: 39.6852 - loss: 40.0128 - priority_loss: 0.3276 - priority_mean_absolute_error: 0.4927\n",
            "\u001b[1m40/40\u001b[0m \u001b[32m━━━━━━━━━━━━━━━━━━━━\u001b[0m\u001b[37m\u001b[0m \u001b[1m1s\u001b[0m 5ms/step - department_accuracy: 0.0569 - department_loss: 24.6320 - loss: 24.9657 - priority_loss: 0.3337 - priority_mean_absolute_error: 0.5014\n",
            "\u001b[1m40/40\u001b[0m \u001b[32m━━━━━━━━━━━━━━━━━━━━\u001b[0m\u001b[37m\u001b[0m \u001b[1m0s\u001b[0m 3ms/step\n"
          ]
        }
      ],
      "source": [
        "import numpy as np\n",
        "\n",
        "num_samples = 1280\n",
        "\n",
        "# input data들\n",
        "title_data = np.random.randint(0, 2, size=(num_samples, vocabulary_size))\n",
        "text_body_data = np.random.randint(0, 2, size=(num_samples, vocabulary_size))\n",
        "tags_data = np.random.randint(0, 2, size=(num_samples, num_tags))\n",
        "# output data들(target)\n",
        "priority_data = np.random.random(size=(num_samples, 1))\n",
        "department_data = np.random.randint(0, 2, size=(num_samples, num_departments))\n",
        "\n",
        "# 컴파일\n",
        "model.compile(optimizer=\"rmsprop\",\n",
        "              loss=[\"mean_squared_error\", \"categorical_crossentropy\"],\n",
        "              metrics=[[\"mean_absolute_error\"], [\"accuracy\"]])\n",
        "# fit\n",
        "model.fit([title_data, text_body_data, tags_data],\n",
        "          [priority_data, department_data],\n",
        "          epochs=1)\n",
        "# evalutate\n",
        "model.evaluate([title_data, text_body_data, tags_data],\n",
        "               [priority_data, department_data])\n",
        "priority_preds, department_preds = model.predict([title_data, text_body_data, tags_data])"
      ]
    },
    {
      "cell_type": "markdown",
      "metadata": {
        "id": "DbLXwp_89T20"
      },
      "source": [
        "**Training a model by providing dicts of input & target arrays**"
      ]
    },
    {
      "cell_type": "code",
      "execution_count": 24,
      "metadata": {
        "id": "Zwp1XSRK9T21",
        "outputId": "0e61d8b0-9fea-4588-ef68-55dfbb6b4bb8",
        "colab": {
          "base_uri": "https://localhost:8080/"
        }
      },
      "outputs": [
        {
          "output_type": "stream",
          "name": "stdout",
          "text": [
            "\u001b[1m40/40\u001b[0m \u001b[32m━━━━━━━━━━━━━━━━━━━━\u001b[0m\u001b[37m\u001b[0m \u001b[1m2s\u001b[0m 5ms/step - department_accuracy: 0.2850 - department_loss: 57.7495 - loss: 58.0763 - priority_loss: 0.3268 - priority_mean_absolute_error: 0.4916\n",
            "\u001b[1m40/40\u001b[0m \u001b[32m━━━━━━━━━━━━━━━━━━━━\u001b[0m\u001b[37m\u001b[0m \u001b[1m1s\u001b[0m 5ms/step - department_accuracy: 0.2201 - department_loss: 69.9439 - loss: 70.2776 - priority_loss: 0.3337 - priority_mean_absolute_error: 0.5014\n",
            "\u001b[1m40/40\u001b[0m \u001b[32m━━━━━━━━━━━━━━━━━━━━\u001b[0m\u001b[37m\u001b[0m \u001b[1m1s\u001b[0m 6ms/step\n"
          ]
        }
      ],
      "source": [
        "model.compile(optimizer=\"rmsprop\",\n",
        "              loss={\"priority\": \"mean_squared_error\", \"department\": \"categorical_crossentropy\"},\n",
        "# 이렇게 딕셔너리 형태로 직접 지정할 수 있음\n",
        "              metrics={\"priority\": [\"mean_absolute_error\"], \"department\": [\"accuracy\"]})\n",
        "# 다만 이렇게 딕셔너리 형태로 지정하려면 layer의 name을 지정해 주어야 함\n",
        "model.fit({\"title\": title_data, \"text_body\": text_body_data, \"tags\": tags_data},\n",
        "          {\"priority\": priority_data, \"department\": department_data},\n",
        "          epochs=1)\n",
        "model.evaluate({\"title\": title_data, \"text_body\": text_body_data, \"tags\": tags_data},\n",
        "               {\"priority\": priority_data, \"department\": department_data})\n",
        "priority_preds, department_preds = model.predict(\n",
        "    {\"title\": title_data, \"text_body\": text_body_data, \"tags\": tags_data})"
      ]
    },
    {
      "cell_type": "markdown",
      "metadata": {
        "id": "EDGjV33q9T21"
      },
      "source": [
        "#### The power of the Functional API: Access to layer connectivity"
      ]
    },
    {
      "cell_type": "code",
      "execution_count": 26,
      "metadata": {
        "id": "Z7YKYzdD9T26",
        "outputId": "9111b065-5da6-4a07-f980-ed3b15a161bc",
        "colab": {
          "base_uri": "https://localhost:8080/",
          "height": 325
        }
      },
      "outputs": [
        {
          "output_type": "execute_result",
          "data": {
            "image/png": "[encoded data removed]",
            "text/plain": [
              "<IPython.core.display.Image object>"
            ]
          },
          "metadata": {},
          "execution_count": 26
        }
      ],
      "source": [
        "keras.utils.plot_model(model, \"ticket_classifier.png\", dpi = 75)"
      ]
    },
    {
      "cell_type": "code",
      "execution_count": 27,
      "metadata": {
        "id": "NeC9K2ZL9T26",
        "outputId": "b8e2289a-6cd5-4114-f2aa-fb0f729e5687",
        "colab": {
          "base_uri": "https://localhost:8080/",
          "height": 488
        }
      },
      "outputs": [
        {
          "output_type": "execute_result",
          "data": {
            "image/png": "[encoded data removed]",
            "text/plain": [
              "<IPython.core.display.Image object>"
            ]
          },
          "metadata": {},
          "execution_count": 27
        }
      ],
      "source": [
        "keras.utils.plot_model(model, \"ticket_classifier_with_shape_info.png\", show_shapes=True, dpi = 75)"
      ]
    },
    {
      "cell_type": "markdown",
      "metadata": {
        "id": "VJdq5Vse9T26"
      },
      "source": [
        "**Retrieving the inputs or outputs of a layer in a Functional model**"
      ]
    },
    {
      "cell_type": "code",
      "execution_count": 28,
      "metadata": {
        "id": "qC6Yhomz9T26",
        "outputId": "e985e4e3-8ed1-49b4-e811-1ad9da6bf760",
        "colab": {
          "base_uri": "https://localhost:8080/"
        }
      },
      "outputs": [
        {
          "output_type": "execute_result",
          "data": {
            "text/plain": [
              "[<InputLayer name=title, built=True>,\n",
              " <InputLayer name=text_body, built=True>,\n",
              " <InputLayer name=tags, built=True>,\n",
              " <Concatenate name=concatenate, built=True>,\n",
              " <Dense name=dense_10, built=True>,\n",
              " <Dense name=priority, built=True>,\n",
              " <Dense name=department, built=True>]"
            ]
          },
          "metadata": {},
          "execution_count": 28
        }
      ],
      "source": [
        "model.layers"
      ]
    },
    {
      "cell_type": "code",
      "execution_count": 29,
      "metadata": {
        "id": "JwhSFVpH9T27",
        "outputId": "c82b74c1-1c9b-4e97-a0a5-b45748b17aea",
        "colab": {
          "base_uri": "https://localhost:8080/"
        }
      },
      "outputs": [
        {
          "output_type": "execute_result",
          "data": {
            "text/plain": [
              "[<KerasTensor shape=(None, 10000), dtype=float32, sparse=False, name=title>,\n",
              " <KerasTensor shape=(None, 10000), dtype=float32, sparse=False, name=text_body>,\n",
              " <KerasTensor shape=(None, 100), dtype=float32, sparse=False, name=tags>]"
            ]
          },
          "metadata": {},
          "execution_count": 29
        }
      ],
      "source": [
        "model.layers[3].input"
      ]
    },
    {
      "cell_type": "code",
      "execution_count": 30,
      "metadata": {
        "id": "qQPgkZN59T27",
        "outputId": "a032fbdd-3772-4b6d-e590-fd4855cfc166",
        "colab": {
          "base_uri": "https://localhost:8080/"
        }
      },
      "outputs": [
        {
          "output_type": "execute_result",
          "data": {
            "text/plain": [
              "<KerasTensor shape=(None, 20100), dtype=float32, sparse=False, name=keras_tensor_26>"
            ]
          },
          "metadata": {},
          "execution_count": 30
        }
      ],
      "source": [
        "model.layers[3].output"
      ]
    },
    {
      "cell_type": "markdown",
      "metadata": {
        "id": "d6p3UWA-9T27"
      },
      "source": [
        "**Creating a new model by reusing intermediate layer outputs**"
      ]
    },
    {
      "cell_type": "code",
      "execution_count": 31,
      "metadata": {
        "id": "d_r1YD479T27"
      },
      "outputs": [],
      "source": [
        "features = model.layers[4].output\n",
        "difficulty = layers.Dense(3, activation=\"softmax\", name=\"difficulty\")(features)\n",
        "\n",
        "new_model = keras.Model(\n",
        "    inputs=[title, text_body, tags],\n",
        "    outputs=[priority, department, difficulty])"
      ]
    },
    {
      "cell_type": "code",
      "execution_count": 33,
      "metadata": {
        "id": "HN-Pvl4e9T27",
        "outputId": "807b1702-14aa-474d-b1d1-cadd7227f17f",
        "colab": {
          "base_uri": "https://localhost:8080/",
          "height": 379
        }
      },
      "outputs": [
        {
          "output_type": "execute_result",
          "data": {
            "image/png": "[encoded data removed]",
            "text/plain": [
              "<IPython.core.display.Image object>"
            ]
          },
          "metadata": {},
          "execution_count": 33
        }
      ],
      "source": [
        "keras.utils.plot_model(new_model, \"updated_ticket_classifier.png\", show_shapes=True, dpi = 75)"
      ]
    },
    {
      "cell_type": "markdown",
      "metadata": {
        "id": "ZNpjY-k19T27"
      },
      "source": [
        "### Subclassing the Model class"
      ]
    },
    {
      "cell_type": "markdown",
      "metadata": {
        "id": "lQVoxs339T28"
      },
      "source": [
        "#### Rewriting our previous example as a subclassed model"
      ]
    },
    {
      "cell_type": "markdown",
      "metadata": {
        "id": "e4gL0STT9T28"
      },
      "source": [
        "**A simple subclassed model**"
      ]
    },
    {
      "cell_type": "code",
      "execution_count": 34,
      "metadata": {
        "id": "1idybrDE9T28"
      },
      "outputs": [],
      "source": [
        "class CustomerTicketModel(keras.Model):\n",
        "\n",
        "    def __init__(self, num_departments):\n",
        "        super().__init__()\n",
        "        self.concat_layer = layers.Concatenate()\n",
        "        self.mixing_layer = layers.Dense(64, activation=\"relu\")\n",
        "        self.priority_scorer = layers.Dense(1, activation=\"sigmoid\")\n",
        "        self.department_classifier = layers.Dense(\n",
        "            num_departments, activation=\"softmax\")\n",
        "\n",
        "    def call(self, inputs):\n",
        "        title = inputs[\"title\"]\n",
        "        text_body = inputs[\"text_body\"]\n",
        "        tags = inputs[\"tags\"]\n",
        "\n",
        "        features = self.concat_layer([title, text_body, tags])\n",
        "        features = self.mixing_layer(features)\n",
        "        priority = self.priority_scorer(features)\n",
        "        department = self.department_classifier(features)\n",
        "        return priority, department"
      ]
    },
    {
      "cell_type": "code",
      "execution_count": 35,
      "metadata": {
        "id": "m7Hb3CDv9T28"
      },
      "outputs": [],
      "source": [
        "model = CustomerTicketModel(num_departments=4)\n",
        "\n",
        "priority, department = model(\n",
        "    {\"title\": title_data, \"text_body\": text_body_data, \"tags\": tags_data})"
      ]
    },
    {
      "cell_type": "code",
      "execution_count": 37,
      "metadata": {
        "id": "P5znIP-h9T28",
        "outputId": "9eb52103-794d-475e-fc4d-ac6241ec829f",
        "colab": {
          "base_uri": "https://localhost:8080/"
        }
      },
      "outputs": [
        {
          "output_type": "stream",
          "name": "stdout",
          "text": [
            "\u001b[1m40/40\u001b[0m \u001b[32m━━━━━━━━━━━━━━━━━━━━\u001b[0m\u001b[37m\u001b[0m \u001b[1m1s\u001b[0m 5ms/step - accuracy: 0.1921 - categorical_crossentropy_loss: 35.6540 - loss: 35.9720 - mean_absolute_error: 0.4845 - mean_squared_error_loss: 0.3180\n",
            "\u001b[1m40/40\u001b[0m \u001b[32m━━━━━━━━━━━━━━━━━━━━\u001b[0m\u001b[37m\u001b[0m \u001b[1m1s\u001b[0m 7ms/step - accuracy: 0.0569 - categorical_crossentropy_loss: 17.9689 - loss: 18.3027 - mean_absolute_error: 0.5014 - mean_squared_error_loss: 0.3337\n",
            "\u001b[1m40/40\u001b[0m \u001b[32m━━━━━━━━━━━━━━━━━━━━\u001b[0m\u001b[37m\u001b[0m \u001b[1m0s\u001b[0m 5ms/step\n"
          ]
        }
      ],
      "source": [
        "model.compile(optimizer=\"rmsprop\",\n",
        "              loss=[\"mean_squared_error\", \"categorical_crossentropy\"],\n",
        "              metrics=[[\"mean_absolute_error\"], [\"accuracy\"]])\n",
        "model.fit({\"title\": title_data,\n",
        "           \"text_body\": text_body_data,\n",
        "           \"tags\": tags_data},\n",
        "          [priority_data, department_data],\n",
        "          epochs=1)\n",
        "model.evaluate({\"title\": title_data,\n",
        "                \"text_body\": text_body_data,\n",
        "                \"tags\": tags_data},\n",
        "               [priority_data, department_data])\n",
        "priority_preds, department_preds = model.predict({\"title\": title_data,\n",
        "                                                  \"text_body\": text_body_data,\n",
        "                                                  \"tags\": tags_data})"
      ]
    },
    {
      "cell_type": "markdown",
      "metadata": {
        "id": "_nODEirc9T29"
      },
      "source": [
        "#### Beware: What subclassed models don't support"
      ]
    },
    {
      "cell_type": "markdown",
      "metadata": {
        "id": "ecmVLuOn9T29"
      },
      "source": [
        "### Mixing and matching different components"
      ]
    },
    {
      "cell_type": "markdown",
      "metadata": {
        "id": "W_ugRBiT9T29"
      },
      "source": [
        "**Creating a Functional model that includes a subclassed model**"
      ]
    },
    {
      "cell_type": "code",
      "execution_count": 38,
      "metadata": {
        "id": "oRtMeQeA9T29"
      },
      "outputs": [],
      "source": [
        "class Classifier(keras.Model):\n",
        "\n",
        "    def __init__(self, num_classes=2):\n",
        "        super().__init__()\n",
        "        if num_classes == 2:\n",
        "            num_units = 1\n",
        "            activation = \"sigmoid\"\n",
        "        else:\n",
        "            num_units = num_classes\n",
        "            activation = \"softmax\"\n",
        "        self.dense = layers.Dense(num_units, activation=activation)\n",
        "\n",
        "    def call(self, inputs):\n",
        "        return self.dense(inputs)\n",
        "\n",
        "inputs = keras.Input(shape=(3,))\n",
        "features = layers.Dense(64, activation=\"relu\")(inputs)\n",
        "outputs = Classifier(num_classes=10)(features)\n",
        "model = keras.Model(inputs=inputs, outputs=outputs)"
      ]
    },
    {
      "cell_type": "markdown",
      "metadata": {
        "id": "ChAUnsOF9T29"
      },
      "source": [
        "**Creating a subclassed model that includes a Functional model**"
      ]
    },
    {
      "cell_type": "code",
      "execution_count": 39,
      "metadata": {
        "id": "mqyUubEt9T2-"
      },
      "outputs": [],
      "source": [
        "inputs = keras.Input(shape=(64,))\n",
        "outputs = layers.Dense(1, activation=\"sigmoid\")(inputs)\n",
        "binary_classifier = keras.Model(inputs=inputs, outputs=outputs)\n",
        "\n",
        "class MyModel(keras.Model):\n",
        "\n",
        "    def __init__(self, num_classes=2):\n",
        "        super().__init__()\n",
        "        self.dense = layers.Dense(64, activation=\"relu\")\n",
        "        self.classifier = binary_classifier\n",
        "\n",
        "    def call(self, inputs):\n",
        "        features = self.dense(inputs)\n",
        "        return self.classifier(features)\n",
        "\n",
        "model = MyModel()"
      ]
    },
    {
      "cell_type": "markdown",
      "metadata": {
        "id": "utqY8jQB9T2-"
      },
      "source": [
        "### Remember: Use the right tool for the job"
      ]
    },
    {
      "cell_type": "markdown",
      "metadata": {
        "id": "fGjUoh0O9T2-"
      },
      "source": [
        "## Using built-in training and evaluation loops"
      ]
    },
    {
      "cell_type": "markdown",
      "metadata": {
        "id": "MPtFYBAM9T2-"
      },
      "source": [
        "**The standard workflow: `compile()`, `fit()`, `evaluate()`, `predict()`**"
      ]
    },
    {
      "cell_type": "code",
      "execution_count": 40,
      "metadata": {
        "id": "xvsBZJ869T2-",
        "outputId": "82e10fc2-9ddf-42ee-a7d7-2c346d71be5e",
        "colab": {
          "base_uri": "https://localhost:8080/"
        }
      },
      "outputs": [
        {
          "output_type": "stream",
          "name": "stdout",
          "text": [
            "Downloading data from https://storage.googleapis.com/tensorflow/tf-keras-datasets/mnist.npz\n",
            "\u001b[1m11490434/11490434\u001b[0m \u001b[32m━━━━━━━━━━━━━━━━━━━━\u001b[0m\u001b[37m\u001b[0m \u001b[1m0s\u001b[0m 0us/step\n",
            "Epoch 1/3\n",
            "\u001b[1m1563/1563\u001b[0m \u001b[32m━━━━━━━━━━━━━━━━━━━━\u001b[0m\u001b[37m\u001b[0m \u001b[1m8s\u001b[0m 4ms/step - accuracy: 0.8603 - loss: 0.4565 - val_accuracy: 0.9580 - val_loss: 0.1488\n",
            "Epoch 2/3\n",
            "\u001b[1m1563/1563\u001b[0m \u001b[32m━━━━━━━━━━━━━━━━━━━━\u001b[0m\u001b[37m\u001b[0m \u001b[1m4s\u001b[0m 2ms/step - accuracy: 0.9514 - loss: 0.1680 - val_accuracy: 0.9686 - val_loss: 0.1148\n",
            "Epoch 3/3\n",
            "\u001b[1m1563/1563\u001b[0m \u001b[32m━━━━━━━━━━━━━━━━━━━━\u001b[0m\u001b[37m\u001b[0m \u001b[1m5s\u001b[0m 3ms/step - accuracy: 0.9646 - loss: 0.1301 - val_accuracy: 0.9707 - val_loss: 0.1051\n",
            "\u001b[1m313/313\u001b[0m \u001b[32m━━━━━━━━━━━━━━━━━━━━\u001b[0m\u001b[37m\u001b[0m \u001b[1m1s\u001b[0m 3ms/step - accuracy: 0.9699 - loss: 0.1084\n",
            "\u001b[1m313/313\u001b[0m \u001b[32m━━━━━━━━━━━━━━━━━━━━\u001b[0m\u001b[37m\u001b[0m \u001b[1m1s\u001b[0m 2ms/step\n"
          ]
        }
      ],
      "source": [
        "from tensorflow.keras.datasets import mnist\n",
        "\n",
        "def get_mnist_model():\n",
        "    inputs = keras.Input(shape=(28 * 28,))\n",
        "    features = layers.Dense(512, activation=\"relu\")(inputs)\n",
        "    features = layers.Dropout(0.5)(features)\n",
        "    outputs = layers.Dense(10, activation=\"softmax\")(features)\n",
        "    model = keras.Model(inputs, outputs)\n",
        "    return model\n",
        "\n",
        "(images, labels), (test_images, test_labels) = mnist.load_data()\n",
        "images = images.reshape((60000, 28 * 28)).astype(\"float32\") / 255\n",
        "test_images = test_images.reshape((10000, 28 * 28)).astype(\"float32\") / 255\n",
        "train_images, val_images = images[10000:], images[:10000]\n",
        "train_labels, val_labels = labels[10000:], labels[:10000]\n",
        "\n",
        "model = get_mnist_model()\n",
        "model.compile(optimizer=\"rmsprop\",\n",
        "              loss=\"sparse_categorical_crossentropy\",\n",
        "              metrics=[\"accuracy\"])\n",
        "model.fit(train_images, train_labels,\n",
        "          epochs=3,\n",
        "          validation_data=(val_images, val_labels))\n",
        "test_metrics = model.evaluate(test_images, test_labels)\n",
        "predictions = model.predict(test_images)"
      ]
    },
    {
      "cell_type": "markdown",
      "metadata": {
        "id": "pK6STYTZ9T2-"
      },
      "source": [
        "### Writing your own metrics"
      ]
    },
    {
      "cell_type": "markdown",
      "metadata": {
        "id": "e0lwQ3Gq9T2-"
      },
      "source": [
        "**Implementing a custom metric by subclassing the `Metric` class**"
      ]
    },
    {
      "cell_type": "code",
      "execution_count": 41,
      "metadata": {
        "id": "dLUKHEqu9T2_"
      },
      "outputs": [],
      "source": [
        "from keras import ops\n",
        "class RootMeanSquaredError(keras.metrics.Metric): #1\n",
        "  def __init__(self, name=\"rmse\", **kwargs): #2\n",
        "    super().__init__(name=name, **kwargs) #2\n",
        "    self.mse_sum = self.add_weight(name=\"mse_sum\", initializer=\"zeros\") #2\n",
        "    self.total_samples = self.add_weight( #2\n",
        "      name=\"total_samples\", initializer=\"zeros\") #2\n",
        "\n",
        "  def update_state(self, y_true, y_pred, sample_weight=None): #3\n",
        "    y_true = ops.one_hot(y_true, num_classes=ops.shape(y_pred)[1]) #3\n",
        "    mse = ops.sum(ops.square(y_true - y_pred)) #3\n",
        "    self.mse_sum.assign_add(mse) #3\n",
        "    num_samples = ops.shape(y_pred)[0] #3\n",
        "    self.total_samples.assign_add(num_samples) #3\n",
        "\n",
        "  def result(self):\n",
        "    return ops.sqrt(self.mse_sum / self.total_samples)\n",
        "\n",
        "  def reset_state(self):\n",
        "    self.mse_sum.assign(0.)\n",
        "    self.total_samples.assign(0)"
      ]
    },
    {
      "cell_type": "code",
      "source": [
        "m = RootMeanSquaredError()\n",
        "m.update_state(np.array([0, 1]), np.array([[0.05, 0.95, 0], [0.1, 0.8, 0.1]]))\n",
        "m.result()"
      ],
      "metadata": {
        "id": "JHV2kwkgGY5Y",
        "outputId": "6ce80f2f-ba53-4d97-fa08-999ac209a188",
        "colab": {
          "base_uri": "https://localhost:8080/"
        }
      },
      "execution_count": 42,
      "outputs": [
        {
          "output_type": "execute_result",
          "data": {
            "text/plain": [
              "<tf.Tensor: shape=(), dtype=float32, numpy=0.9656603336334229>"
            ]
          },
          "metadata": {},
          "execution_count": 42
        }
      ]
    },
    {
      "cell_type": "code",
      "execution_count": 43,
      "metadata": {
        "id": "IAlkw_3T9T2_",
        "outputId": "d349eceb-574c-4618-ab2a-7500ed4a9d8d",
        "colab": {
          "base_uri": "https://localhost:8080/"
        }
      },
      "outputs": [
        {
          "output_type": "stream",
          "name": "stdout",
          "text": [
            "Epoch 1/3\n",
            "\u001b[1m1563/1563\u001b[0m \u001b[32m━━━━━━━━━━━━━━━━━━━━\u001b[0m\u001b[37m\u001b[0m \u001b[1m8s\u001b[0m 4ms/step - accuracy: 0.8645 - loss: 0.4479 - rmse: 0.4393 - val_accuracy: 0.9583 - val_loss: 0.1478 - val_rmse: 0.2552\n",
            "Epoch 2/3\n",
            "\u001b[1m1563/1563\u001b[0m \u001b[32m━━━━━━━━━━━━━━━━━━━━\u001b[0m\u001b[37m\u001b[0m \u001b[1m5s\u001b[0m 3ms/step - accuracy: 0.9515 - loss: 0.1637 - rmse: 0.2712 - val_accuracy: 0.9671 - val_loss: 0.1182 - val_rmse: 0.2233\n",
            "Epoch 3/3\n",
            "\u001b[1m1563/1563\u001b[0m \u001b[32m━━━━━━━━━━━━━━━━━━━━\u001b[0m\u001b[37m\u001b[0m \u001b[1m5s\u001b[0m 3ms/step - accuracy: 0.9617 - loss: 0.1321 - rmse: 0.2408 - val_accuracy: 0.9730 - val_loss: 0.1054 - val_rmse: 0.2070\n",
            "\u001b[1m313/313\u001b[0m \u001b[32m━━━━━━━━━━━━━━━━━━━━\u001b[0m\u001b[37m\u001b[0m \u001b[1m1s\u001b[0m 2ms/step - accuracy: 0.9685 - loss: 0.1077 - rmse: 0.2190\n"
          ]
        }
      ],
      "source": [
        "model = get_mnist_model()\n",
        "model.compile(optimizer=\"rmsprop\",\n",
        "              loss=\"sparse_categorical_crossentropy\",\n",
        "              metrics=[\"accuracy\", RootMeanSquaredError()])\n",
        "model.fit(train_images, train_labels,\n",
        "          epochs=3,\n",
        "          validation_data=(val_images, val_labels))\n",
        "test_metrics = model.evaluate(test_images, test_labels)"
      ]
    },
    {
      "cell_type": "code",
      "source": [
        "model = get_mnist_model()\n",
        "model.compile(optimizer=keras.optimizers.RMSprop(),\n",
        "              loss=keras.losses.SparseCategoricalCrossentropy(),\n",
        "              metrics=[keras.metrics.SparseCategoricalAccuracy(), RootMeanSquaredError()])\n",
        "model.fit(train_images, train_labels,\n",
        "          epochs=3,\n",
        "          validation_data=(val_images, val_labels))\n",
        "test_metrics = model.evaluate(test_images, test_labels)"
      ],
      "metadata": {
        "id": "cdB2AI9NF0JB",
        "outputId": "5d929f5f-fafb-4654-f0f3-4395a5e79eee",
        "colab": {
          "base_uri": "https://localhost:8080/"
        }
      },
      "execution_count": 44,
      "outputs": [
        {
          "output_type": "stream",
          "name": "stdout",
          "text": [
            "Epoch 1/3\n",
            "\u001b[1m1563/1563\u001b[0m \u001b[32m━━━━━━━━━━━━━━━━━━━━\u001b[0m\u001b[37m\u001b[0m \u001b[1m8s\u001b[0m 4ms/step - loss: 0.4528 - rmse: 0.4408 - sparse_categorical_accuracy: 0.8626 - val_loss: 0.1415 - val_rmse: 0.2497 - val_sparse_categorical_accuracy: 0.9586\n",
            "Epoch 2/3\n",
            "\u001b[1m1563/1563\u001b[0m \u001b[32m━━━━━━━━━━━━━━━━━━━━\u001b[0m\u001b[37m\u001b[0m \u001b[1m8s\u001b[0m 3ms/step - loss: 0.1615 - rmse: 0.2679 - sparse_categorical_accuracy: 0.9536 - val_loss: 0.1205 - val_rmse: 0.2305 - val_sparse_categorical_accuracy: 0.9659\n",
            "Epoch 3/3\n",
            "\u001b[1m1563/1563\u001b[0m \u001b[32m━━━━━━━━━━━━━━━━━━━━\u001b[0m\u001b[37m\u001b[0m \u001b[1m4s\u001b[0m 3ms/step - loss: 0.1309 - rmse: 0.2383 - sparse_categorical_accuracy: 0.9633 - val_loss: 0.1017 - val_rmse: 0.2039 - val_sparse_categorical_accuracy: 0.9738\n",
            "\u001b[1m313/313\u001b[0m \u001b[32m━━━━━━━━━━━━━━━━━━━━\u001b[0m\u001b[37m\u001b[0m \u001b[1m1s\u001b[0m 2ms/step - loss: 0.1094 - rmse: 0.2153 - sparse_categorical_accuracy: 0.9687\n"
          ]
        }
      ]
    },
    {
      "cell_type": "code",
      "source": [
        "m = RootMeanSquaredError()\n",
        "m.update_state(np.array([1, 1]), np.array([[0.05, 0.95, 0], [0.1, 0.8, 0.1]]))\n",
        "m.result()"
      ],
      "metadata": {
        "id": "QFb59PJgGPqB",
        "outputId": "aeefc2b5-9713-4ae2-ecef-f133e9e3253b",
        "colab": {
          "base_uri": "https://localhost:8080/"
        }
      },
      "execution_count": 45,
      "outputs": [
        {
          "output_type": "execute_result",
          "data": {
            "text/plain": [
              "<tf.Tensor: shape=(), dtype=float32, numpy=0.18027755618095398>"
            ]
          },
          "metadata": {},
          "execution_count": 45
        }
      ]
    },
    {
      "cell_type": "code",
      "source": [
        "m = keras.metrics.SparseCategoricalCrossentropy()\n",
        "m.update_state(np.array([1, 1]), np.array([[0.05, 0.95, 0], [0.1, 0.8, 0.1]]))\n",
        "m.result()"
      ],
      "metadata": {
        "id": "ziZmgpk4GCh3",
        "outputId": "a6c5a490-837c-41e8-c786-b98f78e2b365",
        "colab": {
          "base_uri": "https://localhost:8080/"
        }
      },
      "execution_count": 46,
      "outputs": [
        {
          "output_type": "execute_result",
          "data": {
            "text/plain": [
              "<tf.Tensor: shape=(), dtype=float32, numpy=0.13721847534179688>"
            ]
          },
          "metadata": {},
          "execution_count": 46
        }
      ]
    },
    {
      "cell_type": "code",
      "source": [
        "m.update_state(train_labels[:5], model.predict(train_images[:5]))\n",
        "m.result()"
      ],
      "metadata": {
        "id": "kxLVROtWGJWB",
        "outputId": "66acea84-c1dd-42ac-ae10-bdbf8c12209b",
        "colab": {
          "base_uri": "https://localhost:8080/"
        }
      },
      "execution_count": 47,
      "outputs": [
        {
          "output_type": "stream",
          "name": "stdout",
          "text": [
            "\u001b[1m1/1\u001b[0m \u001b[32m━━━━━━━━━━━━━━━━━━━━\u001b[0m\u001b[37m\u001b[0m \u001b[1m0s\u001b[0m 247ms/step\n"
          ]
        },
        {
          "output_type": "execute_result",
          "data": {
            "text/plain": [
              "<tf.Tensor: shape=(), dtype=float32, numpy=0.060417290776968>"
            ]
          },
          "metadata": {},
          "execution_count": 47
        }
      ]
    },
    {
      "cell_type": "code",
      "source": [
        "m = keras.metrics.SparseCategoricalAccuracy()\n",
        "m.update_state(train_labels[:5], model.predict(train_images[:5]))\n",
        "m.result()"
      ],
      "metadata": {
        "id": "0Hh627iXGDPE",
        "outputId": "abb8d288-dbb2-44a4-d8e7-022fedb3e5aa",
        "colab": {
          "base_uri": "https://localhost:8080/"
        }
      },
      "execution_count": 48,
      "outputs": [
        {
          "output_type": "stream",
          "name": "stdout",
          "text": [
            "\u001b[1m1/1\u001b[0m \u001b[32m━━━━━━━━━━━━━━━━━━━━\u001b[0m\u001b[37m\u001b[0m \u001b[1m0s\u001b[0m 28ms/step\n"
          ]
        },
        {
          "output_type": "execute_result",
          "data": {
            "text/plain": [
              "<tf.Tensor: shape=(), dtype=float32, numpy=1.0>"
            ]
          },
          "metadata": {},
          "execution_count": 48
        }
      ]
    },
    {
      "cell_type": "code",
      "source": [
        "# Accuracy\n",
        "m = keras.metrics.Accuracy()\n",
        "m.update_state([[1], [2], [3], [4]], [[0], [2], [3], [4]])\n",
        "print(m.result())"
      ],
      "metadata": {
        "id": "a4d_Nqf2bAjs",
        "outputId": "0884f4bb-f509-4daf-9163-a177f6262e5e",
        "colab": {
          "base_uri": "https://localhost:8080/"
        }
      },
      "execution_count": 49,
      "outputs": [
        {
          "output_type": "stream",
          "name": "stdout",
          "text": [
            "tf.Tensor(0.75, shape=(), dtype=float32)\n"
          ]
        }
      ]
    },
    {
      "cell_type": "code",
      "source": [
        "# binarycrossentropy\n",
        "m = keras.metrics.BinaryCrossentropy()\n",
        "m.update_state([[0, 1], [0, 0]], [[0.6, 0.4], [0.4, 0.6]])\n",
        "m.result()"
      ],
      "metadata": {
        "id": "6Rlq8_WVbRBF",
        "outputId": "64bd8c83-92d1-48bb-9cc3-28a109c48e05",
        "colab": {
          "base_uri": "https://localhost:8080/"
        }
      },
      "execution_count": 50,
      "outputs": [
        {
          "output_type": "execute_result",
          "data": {
            "text/plain": [
              "<tf.Tensor: shape=(), dtype=float32, numpy=0.8149244785308838>"
            ]
          },
          "metadata": {},
          "execution_count": 50
        }
      ]
    },
    {
      "cell_type": "code",
      "source": [
        "m = keras.metrics.CategoricalCrossentropy()\n",
        "m.update_state([[0, 1, 0], [0, 0, 1]],\n",
        "               [[0.05, 0.95, 0], [0.1, 0.8, 0.1]])\n",
        "m.result()"
      ],
      "metadata": {
        "id": "nyM4c4vwbi2X",
        "outputId": "986b2caf-7413-465e-ba1d-1624e8f0abdc",
        "colab": {
          "base_uri": "https://localhost:8080/"
        }
      },
      "execution_count": 51,
      "outputs": [
        {
          "output_type": "execute_result",
          "data": {
            "text/plain": [
              "<tf.Tensor: shape=(), dtype=float32, numpy=1.1769392490386963>"
            ]
          },
          "metadata": {},
          "execution_count": 51
        }
      ]
    },
    {
      "cell_type": "markdown",
      "metadata": {
        "id": "l-xdojBe9T2_"
      },
      "source": [
        "### Using callbacks"
      ]
    },
    {
      "cell_type": "markdown",
      "metadata": {
        "id": "Yjoa3xRa9T2_"
      },
      "source": [
        "#### The EarlyStopping and ModelCheckpoint callbacks"
      ]
    },
    {
      "cell_type": "markdown",
      "metadata": {
        "id": "G-NISZzp9T2_"
      },
      "source": [
        "**Using the `callbacks` argument in the `fit()` method**"
      ]
    },
    {
      "cell_type": "code",
      "execution_count": 52,
      "metadata": {
        "id": "yD7aKL5Q9T2_",
        "outputId": "7e928cd9-56b3-4a96-c50e-c53fc10c2694",
        "colab": {
          "base_uri": "https://localhost:8080/"
        }
      },
      "outputs": [
        {
          "output_type": "stream",
          "name": "stdout",
          "text": [
            "Epoch 1/10\n",
            "\u001b[1m1563/1563\u001b[0m \u001b[32m━━━━━━━━━━━━━━━━━━━━\u001b[0m\u001b[37m\u001b[0m \u001b[1m6s\u001b[0m 3ms/step - accuracy: 0.8645 - loss: 0.4438 - val_accuracy: 0.9598 - val_loss: 0.1362\n",
            "Epoch 2/10\n",
            "\u001b[1m1563/1563\u001b[0m \u001b[32m━━━━━━━━━━━━━━━━━━━━\u001b[0m\u001b[37m\u001b[0m \u001b[1m8s\u001b[0m 3ms/step - accuracy: 0.9525 - loss: 0.1659 - val_accuracy: 0.9667 - val_loss: 0.1207\n",
            "Epoch 3/10\n",
            "\u001b[1m1563/1563\u001b[0m \u001b[32m━━━━━━━━━━━━━━━━━━━━\u001b[0m\u001b[37m\u001b[0m \u001b[1m5s\u001b[0m 3ms/step - accuracy: 0.9623 - loss: 0.1319 - val_accuracy: 0.9723 - val_loss: 0.1000\n",
            "Epoch 4/10\n",
            "\u001b[1m1563/1563\u001b[0m \u001b[32m━━━━━━━━━━━━━━━━━━━━\u001b[0m\u001b[37m\u001b[0m \u001b[1m4s\u001b[0m 3ms/step - accuracy: 0.9687 - loss: 0.1116 - val_accuracy: 0.9725 - val_loss: 0.0977\n",
            "Epoch 5/10\n",
            "\u001b[1m1563/1563\u001b[0m \u001b[32m━━━━━━━━━━━━━━━━━━━━\u001b[0m\u001b[37m\u001b[0m \u001b[1m5s\u001b[0m 3ms/step - accuracy: 0.9718 - loss: 0.1017 - val_accuracy: 0.9780 - val_loss: 0.0930\n",
            "Epoch 6/10\n",
            "\u001b[1m1563/1563\u001b[0m \u001b[32m━━━━━━━━━━━━━━━━━━━━\u001b[0m\u001b[37m\u001b[0m \u001b[1m7s\u001b[0m 4ms/step - accuracy: 0.9740 - loss: 0.0937 - val_accuracy: 0.9754 - val_loss: 0.1028\n",
            "Epoch 7/10\n",
            "\u001b[1m1563/1563\u001b[0m \u001b[32m━━━━━━━━━━━━━━━━━━━━\u001b[0m\u001b[37m\u001b[0m \u001b[1m8s\u001b[0m 3ms/step - accuracy: 0.9747 - loss: 0.0879 - val_accuracy: 0.9788 - val_loss: 0.0903\n",
            "Epoch 8/10\n",
            "\u001b[1m1563/1563\u001b[0m \u001b[32m━━━━━━━━━━━━━━━━━━━━\u001b[0m\u001b[37m\u001b[0m \u001b[1m6s\u001b[0m 4ms/step - accuracy: 0.9784 - loss: 0.0779 - val_accuracy: 0.9797 - val_loss: 0.0888\n",
            "Epoch 9/10\n",
            "\u001b[1m1563/1563\u001b[0m \u001b[32m━━━━━━━━━━━━━━━━━━━━\u001b[0m\u001b[37m\u001b[0m \u001b[1m5s\u001b[0m 3ms/step - accuracy: 0.9800 - loss: 0.0714 - val_accuracy: 0.9795 - val_loss: 0.0866\n",
            "Epoch 10/10\n",
            "\u001b[1m1563/1563\u001b[0m \u001b[32m━━━━━━━━━━━━━━━━━━━━\u001b[0m\u001b[37m\u001b[0m \u001b[1m9s\u001b[0m 2ms/step - accuracy: 0.9809 - loss: 0.0667 - val_accuracy: 0.9790 - val_loss: 0.0923\n"
          ]
        },
        {
          "output_type": "execute_result",
          "data": {
            "text/plain": [
              "<keras.src.callbacks.history.History at 0x7c80645a60d0>"
            ]
          },
          "metadata": {},
          "execution_count": 52
        }
      ],
      "source": [
        "callbacks_list = [\n",
        "    keras.callbacks.EarlyStopping(\n",
        "        monitor=\"val_accuracy\",\n",
        "        patience=2,\n",
        "    ),\n",
        "    keras.callbacks.ModelCheckpoint(\n",
        "        filepath=\"checkpoint_path.keras\",\n",
        "        monitor=\"val_loss\",\n",
        "        save_best_only=True,\n",
        "    )\n",
        "]\n",
        "model = get_mnist_model()\n",
        "model.compile(optimizer=\"rmsprop\",\n",
        "              loss=\"sparse_categorical_crossentropy\",\n",
        "              metrics=[\"accuracy\"])\n",
        "model.fit(train_images, train_labels,\n",
        "          epochs=10,\n",
        "          callbacks=callbacks_list,\n",
        "          validation_data=(val_images, val_labels))"
      ]
    },
    {
      "cell_type": "code",
      "source": [
        "keras.callbacks.ModelCheckpoint?"
      ],
      "metadata": {
        "id": "yuFRC0UZebP8"
      },
      "execution_count": null,
      "outputs": []
    },
    {
      "cell_type": "code",
      "source": [
        "# 바꿔보기(모델을 깊게 쌓아서 overfit 잘 나게)\n",
        "model2 = keras.Sequential([\n",
        "    layers.Dense(512, activation = 'relu'),\n",
        "    layers.Dense(256, activation = 'relu'),\n",
        "    layers.Dense(128, activation = 'relu'),\n",
        "    layers.Dense(64, activation = 'relu'),\n",
        "    layers.Dense(32, activation = 'relu'),\n",
        "    layers.Dense(10, activation = 'softmax')\n",
        "]\n",
        ")\n",
        "callbacks = [\n",
        "    keras.callbacks.EarlyStopping(\n",
        "        monitor = 'val_loss',\n",
        "        patience = 7 # 7에포크동안 성능향상 없을 시 stop\n",
        "    ),\n",
        "    keras.callbacks.ModelCheckpoint(\n",
        "        filepath = 'test.callbacks.keras',\n",
        "        save_best_only = 1\n",
        "    )\n",
        "]\n",
        "\n",
        "model2.compile(optimizer=\"rmsprop\",\n",
        "              loss=\"sparse_categorical_crossentropy\",\n",
        "              metrics=[\"accuracy\"])\n",
        "model2.fit(train_images, train_labels,\n",
        "          epochs=50,\n",
        "          callbacks=callbacks,\n",
        "          validation_data=(val_images, val_labels))"
      ],
      "metadata": {
        "id": "5VzIzzHXc5Pv",
        "outputId": "bdfd043c-fa20-40b5-8d1e-c85d85592d49",
        "colab": {
          "base_uri": "https://localhost:8080/"
        }
      },
      "execution_count": 53,
      "outputs": [
        {
          "output_type": "stream",
          "name": "stdout",
          "text": [
            "Epoch 1/50\n",
            "\u001b[1m1563/1563\u001b[0m \u001b[32m━━━━━━━━━━━━━━━━━━━━\u001b[0m\u001b[37m\u001b[0m \u001b[1m9s\u001b[0m 4ms/step - accuracy: 0.8551 - loss: 0.4688 - val_accuracy: 0.9568 - val_loss: 0.1497\n",
            "Epoch 2/50\n",
            "\u001b[1m1563/1563\u001b[0m \u001b[32m━━━━━━━━━━━━━━━━━━━━\u001b[0m\u001b[37m\u001b[0m \u001b[1m7s\u001b[0m 3ms/step - accuracy: 0.9673 - loss: 0.1149 - val_accuracy: 0.9546 - val_loss: 0.1804\n",
            "Epoch 3/50\n",
            "\u001b[1m1563/1563\u001b[0m \u001b[32m━━━━━━━━━━━━━━━━━━━━\u001b[0m\u001b[37m\u001b[0m \u001b[1m5s\u001b[0m 3ms/step - accuracy: 0.9760 - loss: 0.0889 - val_accuracy: 0.9688 - val_loss: 0.1414\n",
            "Epoch 4/50\n",
            "\u001b[1m1563/1563\u001b[0m \u001b[32m━━━━━━━━━━━━━━━━━━━━\u001b[0m\u001b[37m\u001b[0m \u001b[1m6s\u001b[0m 3ms/step - accuracy: 0.9821 - loss: 0.0725 - val_accuracy: 0.9734 - val_loss: 0.1153\n",
            "Epoch 5/50\n",
            "\u001b[1m1563/1563\u001b[0m \u001b[32m━━━━━━━━━━━━━━━━━━━━\u001b[0m\u001b[37m\u001b[0m \u001b[1m4s\u001b[0m 3ms/step - accuracy: 0.9845 - loss: 0.0627 - val_accuracy: 0.9796 - val_loss: 0.0953\n",
            "Epoch 6/50\n",
            "\u001b[1m1563/1563\u001b[0m \u001b[32m━━━━━━━━━━━━━━━━━━━━\u001b[0m\u001b[37m\u001b[0m \u001b[1m5s\u001b[0m 3ms/step - accuracy: 0.9873 - loss: 0.0523 - val_accuracy: 0.9767 - val_loss: 0.1349\n",
            "Epoch 7/50\n",
            "\u001b[1m1563/1563\u001b[0m \u001b[32m━━━━━━━━━━━━━━━━━━━━\u001b[0m\u001b[37m\u001b[0m \u001b[1m4s\u001b[0m 3ms/step - accuracy: 0.9885 - loss: 0.0498 - val_accuracy: 0.9767 - val_loss: 0.1224\n",
            "Epoch 8/50\n",
            "\u001b[1m1563/1563\u001b[0m \u001b[32m━━━━━━━━━━━━━━━━━━━━\u001b[0m\u001b[37m\u001b[0m \u001b[1m5s\u001b[0m 3ms/step - accuracy: 0.9895 - loss: 0.0449 - val_accuracy: 0.9746 - val_loss: 0.1658\n",
            "Epoch 9/50\n",
            "\u001b[1m1563/1563\u001b[0m \u001b[32m━━━━━━━━━━━━━━━━━━━━\u001b[0m\u001b[37m\u001b[0m \u001b[1m5s\u001b[0m 3ms/step - accuracy: 0.9897 - loss: 0.0490 - val_accuracy: 0.9708 - val_loss: 0.2838\n",
            "Epoch 10/50\n",
            "\u001b[1m1563/1563\u001b[0m \u001b[32m━━━━━━━━━━━━━━━━━━━━\u001b[0m\u001b[37m\u001b[0m \u001b[1m5s\u001b[0m 3ms/step - accuracy: 0.9899 - loss: 0.0511 - val_accuracy: 0.9707 - val_loss: 0.1564\n",
            "Epoch 11/50\n",
            "\u001b[1m1563/1563\u001b[0m \u001b[32m━━━━━━━━━━━━━━━━━━━━\u001b[0m\u001b[37m\u001b[0m \u001b[1m6s\u001b[0m 4ms/step - accuracy: 0.9917 - loss: 0.0440 - val_accuracy: 0.9699 - val_loss: 0.3199\n",
            "Epoch 12/50\n",
            "\u001b[1m1563/1563\u001b[0m \u001b[32m━━━━━━━━━━━━━━━━━━━━\u001b[0m\u001b[37m\u001b[0m \u001b[1m10s\u001b[0m 3ms/step - accuracy: 0.9922 - loss: 0.0450 - val_accuracy: 0.9714 - val_loss: 0.3251\n"
          ]
        },
        {
          "output_type": "execute_result",
          "data": {
            "text/plain": [
              "<keras.src.callbacks.history.History at 0x7c807c2bb790>"
            ]
          },
          "metadata": {},
          "execution_count": 53
        }
      ]
    },
    {
      "cell_type": "code",
      "source": [
        "model2 = keras.Sequential([\n",
        "    layers.Dense(512, activation = 'relu'),\n",
        "    layers.Dense(256, activation = 'relu'),\n",
        "    layers.Dense(128, activation = 'relu'),\n",
        "    layers.Dense(64, activation = 'relu'),\n",
        "    layers.Dense(32, activation = 'relu'),\n",
        "    layers.Dense(10, activation = 'softmax')\n",
        "]\n",
        ")\n",
        "callbacks = [\n",
        "    keras.callbacks.EarlyStopping(\n",
        "        monitor = 'val_loss',\n",
        "        patience = 7\n",
        "    ),\n",
        "    keras.callbacks.ModelCheckpoint(\n",
        "        filepath = 'epoch:{epoch:02d}-validationloss:{val_loss:.2f}.keras',\n",
        "        save_best_only = 0\n",
        "    )\n",
        "]\n",
        "\n",
        "model2.compile(optimizer=\"rmsprop\",\n",
        "              loss=\"sparse_categorical_crossentropy\",\n",
        "              metrics=[\"accuracy\"])\n",
        "model2.fit(train_images, train_labels,\n",
        "          epochs=50,\n",
        "          callbacks=callbacks,\n",
        "          validation_data=(val_images, val_labels))\n"
      ],
      "metadata": {
        "id": "bwC8tKMMepFa",
        "outputId": "6caf14dd-4a23-45f7-ce43-ca83e318f807",
        "colab": {
          "base_uri": "https://localhost:8080/"
        }
      },
      "execution_count": null,
      "outputs": [
        {
          "output_type": "stream",
          "name": "stdout",
          "text": [
            "Epoch 1/50\n",
            "\u001b[1m1563/1563\u001b[0m \u001b[32m━━━━━━━━━━━━━━━━━━━━\u001b[0m\u001b[37m\u001b[0m \u001b[1m9s\u001b[0m 4ms/step - accuracy: 0.8547 - loss: 0.4623 - val_accuracy: 0.9521 - val_loss: 0.1728\n",
            "Epoch 2/50\n",
            "\u001b[1m1563/1563\u001b[0m \u001b[32m━━━━━━━━━━━━━━━━━━━━\u001b[0m\u001b[37m\u001b[0m \u001b[1m8s\u001b[0m 3ms/step - accuracy: 0.9674 - loss: 0.1187 - val_accuracy: 0.9687 - val_loss: 0.1171\n",
            "Epoch 3/50\n",
            "\u001b[1m1563/1563\u001b[0m \u001b[32m━━━━━━━━━━━━━━━━━━━━\u001b[0m\u001b[37m\u001b[0m \u001b[1m5s\u001b[0m 3ms/step - accuracy: 0.9774 - loss: 0.0821 - val_accuracy: 0.9724 - val_loss: 0.1235\n",
            "Epoch 4/50\n",
            "\u001b[1m1563/1563\u001b[0m \u001b[32m━━━━━━━━━━━━━━━━━━━━\u001b[0m\u001b[37m\u001b[0m \u001b[1m5s\u001b[0m 3ms/step - accuracy: 0.9819 - loss: 0.0694 - val_accuracy: 0.9732 - val_loss: 0.1221\n",
            "Epoch 5/50\n",
            "\u001b[1m1563/1563\u001b[0m \u001b[32m━━━━━━━━━━━━━━━━━━━━\u001b[0m\u001b[37m\u001b[0m \u001b[1m6s\u001b[0m 4ms/step - accuracy: 0.9838 - loss: 0.0590 - val_accuracy: 0.9732 - val_loss: 0.1523\n",
            "Epoch 6/50\n",
            "\u001b[1m1563/1563\u001b[0m \u001b[32m━━━━━━━━━━━━━━━━━━━━\u001b[0m\u001b[37m\u001b[0m \u001b[1m5s\u001b[0m 3ms/step - accuracy: 0.9867 - loss: 0.0547 - val_accuracy: 0.9739 - val_loss: 0.1673\n",
            "Epoch 7/50\n",
            "\u001b[1m1563/1563\u001b[0m \u001b[32m━━━━━━━━━━━━━━━━━━━━\u001b[0m\u001b[37m\u001b[0m \u001b[1m10s\u001b[0m 3ms/step - accuracy: 0.9879 - loss: 0.0541 - val_accuracy: 0.9734 - val_loss: 0.1755\n",
            "Epoch 8/50\n",
            "\u001b[1m1563/1563\u001b[0m \u001b[32m━━━━━━━━━━━━━━━━━━━━\u001b[0m\u001b[37m\u001b[0m \u001b[1m12s\u001b[0m 4ms/step - accuracy: 0.9897 - loss: 0.0451 - val_accuracy: 0.9718 - val_loss: 0.1979\n",
            "Epoch 9/50\n",
            "\u001b[1m1563/1563\u001b[0m \u001b[32m━━━━━━━━━━━━━━━━━━━━\u001b[0m\u001b[37m\u001b[0m \u001b[1m5s\u001b[0m 3ms/step - accuracy: 0.9912 - loss: 0.0460 - val_accuracy: 0.9775 - val_loss: 0.1759\n"
          ]
        },
        {
          "output_type": "execute_result",
          "data": {
            "text/plain": [
              "<keras.src.callbacks.history.History at 0x79c3a87f6d50>"
            ]
          },
          "metadata": {},
          "execution_count": 70
        }
      ]
    },
    {
      "cell_type": "code",
      "execution_count": 54,
      "metadata": {
        "id": "AVDApSd39T2_"
      },
      "outputs": [],
      "source": [
        "model = keras.models.load_model(\"checkpoint_path.keras\")"
      ]
    },
    {
      "cell_type": "markdown",
      "metadata": {
        "id": "CLLQ-6lr9T3A"
      },
      "source": [
        "### Writing your own callbacks"
      ]
    },
    {
      "cell_type": "markdown",
      "metadata": {
        "id": "ci7db4SD9T3A"
      },
      "source": [
        "**Creating a custom callback by subclassing the `Callback` class**"
      ]
    },
    {
      "cell_type": "code",
      "execution_count": 55,
      "metadata": {
        "id": "Caqjxfct9T3A"
      },
      "outputs": [],
      "source": [
        "from matplotlib import pyplot as plt\n",
        "\n",
        "class LossHistory(keras.callbacks.Callback):\n",
        "    def on_train_begin(self, logs):\n",
        "        self.per_batch_losses = []\n",
        "\n",
        "    def on_batch_end(self, batch, logs):\n",
        "        self.per_batch_losses.append(logs.get(\"loss\"))\n",
        "\n",
        "    def on_epoch_end(self, epoch, logs):\n",
        "        plt.clf()\n",
        "        plt.plot(range(len(self.per_batch_losses)), self.per_batch_losses,\n",
        "                 label=\"Training loss for each batch\")\n",
        "        plt.xlabel(f\"Batch (epoch {epoch})\")\n",
        "        plt.ylabel(\"Loss\")\n",
        "        plt.legend()\n",
        "        plt.savefig(f\"plot_at_epoch_{epoch}\")\n",
        "        self.per_batch_losses = []"
      ]
    },
    {
      "cell_type": "code",
      "execution_count": 56,
      "metadata": {
        "id": "M_5xiko_9T3A",
        "outputId": "3b60d859-8b31-4c9e-bde9-31370f811332",
        "colab": {
          "base_uri": "https://localhost:8080/",
          "height": 845
        }
      },
      "outputs": [
        {
          "output_type": "stream",
          "name": "stdout",
          "text": [
            "Epoch 1/10\n",
            "\u001b[1m1563/1563\u001b[0m \u001b[32m━━━━━━━━━━━━━━━━━━━━\u001b[0m\u001b[37m\u001b[0m \u001b[1m6s\u001b[0m 3ms/step - accuracy: 0.8643 - loss: 0.4510 - val_accuracy: 0.9584 - val_loss: 0.1500\n",
            "Epoch 2/10\n",
            "\u001b[1m1563/1563\u001b[0m \u001b[32m━━━━━━━━━━━━━━━━━━━━\u001b[0m\u001b[37m\u001b[0m \u001b[1m10s\u001b[0m 3ms/step - accuracy: 0.9519 - loss: 0.1651 - val_accuracy: 0.9674 - val_loss: 0.1143\n",
            "Epoch 3/10\n",
            "\u001b[1m1563/1563\u001b[0m \u001b[32m━━━━━━━━━━━━━━━━━━━━\u001b[0m\u001b[37m\u001b[0m \u001b[1m9s\u001b[0m 3ms/step - accuracy: 0.9632 - loss: 0.1276 - val_accuracy: 0.9705 - val_loss: 0.1052\n",
            "Epoch 4/10\n",
            "\u001b[1m1563/1563\u001b[0m \u001b[32m━━━━━━━━━━━━━━━━━━━━\u001b[0m\u001b[37m\u001b[0m \u001b[1m5s\u001b[0m 3ms/step - accuracy: 0.9679 - loss: 0.1167 - val_accuracy: 0.9749 - val_loss: 0.0984\n",
            "Epoch 5/10\n",
            "\u001b[1m1563/1563\u001b[0m \u001b[32m━━━━━━━━━━━━━━━━━━━━\u001b[0m\u001b[37m\u001b[0m \u001b[1m6s\u001b[0m 3ms/step - accuracy: 0.9721 - loss: 0.0978 - val_accuracy: 0.9757 - val_loss: 0.0957\n",
            "Epoch 6/10\n",
            "\u001b[1m1563/1563\u001b[0m \u001b[32m━━━━━━━━━━━━━━━━━━━━\u001b[0m\u001b[37m\u001b[0m \u001b[1m5s\u001b[0m 3ms/step - accuracy: 0.9746 - loss: 0.0928 - val_accuracy: 0.9771 - val_loss: 0.0922\n",
            "Epoch 7/10\n",
            "\u001b[1m1563/1563\u001b[0m \u001b[32m━━━━━━━━━━━━━━━━━━━━\u001b[0m\u001b[37m\u001b[0m \u001b[1m5s\u001b[0m 3ms/step - accuracy: 0.9766 - loss: 0.0841 - val_accuracy: 0.9778 - val_loss: 0.0926\n",
            "Epoch 8/10\n",
            "\u001b[1m1563/1563\u001b[0m \u001b[32m━━━━━━━━━━━━━━━━━━━━\u001b[0m\u001b[37m\u001b[0m \u001b[1m5s\u001b[0m 3ms/step - accuracy: 0.9781 - loss: 0.0826 - val_accuracy: 0.9791 - val_loss: 0.0906\n",
            "Epoch 9/10\n",
            "\u001b[1m1563/1563\u001b[0m \u001b[32m━━━━━━━━━━━━━━━━━━━━\u001b[0m\u001b[37m\u001b[0m \u001b[1m4s\u001b[0m 3ms/step - accuracy: 0.9793 - loss: 0.0747 - val_accuracy: 0.9780 - val_loss: 0.1000\n",
            "Epoch 10/10\n",
            "\u001b[1m1563/1563\u001b[0m \u001b[32m━━━━━━━━━━━━━━━━━━━━\u001b[0m\u001b[37m\u001b[0m \u001b[1m5s\u001b[0m 3ms/step - accuracy: 0.9808 - loss: 0.0720 - val_accuracy: 0.9807 - val_loss: 0.0893\n"
          ]
        },
        {
          "output_type": "execute_result",
          "data": {
            "text/plain": [
              "<keras.src.callbacks.history.History at 0x7c806c3b07d0>"
            ]
          },
          "metadata": {},
          "execution_count": 56
        },
        {
          "output_type": "display_data",
          "data": {
            "text/plain": [
              "<Figure size 640x480 with 1 Axes>"
            ],
            "image/png": "[encoded data removed]"
          },
          "metadata": {}
        }
      ],
      "source": [
        "model = get_mnist_model()\n",
        "model.compile(optimizer=\"rmsprop\",\n",
        "              loss=\"sparse_categorical_crossentropy\",\n",
        "              metrics=[\"accuracy\"])\n",
        "model.fit(train_images, train_labels,\n",
        "          epochs=10,\n",
        "          callbacks=[LossHistory()],\n",
        "          validation_data=(val_images, val_labels))"
      ]
    },
    {
      "cell_type": "markdown",
      "metadata": {
        "id": "T7tJkuGq9T3A"
      },
      "source": [
        "### Monitoring and visualization with TensorBoard"
      ]
    },
    {
      "cell_type": "code",
      "execution_count": null,
      "metadata": {
        "id": "wmv_sEM19T3A"
      },
      "outputs": [],
      "source": [
        "model = get_mnist_model()\n",
        "model.compile(optimizer=\"rmsprop\",\n",
        "              loss=\"sparse_categorical_crossentropy\",\n",
        "              metrics=[\"accuracy\"])\n",
        "\n",
        "tensorboard = keras.callbacks.TensorBoard(\n",
        "    log_dir=\"./tensorboard_log_dir\",\n",
        ")\n",
        "model.fit(train_images, train_labels,\n",
        "          epochs=10,\n",
        "          validation_data=(val_images, val_labels),\n",
        "          callbacks=[tensorboard])"
      ]
    },
    {
      "cell_type": "code",
      "execution_count": null,
      "metadata": {
        "id": "2WyAszrk9T3A"
      },
      "outputs": [],
      "source": [
        "%load_ext tensorboard\n",
        "%tensorboard --logdir ./tensorboard_log_dir"
      ]
    },
    {
      "cell_type": "markdown",
      "metadata": {
        "id": "OE_ESI8Z9T3B"
      },
      "source": [
        "## Writing your own training and evaluation loops"
      ]
    },
    {
      "cell_type": "markdown",
      "metadata": {
        "id": "C_UVfrsB9T3B"
      },
      "source": [
        "### Training versus inference"
      ]
    },
    {
      "cell_type": "markdown",
      "metadata": {
        "id": "Um1Npiun9T3B"
      },
      "source": [
        "### Low-level usage of metrics"
      ]
    },
    {
      "cell_type": "code",
      "execution_count": 57,
      "metadata": {
        "id": "7mkpKnnN9T3B",
        "outputId": "70d09d9c-3478-40c9-d463-4abd59acf42d",
        "colab": {
          "base_uri": "https://localhost:8080/"
        }
      },
      "outputs": [
        {
          "output_type": "stream",
          "name": "stdout",
          "text": [
            "result: 1.00\n"
          ]
        }
      ],
      "source": [
        "metric = keras.metrics.SparseCategoricalAccuracy()\n",
        "targets = [0, 1, 2]\n",
        "predictions = [[1, 0, 0], [0, 1, 0], [0, 0, 1]]\n",
        "metric.update_state(targets, predictions)\n",
        "current_result = metric.result()\n",
        "print(f\"result: {current_result:.2f}\")"
      ]
    },
    {
      "cell_type": "code",
      "execution_count": 58,
      "metadata": {
        "id": "K_1QlzXU9T3B",
        "outputId": "4582a13c-a10e-4e88-b7fb-d98b43aac953",
        "colab": {
          "base_uri": "https://localhost:8080/"
        }
      },
      "outputs": [
        {
          "output_type": "stream",
          "name": "stdout",
          "text": [
            "Mean of values: 2.00\n"
          ]
        }
      ],
      "source": [
        "values = [0, 1, 2, 3, 4]\n",
        "mean_tracker = keras.metrics.Mean()\n",
        "for value in values:\n",
        "    mean_tracker.update_state(value)\n",
        "print(f\"Mean of values: {mean_tracker.result():.2f}\")"
      ]
    },
    {
      "cell_type": "markdown",
      "metadata": {
        "id": "hlyqcNeh9T3B"
      },
      "source": [
        "### A complete training and evaluation loop"
      ]
    },
    {
      "cell_type": "markdown",
      "metadata": {
        "id": "qn4sfFzJ9T3C"
      },
      "source": [
        "**Writing a step-by-step training loop: the training step function**"
      ]
    },
    {
      "cell_type": "code",
      "execution_count": 60,
      "metadata": {
        "id": "u7omTsce9T3C"
      },
      "outputs": [],
      "source": [
        "import tensorflow as tf\n",
        "model = get_mnist_model()\n",
        "\n",
        "loss_fn = keras.losses.SparseCategoricalCrossentropy()\n",
        "optimizer = keras.optimizers.RMSprop()\n",
        "metrics = [keras.metrics.SparseCategoricalAccuracy()]\n",
        "loss_tracking_metric = keras.metrics.Mean()\n",
        "\n",
        "@tf.function\n",
        "def train_step(inputs, targets):\n",
        "    with tf.GradientTape() as tape:\n",
        "        predictions = model(inputs, training=True) # training = True로 지정(Dropout등의 작동이 바뀜)\n",
        "        loss = loss_fn(targets, predictions)\n",
        "    gradients = tape.gradient(loss, model.trainable_weights)\n",
        "    optimizer.apply_gradients(zip(gradients, model.trainable_weights))\n",
        "\n",
        "    logs = {}\n",
        "    for metric in metrics:\n",
        "        metric.update_state(targets, predictions)\n",
        "        logs[metric.name] = metric.result()\n",
        "\n",
        "    loss_tracking_metric.update_state(loss)\n",
        "    logs[\"loss\"] = loss_tracking_metric.result()\n",
        "    return logs"
      ]
    },
    {
      "cell_type": "markdown",
      "metadata": {
        "id": "Y1pC6F5k9T3C"
      },
      "source": [
        "**Writing a step-by-step training loop: resetting the metrics**"
      ]
    },
    {
      "cell_type": "code",
      "execution_count": 61,
      "metadata": {
        "id": "p96z2W1k9T3C"
      },
      "outputs": [],
      "source": [
        "@tf.function\n",
        "def reset_metrics():\n",
        "    for metric in metrics:\n",
        "        metric.reset_state()\n",
        "    loss_tracking_metric.reset_state()"
      ]
    },
    {
      "cell_type": "code",
      "source": [
        "import tensorflow as tf"
      ],
      "metadata": {
        "id": "UYSGKDKQfzUK"
      },
      "execution_count": 62,
      "outputs": []
    },
    {
      "cell_type": "code",
      "source": [
        "training_dataset = tf.data.Dataset.from_tensor_slices((train_images, train_labels))\n",
        "training_dataset = training_dataset.batch(100)\n",
        "epochs = 3\n",
        "for epoch in range(epochs):\n",
        "    reset_metrics()\n",
        "    for inputs_batch, targets_batch in training_dataset:\n",
        "        logs = train_step(inputs_batch, targets_batch)\n",
        "    print(f\"Results at the end of epoch {epoch}\")\n",
        "    for key, value in logs.items():\n",
        "        print(f\"...{key}: {value:.4f}\")"
      ],
      "metadata": {
        "id": "D6op4bbwiGAC",
        "outputId": "4a8a36ba-fad2-41de-f02d-417d926adb98",
        "colab": {
          "base_uri": "https://localhost:8080/"
        }
      },
      "execution_count": 63,
      "outputs": [
        {
          "output_type": "stream",
          "name": "stdout",
          "text": [
            "Results at the end of epoch 0\n",
            "...sparse_categorical_accuracy: 0.9006\n",
            "...loss: 0.3369\n",
            "Results at the end of epoch 1\n",
            "...sparse_categorical_accuracy: 0.9497\n",
            "...loss: 0.1699\n",
            "Results at the end of epoch 2\n",
            "...sparse_categorical_accuracy: 0.9629\n",
            "...loss: 0.1277\n"
          ]
        }
      ]
    },
    {
      "cell_type": "code",
      "source": [
        "training_dataset = tf.data.Dataset.from_tensor_slices((train_images, train_labels))\n",
        "training_dataset = training_dataset.batch(100)\n",
        "epochs = 3\n",
        "for epoch in range(epochs):\n",
        "    reset_metrics()\n",
        "    for inputs_batch, targets_batch in training_dataset:\n",
        "        logs = train_step(inputs_batch, targets_batch)\n",
        "        print(f\"Results at the end of batch\")\n",
        "        for key, value in logs.items():\n",
        "            print(f\"...{key}: {value:.4f}\")\n",
        "    for key, value in logs.items():\n",
        "        print(f\"Results at the end of epoch{epoch}\")\n",
        "        print(f\"...{key}: {value:.4f}\")"
      ],
      "metadata": {
        "id": "fIy4ZQMOieoA",
        "outputId": "89aa5b79-4b02-4689-cde3-86737aaf06a1",
        "colab": {
          "base_uri": "https://localhost:8080/",
          "height": 1000
        },
        "collapsed": true
      },
      "execution_count": 64,
      "outputs": [
        {
          "output_type": "stream",
          "name": "stdout",
          "text": [
            "Results at the end of batch\n",
            "...sparse_categorical_accuracy: 0.9500\n",
            "...loss: 0.2042\n",
            "Results at the end of batch\n",
            "...sparse_categorical_accuracy: 0.9550\n",
            "...loss: 0.1634\n",
            "Results at the end of batch\n",
            "...sparse_categorical_accuracy: 0.9367\n",
            "...loss: 0.1984\n",
            "Results at the end of batch\n",
            "...sparse_categorical_accuracy: 0.9475\n",
            "...loss: 0.1691\n",
            "Results at the end of batch\n",
            "...sparse_categorical_accuracy: 0.9540\n",
            "...loss: 0.1453\n",
            "Results at the end of batch\n",
            "...sparse_categorical_accuracy: 0.9600\n",
            "...loss: 0.1306\n",
            "Results at the end of batch\n",
            "...sparse_categorical_accuracy: 0.9643\n",
            "...loss: 0.1173\n",
            "Results at the end of batch\n",
            "...sparse_categorical_accuracy: 0.9625\n",
            "...loss: 0.1268\n",
            "Results at the end of batch\n",
            "...sparse_categorical_accuracy: 0.9633\n",
            "...loss: 0.1214\n",
            "Results at the end of batch\n",
            "...sparse_categorical_accuracy: 0.9630\n",
            "...loss: 0.1190\n",
            "Results at the end of batch\n",
            "...sparse_categorical_accuracy: 0.9636\n",
            "...loss: 0.1160\n",
            "Results at the end of batch\n",
            "...sparse_categorical_accuracy: 0.9658\n",
            "...loss: 0.1096\n",
            "Results at the end of batch\n",
            "...sparse_categorical_accuracy: 0.9669\n",
            "...loss: 0.1061\n",
            "Results at the end of batch\n",
            "...sparse_categorical_accuracy: 0.9686\n",
            "...loss: 0.1011\n",
            "Results at the end of batch\n",
            "...sparse_categorical_accuracy: 0.9680\n",
            "...loss: 0.1028\n",
            "Results at the end of batch\n",
            "...sparse_categorical_accuracy: 0.9681\n",
            "...loss: 0.1028\n",
            "Results at the end of batch\n",
            "...sparse_categorical_accuracy: 0.9682\n",
            "...loss: 0.1028\n",
            "Results at the end of batch\n",
            "...sparse_categorical_accuracy: 0.9667\n",
            "...loss: 0.1043\n",
            "Results at the end of batch\n",
            "...sparse_categorical_accuracy: 0.9668\n",
            "...loss: 0.1054\n",
            "Results at the end of batch\n",
            "...sparse_categorical_accuracy: 0.9670\n",
            "...loss: 0.1046\n",
            "Results at the end of batch\n",
            "...sparse_categorical_accuracy: 0.9667\n",
            "...loss: 0.1040\n",
            "Results at the end of batch\n",
            "...sparse_categorical_accuracy: 0.9659\n",
            "...loss: 0.1030\n",
            "Results at the end of batch\n",
            "...sparse_categorical_accuracy: 0.9670\n",
            "...loss: 0.1017\n",
            "Results at the end of batch\n",
            "...sparse_categorical_accuracy: 0.9671\n",
            "...loss: 0.1008\n",
            "Results at the end of batch\n",
            "...sparse_categorical_accuracy: 0.9680\n",
            "...loss: 0.0988\n",
            "Results at the end of batch\n",
            "...sparse_categorical_accuracy: 0.9681\n",
            "...loss: 0.1022\n",
            "Results at the end of batch\n",
            "...sparse_categorical_accuracy: 0.9659\n",
            "...loss: 0.1088\n",
            "Results at the end of batch\n",
            "...sparse_categorical_accuracy: 0.9661\n",
            "...loss: 0.1083\n",
            "Results at the end of batch\n",
            "...sparse_categorical_accuracy: 0.9655\n",
            "...loss: 0.1088\n",
            "Results at the end of batch\n",
            "...sparse_categorical_accuracy: 0.9660\n",
            "...loss: 0.1081\n",
            "Results at the end of batch\n",
            "...sparse_categorical_accuracy: 0.9655\n",
            "...loss: 0.1099\n",
            "Results at the end of batch\n",
            "...sparse_categorical_accuracy: 0.9656\n",
            "...loss: 0.1098\n",
            "Results at the end of batch\n",
            "...sparse_categorical_accuracy: 0.9664\n",
            "...loss: 0.1089\n",
            "Results at the end of batch\n",
            "...sparse_categorical_accuracy: 0.9662\n",
            "...loss: 0.1088\n",
            "Results at the end of batch\n",
            "...sparse_categorical_accuracy: 0.9669\n",
            "...loss: 0.1065\n",
            "Results at the end of batch\n",
            "...sparse_categorical_accuracy: 0.9669\n",
            "...loss: 0.1063\n",
            "Results at the end of batch\n",
            "...sparse_categorical_accuracy: 0.9668\n",
            "...loss: 0.1081\n",
            "Results at the end of batch\n",
            "...sparse_categorical_accuracy: 0.9668\n",
            "...loss: 0.1085\n",
            "Results at the end of batch\n",
            "...sparse_categorical_accuracy: 0.9672\n",
            "...loss: 0.1081\n",
            "Results at the end of batch\n",
            "...sparse_categorical_accuracy: 0.9670\n",
            "...loss: 0.1090\n",
            "Results at the end of batch\n",
            "...sparse_categorical_accuracy: 0.9666\n",
            "...loss: 0.1100\n",
            "Results at the end of batch\n",
            "...sparse_categorical_accuracy: 0.9667\n",
            "...loss: 0.1092\n",
            "Results at the end of batch\n",
            "...sparse_categorical_accuracy: 0.9663\n",
            "...loss: 0.1106\n",
            "Results at the end of batch\n",
            "...sparse_categorical_accuracy: 0.9657\n",
            "...loss: 0.1110\n",
            "Results at the end of batch\n",
            "...sparse_categorical_accuracy: 0.9660\n",
            "...loss: 0.1095\n",
            "Results at the end of batch\n",
            "...sparse_categorical_accuracy: 0.9661\n",
            "...loss: 0.1102\n",
            "Results at the end of batch\n",
            "...sparse_categorical_accuracy: 0.9662\n",
            "...loss: 0.1110\n",
            "Results at the end of batch\n",
            "...sparse_categorical_accuracy: 0.9658\n",
            "...loss: 0.1153\n",
            "Results at the end of batch\n",
            "...sparse_categorical_accuracy: 0.9659\n",
            "...loss: 0.1148\n",
            "Results at the end of batch\n",
            "...sparse_categorical_accuracy: 0.9666\n",
            "...loss: 0.1132\n",
            "Results at the end of batch\n",
            "...sparse_categorical_accuracy: 0.9671\n",
            "...loss: 0.1124\n",
            "Results at the end of batch\n",
            "...sparse_categorical_accuracy: 0.9669\n",
            "...loss: 0.1133\n",
            "Results at the end of batch\n",
            "...sparse_categorical_accuracy: 0.9666\n",
            "...loss: 0.1143\n",
            "Results at the end of batch\n",
            "...sparse_categorical_accuracy: 0.9669\n",
            "...loss: 0.1137\n",
            "Results at the end of batch\n",
            "...sparse_categorical_accuracy: 0.9671\n",
            "...loss: 0.1137\n",
            "Results at the end of batch\n",
            "...sparse_categorical_accuracy: 0.9673\n",
            "...loss: 0.1128\n",
            "Results at the end of batch\n",
            "...sparse_categorical_accuracy: 0.9675\n",
            "...loss: 0.1121\n",
            "Results at the end of batch\n",
            "...sparse_categorical_accuracy: 0.9662\n",
            "...loss: 0.1149\n",
            "Results at the end of batch\n",
            "...sparse_categorical_accuracy: 0.9666\n",
            "...loss: 0.1145\n",
            "Results at the end of batch\n",
            "...sparse_categorical_accuracy: 0.9668\n",
            "...loss: 0.1145\n",
            "Results at the end of batch\n",
            "...sparse_categorical_accuracy: 0.9667\n",
            "...loss: 0.1148\n",
            "Results at the end of batch\n",
            "...sparse_categorical_accuracy: 0.9666\n",
            "...loss: 0.1145\n",
            "Results at the end of batch\n",
            "...sparse_categorical_accuracy: 0.9670\n",
            "...loss: 0.1134\n",
            "Results at the end of batch\n",
            "...sparse_categorical_accuracy: 0.9672\n",
            "...loss: 0.1124\n",
            "Results at the end of batch\n",
            "...sparse_categorical_accuracy: 0.9672\n",
            "...loss: 0.1128\n",
            "Results at the end of batch\n",
            "...sparse_categorical_accuracy: 0.9673\n",
            "...loss: 0.1126\n",
            "Results at the end of batch\n",
            "...sparse_categorical_accuracy: 0.9672\n",
            "...loss: 0.1124\n",
            "Results at the end of batch\n",
            "...sparse_categorical_accuracy: 0.9669\n",
            "...loss: 0.1132\n",
            "Results at the end of batch\n",
            "...sparse_categorical_accuracy: 0.9670\n",
            "...loss: 0.1131\n",
            "Results at the end of batch\n",
            "...sparse_categorical_accuracy: 0.9670\n",
            "...loss: 0.1136\n",
            "Results at the end of batch\n",
            "...sparse_categorical_accuracy: 0.9666\n",
            "...loss: 0.1138\n",
            "Results at the end of batch\n",
            "...sparse_categorical_accuracy: 0.9668\n",
            "...loss: 0.1130\n",
            "Results at the end of batch\n",
            "...sparse_categorical_accuracy: 0.9670\n",
            "...loss: 0.1126\n",
            "Results at the end of batch\n",
            "...sparse_categorical_accuracy: 0.9674\n",
            "...loss: 0.1114\n",
            "Results at the end of batch\n",
            "...sparse_categorical_accuracy: 0.9671\n",
            "...loss: 0.1121\n",
            "Results at the end of batch\n",
            "...sparse_categorical_accuracy: 0.9670\n",
            "...loss: 0.1130\n",
            "Results at the end of batch\n",
            "...sparse_categorical_accuracy: 0.9673\n",
            "...loss: 0.1123\n",
            "Results at the end of batch\n",
            "...sparse_categorical_accuracy: 0.9668\n",
            "...loss: 0.1136\n",
            "Results at the end of batch\n",
            "...sparse_categorical_accuracy: 0.9668\n",
            "...loss: 0.1135\n",
            "Results at the end of batch\n",
            "...sparse_categorical_accuracy: 0.9671\n",
            "...loss: 0.1133\n",
            "Results at the end of batch\n",
            "...sparse_categorical_accuracy: 0.9672\n",
            "...loss: 0.1137\n",
            "Results at the end of batch\n",
            "...sparse_categorical_accuracy: 0.9673\n",
            "...loss: 0.1131\n",
            "Results at the end of batch\n",
            "...sparse_categorical_accuracy: 0.9675\n",
            "...loss: 0.1127\n",
            "Results at the end of batch\n",
            "...sparse_categorical_accuracy: 0.9675\n",
            "...loss: 0.1127\n",
            "Results at the end of batch\n",
            "...sparse_categorical_accuracy: 0.9675\n",
            "...loss: 0.1124\n",
            "Results at the end of batch\n",
            "...sparse_categorical_accuracy: 0.9674\n",
            "...loss: 0.1126\n",
            "Results at the end of batch\n",
            "...sparse_categorical_accuracy: 0.9676\n",
            "...loss: 0.1118\n",
            "Results at the end of batch\n",
            "...sparse_categorical_accuracy: 0.9676\n",
            "...loss: 0.1114\n",
            "Results at the end of batch\n",
            "...sparse_categorical_accuracy: 0.9676\n",
            "...loss: 0.1110\n",
            "Results at the end of batch\n",
            "...sparse_categorical_accuracy: 0.9680\n",
            "...loss: 0.1099\n",
            "Results at the end of batch\n",
            "...sparse_categorical_accuracy: 0.9681\n",
            "...loss: 0.1099\n",
            "Results at the end of batch\n",
            "...sparse_categorical_accuracy: 0.9682\n",
            "...loss: 0.1098\n",
            "Results at the end of batch\n",
            "...sparse_categorical_accuracy: 0.9682\n",
            "...loss: 0.1100\n",
            "Results at the end of batch\n",
            "...sparse_categorical_accuracy: 0.9679\n",
            "...loss: 0.1108\n",
            "Results at the end of batch\n",
            "...sparse_categorical_accuracy: 0.9680\n",
            "...loss: 0.1101\n",
            "Results at the end of batch\n",
            "...sparse_categorical_accuracy: 0.9681\n",
            "...loss: 0.1100\n",
            "Results at the end of batch\n",
            "...sparse_categorical_accuracy: 0.9682\n",
            "...loss: 0.1094\n",
            "Results at the end of batch\n",
            "...sparse_categorical_accuracy: 0.9683\n",
            "...loss: 0.1091\n",
            "Results at the end of batch\n",
            "...sparse_categorical_accuracy: 0.9682\n",
            "...loss: 0.1091\n",
            "Results at the end of batch\n",
            "...sparse_categorical_accuracy: 0.9682\n",
            "...loss: 0.1089\n",
            "Results at the end of batch\n",
            "...sparse_categorical_accuracy: 0.9680\n",
            "...loss: 0.1092\n",
            "Results at the end of batch\n",
            "...sparse_categorical_accuracy: 0.9678\n",
            "...loss: 0.1095\n",
            "Results at the end of batch\n",
            "...sparse_categorical_accuracy: 0.9678\n",
            "...loss: 0.1098\n",
            "Results at the end of batch\n",
            "...sparse_categorical_accuracy: 0.9680\n",
            "...loss: 0.1094\n",
            "Results at the end of batch\n",
            "...sparse_categorical_accuracy: 0.9681\n",
            "...loss: 0.1089\n",
            "Results at the end of batch\n",
            "...sparse_categorical_accuracy: 0.9681\n",
            "...loss: 0.1086\n",
            "Results at the end of batch\n",
            "...sparse_categorical_accuracy: 0.9680\n",
            "...loss: 0.1088\n",
            "Results at the end of batch\n",
            "...sparse_categorical_accuracy: 0.9675\n",
            "...loss: 0.1110\n",
            "Results at the end of batch\n",
            "...sparse_categorical_accuracy: 0.9673\n",
            "...loss: 0.1113\n",
            "Results at the end of batch\n",
            "...sparse_categorical_accuracy: 0.9673\n",
            "...loss: 0.1115\n",
            "Results at the end of batch\n",
            "...sparse_categorical_accuracy: 0.9672\n",
            "...loss: 0.1115\n",
            "Results at the end of batch\n",
            "...sparse_categorical_accuracy: 0.9671\n",
            "...loss: 0.1114\n",
            "Results at the end of batch\n",
            "...sparse_categorical_accuracy: 0.9673\n",
            "...loss: 0.1107\n",
            "Results at the end of batch\n",
            "...sparse_categorical_accuracy: 0.9674\n",
            "...loss: 0.1104\n",
            "Results at the end of batch\n",
            "...sparse_categorical_accuracy: 0.9675\n",
            "...loss: 0.1101\n",
            "Results at the end of batch\n",
            "...sparse_categorical_accuracy: 0.9675\n",
            "...loss: 0.1099\n",
            "Results at the end of batch\n",
            "...sparse_categorical_accuracy: 0.9676\n",
            "...loss: 0.1101\n",
            "Results at the end of batch\n",
            "...sparse_categorical_accuracy: 0.9677\n",
            "...loss: 0.1098\n",
            "Results at the end of batch\n",
            "...sparse_categorical_accuracy: 0.9679\n",
            "...loss: 0.1092\n",
            "Results at the end of batch\n",
            "...sparse_categorical_accuracy: 0.9678\n",
            "...loss: 0.1093\n",
            "Results at the end of batch\n",
            "...sparse_categorical_accuracy: 0.9679\n",
            "...loss: 0.1089\n",
            "Results at the end of batch\n",
            "...sparse_categorical_accuracy: 0.9676\n",
            "...loss: 0.1094\n",
            "Results at the end of batch\n",
            "...sparse_categorical_accuracy: 0.9676\n",
            "...loss: 0.1095\n",
            "Results at the end of batch\n",
            "...sparse_categorical_accuracy: 0.9678\n",
            "...loss: 0.1091\n",
            "Results at the end of batch\n",
            "...sparse_categorical_accuracy: 0.9677\n",
            "...loss: 0.1097\n",
            "Results at the end of batch\n",
            "...sparse_categorical_accuracy: 0.9675\n",
            "...loss: 0.1102\n",
            "Results at the end of batch\n",
            "...sparse_categorical_accuracy: 0.9676\n",
            "...loss: 0.1104\n",
            "Results at the end of batch\n",
            "...sparse_categorical_accuracy: 0.9676\n",
            "...loss: 0.1101\n",
            "Results at the end of batch\n",
            "...sparse_categorical_accuracy: 0.9674\n",
            "...loss: 0.1100\n",
            "Results at the end of batch\n",
            "...sparse_categorical_accuracy: 0.9676\n",
            "...loss: 0.1094\n",
            "Results at the end of batch\n",
            "...sparse_categorical_accuracy: 0.9675\n",
            "...loss: 0.1097\n",
            "Results at the end of batch\n",
            "...sparse_categorical_accuracy: 0.9676\n",
            "...loss: 0.1095\n",
            "Results at the end of batch\n",
            "...sparse_categorical_accuracy: 0.9677\n",
            "...loss: 0.1089\n",
            "Results at the end of batch\n",
            "...sparse_categorical_accuracy: 0.9678\n",
            "...loss: 0.1084\n",
            "Results at the end of batch\n",
            "...sparse_categorical_accuracy: 0.9679\n",
            "...loss: 0.1082\n",
            "Results at the end of batch\n",
            "...sparse_categorical_accuracy: 0.9680\n",
            "...loss: 0.1082\n",
            "Results at the end of batch\n",
            "...sparse_categorical_accuracy: 0.9680\n",
            "...loss: 0.1079\n",
            "Results at the end of batch\n",
            "...sparse_categorical_accuracy: 0.9678\n",
            "...loss: 0.1081\n",
            "Results at the end of batch\n",
            "...sparse_categorical_accuracy: 0.9680\n",
            "...loss: 0.1077\n",
            "Results at the end of batch\n",
            "...sparse_categorical_accuracy: 0.9681\n",
            "...loss: 0.1084\n",
            "Results at the end of batch\n",
            "...sparse_categorical_accuracy: 0.9680\n",
            "...loss: 0.1082\n",
            "Results at the end of batch\n",
            "...sparse_categorical_accuracy: 0.9681\n",
            "...loss: 0.1079\n",
            "Results at the end of batch\n",
            "...sparse_categorical_accuracy: 0.9678\n",
            "...loss: 0.1086\n",
            "Results at the end of batch\n",
            "...sparse_categorical_accuracy: 0.9678\n",
            "...loss: 0.1081\n",
            "Results at the end of batch\n",
            "...sparse_categorical_accuracy: 0.9679\n",
            "...loss: 0.1080\n",
            "Results at the end of batch\n",
            "...sparse_categorical_accuracy: 0.9678\n",
            "...loss: 0.1081\n",
            "Results at the end of batch\n",
            "...sparse_categorical_accuracy: 0.9678\n",
            "...loss: 0.1081\n",
            "Results at the end of batch\n",
            "...sparse_categorical_accuracy: 0.9679\n",
            "...loss: 0.1081\n",
            "Results at the end of batch\n",
            "...sparse_categorical_accuracy: 0.9681\n",
            "...loss: 0.1077\n",
            "Results at the end of batch\n",
            "...sparse_categorical_accuracy: 0.9683\n",
            "...loss: 0.1076\n",
            "Results at the end of batch\n",
            "...sparse_categorical_accuracy: 0.9685\n",
            "...loss: 0.1071\n",
            "Results at the end of batch\n",
            "...sparse_categorical_accuracy: 0.9684\n",
            "...loss: 0.1071\n",
            "Results at the end of batch\n",
            "...sparse_categorical_accuracy: 0.9684\n",
            "...loss: 0.1070\n",
            "Results at the end of batch\n",
            "...sparse_categorical_accuracy: 0.9684\n",
            "...loss: 0.1068\n",
            "Results at the end of batch\n",
            "...sparse_categorical_accuracy: 0.9686\n",
            "...loss: 0.1067\n",
            "Results at the end of batch\n",
            "...sparse_categorical_accuracy: 0.9687\n",
            "...loss: 0.1070\n",
            "Results at the end of batch\n",
            "...sparse_categorical_accuracy: 0.9687\n",
            "...loss: 0.1069\n",
            "Results at the end of batch\n",
            "...sparse_categorical_accuracy: 0.9687\n",
            "...loss: 0.1070\n",
            "Results at the end of batch\n",
            "...sparse_categorical_accuracy: 0.9687\n",
            "...loss: 0.1070\n",
            "Results at the end of batch\n",
            "...sparse_categorical_accuracy: 0.9689\n",
            "...loss: 0.1066\n",
            "Results at the end of batch\n",
            "...sparse_categorical_accuracy: 0.9689\n",
            "...loss: 0.1066\n",
            "Results at the end of batch\n",
            "...sparse_categorical_accuracy: 0.9690\n",
            "...loss: 0.1062\n",
            "Results at the end of batch\n",
            "...sparse_categorical_accuracy: 0.9690\n",
            "...loss: 0.1059\n",
            "Results at the end of batch\n",
            "...sparse_categorical_accuracy: 0.9689\n",
            "...loss: 0.1061\n",
            "Results at the end of batch\n",
            "...sparse_categorical_accuracy: 0.9687\n",
            "...loss: 0.1067\n",
            "Results at the end of batch\n",
            "...sparse_categorical_accuracy: 0.9686\n",
            "...loss: 0.1079\n",
            "Results at the end of batch\n",
            "...sparse_categorical_accuracy: 0.9684\n",
            "...loss: 0.1083\n",
            "Results at the end of batch\n",
            "...sparse_categorical_accuracy: 0.9680\n",
            "...loss: 0.1092\n",
            "Results at the end of batch\n",
            "...sparse_categorical_accuracy: 0.9680\n",
            "...loss: 0.1099\n",
            "Results at the end of batch\n",
            "...sparse_categorical_accuracy: 0.9681\n",
            "...loss: 0.1095\n",
            "Results at the end of batch\n",
            "...sparse_categorical_accuracy: 0.9683\n",
            "...loss: 0.1090\n",
            "Results at the end of batch\n",
            "...sparse_categorical_accuracy: 0.9682\n",
            "...loss: 0.1098\n",
            "Results at the end of batch\n",
            "...sparse_categorical_accuracy: 0.9680\n",
            "...loss: 0.1104\n",
            "Results at the end of batch\n",
            "...sparse_categorical_accuracy: 0.9680\n",
            "...loss: 0.1101\n",
            "Results at the end of batch\n",
            "...sparse_categorical_accuracy: 0.9682\n",
            "...loss: 0.1097\n",
            "Results at the end of batch\n",
            "...sparse_categorical_accuracy: 0.9682\n",
            "...loss: 0.1096\n",
            "Results at the end of batch\n",
            "...sparse_categorical_accuracy: 0.9681\n",
            "...loss: 0.1097\n",
            "Results at the end of batch\n",
            "...sparse_categorical_accuracy: 0.9682\n",
            "...loss: 0.1095\n",
            "Results at the end of batch\n",
            "...sparse_categorical_accuracy: 0.9683\n",
            "...loss: 0.1094\n",
            "Results at the end of batch\n",
            "...sparse_categorical_accuracy: 0.9684\n",
            "...loss: 0.1090\n",
            "Results at the end of batch\n",
            "...sparse_categorical_accuracy: 0.9686\n",
            "...loss: 0.1086\n",
            "Results at the end of batch\n",
            "...sparse_categorical_accuracy: 0.9684\n",
            "...loss: 0.1087\n",
            "Results at the end of batch\n",
            "...sparse_categorical_accuracy: 0.9685\n",
            "...loss: 0.1083\n",
            "Results at the end of batch\n",
            "...sparse_categorical_accuracy: 0.9685\n",
            "...loss: 0.1084\n",
            "Results at the end of batch\n",
            "...sparse_categorical_accuracy: 0.9684\n",
            "...loss: 0.1084\n",
            "Results at the end of batch\n",
            "...sparse_categorical_accuracy: 0.9685\n",
            "...loss: 0.1083\n",
            "Results at the end of batch\n",
            "...sparse_categorical_accuracy: 0.9684\n",
            "...loss: 0.1087\n",
            "Results at the end of batch\n",
            "...sparse_categorical_accuracy: 0.9682\n",
            "...loss: 0.1091\n",
            "Results at the end of batch\n",
            "...sparse_categorical_accuracy: 0.9684\n",
            "...loss: 0.1088\n",
            "Results at the end of batch\n",
            "...sparse_categorical_accuracy: 0.9684\n",
            "...loss: 0.1087\n",
            "Results at the end of batch\n",
            "...sparse_categorical_accuracy: 0.9683\n",
            "...loss: 0.1088\n",
            "Results at the end of batch\n",
            "...sparse_categorical_accuracy: 0.9683\n",
            "...loss: 0.1088\n",
            "Results at the end of batch\n",
            "...sparse_categorical_accuracy: 0.9682\n",
            "...loss: 0.1090\n",
            "Results at the end of batch\n",
            "...sparse_categorical_accuracy: 0.9680\n",
            "...loss: 0.1093\n",
            "Results at the end of batch\n",
            "...sparse_categorical_accuracy: 0.9681\n",
            "...loss: 0.1094\n",
            "Results at the end of batch\n",
            "...sparse_categorical_accuracy: 0.9681\n",
            "...loss: 0.1091\n",
            "Results at the end of batch\n",
            "...sparse_categorical_accuracy: 0.9682\n",
            "...loss: 0.1091\n",
            "Results at the end of batch\n",
            "...sparse_categorical_accuracy: 0.9682\n",
            "...loss: 0.1090\n",
            "Results at the end of batch\n",
            "...sparse_categorical_accuracy: 0.9682\n",
            "...loss: 0.1090\n",
            "Results at the end of batch\n",
            "...sparse_categorical_accuracy: 0.9681\n",
            "...loss: 0.1090\n",
            "Results at the end of batch\n",
            "...sparse_categorical_accuracy: 0.9680\n",
            "...loss: 0.1092\n",
            "Results at the end of batch\n",
            "...sparse_categorical_accuracy: 0.9679\n",
            "...loss: 0.1093\n",
            "Results at the end of batch\n",
            "...sparse_categorical_accuracy: 0.9679\n",
            "...loss: 0.1092\n",
            "Results at the end of batch\n",
            "...sparse_categorical_accuracy: 0.9680\n",
            "...loss: 0.1088\n",
            "Results at the end of batch\n",
            "...sparse_categorical_accuracy: 0.9681\n",
            "...loss: 0.1086\n",
            "Results at the end of batch\n",
            "...sparse_categorical_accuracy: 0.9681\n",
            "...loss: 0.1086\n",
            "Results at the end of batch\n",
            "...sparse_categorical_accuracy: 0.9679\n",
            "...loss: 0.1089\n",
            "Results at the end of batch\n",
            "...sparse_categorical_accuracy: 0.9680\n",
            "...loss: 0.1086\n",
            "Results at the end of batch\n",
            "...sparse_categorical_accuracy: 0.9680\n",
            "...loss: 0.1085\n",
            "Results at the end of batch\n",
            "...sparse_categorical_accuracy: 0.9680\n",
            "...loss: 0.1084\n",
            "Results at the end of batch\n",
            "...sparse_categorical_accuracy: 0.9680\n",
            "...loss: 0.1082\n",
            "Results at the end of batch\n",
            "...sparse_categorical_accuracy: 0.9679\n",
            "...loss: 0.1092\n",
            "Results at the end of batch\n",
            "...sparse_categorical_accuracy: 0.9680\n",
            "...loss: 0.1089\n",
            "Results at the end of batch\n",
            "...sparse_categorical_accuracy: 0.9681\n",
            "...loss: 0.1090\n",
            "Results at the end of batch\n",
            "...sparse_categorical_accuracy: 0.9680\n",
            "...loss: 0.1089\n",
            "Results at the end of batch\n",
            "...sparse_categorical_accuracy: 0.9680\n",
            "...loss: 0.1090\n",
            "Results at the end of batch\n",
            "...sparse_categorical_accuracy: 0.9678\n",
            "...loss: 0.1095\n",
            "Results at the end of batch\n",
            "...sparse_categorical_accuracy: 0.9677\n",
            "...loss: 0.1100\n",
            "Results at the end of batch\n",
            "...sparse_categorical_accuracy: 0.9678\n",
            "...loss: 0.1097\n",
            "Results at the end of batch\n",
            "...sparse_categorical_accuracy: 0.9679\n",
            "...loss: 0.1095\n",
            "Results at the end of batch\n",
            "...sparse_categorical_accuracy: 0.9679\n",
            "...loss: 0.1095\n",
            "Results at the end of batch\n",
            "...sparse_categorical_accuracy: 0.9677\n",
            "...loss: 0.1095\n",
            "Results at the end of batch\n",
            "...sparse_categorical_accuracy: 0.9678\n",
            "...loss: 0.1094\n",
            "Results at the end of batch\n",
            "...sparse_categorical_accuracy: 0.9677\n",
            "...loss: 0.1094\n",
            "Results at the end of batch\n",
            "...sparse_categorical_accuracy: 0.9676\n",
            "...loss: 0.1097\n",
            "Results at the end of batch\n",
            "...sparse_categorical_accuracy: 0.9677\n",
            "...loss: 0.1098\n",
            "Results at the end of batch\n",
            "...sparse_categorical_accuracy: 0.9677\n",
            "...loss: 0.1096\n",
            "Results at the end of batch\n",
            "...sparse_categorical_accuracy: 0.9677\n",
            "...loss: 0.1102\n",
            "Results at the end of batch\n",
            "...sparse_categorical_accuracy: 0.9677\n",
            "...loss: 0.1102\n",
            "Results at the end of batch\n",
            "...sparse_categorical_accuracy: 0.9678\n",
            "...loss: 0.1099\n",
            "Results at the end of batch\n",
            "...sparse_categorical_accuracy: 0.9678\n",
            "...loss: 0.1099\n",
            "Results at the end of batch\n",
            "...sparse_categorical_accuracy: 0.9679\n",
            "...loss: 0.1097\n",
            "Results at the end of batch\n",
            "...sparse_categorical_accuracy: 0.9679\n",
            "...loss: 0.1096\n",
            "Results at the end of batch\n",
            "...sparse_categorical_accuracy: 0.9679\n",
            "...loss: 0.1098\n",
            "Results at the end of batch\n",
            "...sparse_categorical_accuracy: 0.9679\n",
            "...loss: 0.1097\n",
            "Results at the end of batch\n",
            "...sparse_categorical_accuracy: 0.9679\n",
            "...loss: 0.1096\n",
            "Results at the end of batch\n",
            "...sparse_categorical_accuracy: 0.9680\n",
            "...loss: 0.1094\n",
            "Results at the end of batch\n",
            "...sparse_categorical_accuracy: 0.9679\n",
            "...loss: 0.1096\n",
            "Results at the end of batch\n",
            "...sparse_categorical_accuracy: 0.9681\n",
            "...loss: 0.1092\n",
            "Results at the end of batch\n",
            "...sparse_categorical_accuracy: 0.9682\n",
            "...loss: 0.1088\n",
            "Results at the end of batch\n",
            "...sparse_categorical_accuracy: 0.9681\n",
            "...loss: 0.1091\n",
            "Results at the end of batch\n",
            "...sparse_categorical_accuracy: 0.9682\n",
            "...loss: 0.1088\n",
            "Results at the end of batch\n",
            "...sparse_categorical_accuracy: 0.9683\n",
            "...loss: 0.1086\n",
            "Results at the end of batch\n",
            "...sparse_categorical_accuracy: 0.9684\n",
            "...loss: 0.1082\n",
            "Results at the end of batch\n",
            "...sparse_categorical_accuracy: 0.9684\n",
            "...loss: 0.1084\n",
            "Results at the end of batch\n",
            "...sparse_categorical_accuracy: 0.9684\n",
            "...loss: 0.1085\n",
            "Results at the end of batch\n",
            "...sparse_categorical_accuracy: 0.9683\n",
            "...loss: 0.1086\n",
            "Results at the end of batch\n",
            "...sparse_categorical_accuracy: 0.9681\n",
            "...loss: 0.1090\n",
            "Results at the end of batch\n",
            "...sparse_categorical_accuracy: 0.9680\n",
            "...loss: 0.1093\n",
            "Results at the end of batch\n",
            "...sparse_categorical_accuracy: 0.9680\n",
            "...loss: 0.1092\n",
            "Results at the end of batch\n",
            "...sparse_categorical_accuracy: 0.9680\n",
            "...loss: 0.1092\n",
            "Results at the end of batch\n",
            "...sparse_categorical_accuracy: 0.9681\n",
            "...loss: 0.1093\n",
            "Results at the end of batch\n",
            "...sparse_categorical_accuracy: 0.9681\n",
            "...loss: 0.1094\n",
            "Results at the end of batch\n",
            "...sparse_categorical_accuracy: 0.9681\n",
            "...loss: 0.1093\n",
            "Results at the end of batch\n",
            "...sparse_categorical_accuracy: 0.9680\n",
            "...loss: 0.1096\n",
            "Results at the end of batch\n",
            "...sparse_categorical_accuracy: 0.9680\n",
            "...loss: 0.1094\n",
            "Results at the end of batch\n",
            "...sparse_categorical_accuracy: 0.9680\n",
            "...loss: 0.1096\n",
            "Results at the end of batch\n",
            "...sparse_categorical_accuracy: 0.9681\n",
            "...loss: 0.1093\n",
            "Results at the end of batch\n",
            "...sparse_categorical_accuracy: 0.9681\n",
            "...loss: 0.1091\n",
            "Results at the end of batch\n",
            "...sparse_categorical_accuracy: 0.9682\n",
            "...loss: 0.1091\n",
            "Results at the end of batch\n",
            "...sparse_categorical_accuracy: 0.9682\n",
            "...loss: 0.1091\n",
            "Results at the end of batch\n",
            "...sparse_categorical_accuracy: 0.9681\n",
            "...loss: 0.1091\n",
            "Results at the end of batch\n",
            "...sparse_categorical_accuracy: 0.9681\n",
            "...loss: 0.1091\n",
            "Results at the end of batch\n",
            "...sparse_categorical_accuracy: 0.9682\n",
            "...loss: 0.1090\n",
            "Results at the end of batch\n",
            "...sparse_categorical_accuracy: 0.9682\n",
            "...loss: 0.1091\n",
            "Results at the end of batch\n",
            "...sparse_categorical_accuracy: 0.9682\n",
            "...loss: 0.1090\n",
            "Results at the end of batch\n",
            "...sparse_categorical_accuracy: 0.9682\n",
            "...loss: 0.1087\n",
            "Results at the end of batch\n",
            "...sparse_categorical_accuracy: 0.9682\n",
            "...loss: 0.1088\n",
            "Results at the end of batch\n",
            "...sparse_categorical_accuracy: 0.9682\n",
            "...loss: 0.1088\n",
            "Results at the end of batch\n",
            "...sparse_categorical_accuracy: 0.9682\n",
            "...loss: 0.1086\n",
            "Results at the end of batch\n",
            "...sparse_categorical_accuracy: 0.9682\n",
            "...loss: 0.1091\n",
            "Results at the end of batch\n",
            "...sparse_categorical_accuracy: 0.9682\n",
            "...loss: 0.1092\n",
            "Results at the end of batch\n",
            "...sparse_categorical_accuracy: 0.9682\n",
            "...loss: 0.1091\n",
            "Results at the end of batch\n",
            "...sparse_categorical_accuracy: 0.9681\n",
            "...loss: 0.1096\n",
            "Results at the end of batch\n",
            "...sparse_categorical_accuracy: 0.9680\n",
            "...loss: 0.1100\n",
            "Results at the end of batch\n",
            "...sparse_categorical_accuracy: 0.9679\n",
            "...loss: 0.1102\n",
            "Results at the end of batch\n",
            "...sparse_categorical_accuracy: 0.9680\n",
            "...loss: 0.1100\n",
            "Results at the end of batch\n",
            "...sparse_categorical_accuracy: 0.9680\n",
            "...loss: 0.1101\n",
            "Results at the end of batch\n",
            "...sparse_categorical_accuracy: 0.9680\n",
            "...loss: 0.1105\n",
            "Results at the end of batch\n",
            "...sparse_categorical_accuracy: 0.9680\n",
            "...loss: 0.1104\n",
            "Results at the end of batch\n",
            "...sparse_categorical_accuracy: 0.9680\n",
            "...loss: 0.1101\n",
            "Results at the end of batch\n",
            "...sparse_categorical_accuracy: 0.9680\n",
            "...loss: 0.1100\n",
            "Results at the end of batch\n",
            "...sparse_categorical_accuracy: 0.9681\n",
            "...loss: 0.1097\n",
            "Results at the end of batch\n",
            "...sparse_categorical_accuracy: 0.9680\n",
            "...loss: 0.1099\n",
            "Results at the end of batch\n",
            "...sparse_categorical_accuracy: 0.9681\n",
            "...loss: 0.1097\n",
            "Results at the end of batch\n",
            "...sparse_categorical_accuracy: 0.9681\n",
            "...loss: 0.1098\n",
            "Results at the end of batch\n",
            "...sparse_categorical_accuracy: 0.9681\n",
            "...loss: 0.1097\n",
            "Results at the end of batch\n",
            "...sparse_categorical_accuracy: 0.9681\n",
            "...loss: 0.1099\n",
            "Results at the end of batch\n",
            "...sparse_categorical_accuracy: 0.9682\n",
            "...loss: 0.1096\n",
            "Results at the end of batch\n",
            "...sparse_categorical_accuracy: 0.9683\n",
            "...loss: 0.1094\n",
            "Results at the end of batch\n",
            "...sparse_categorical_accuracy: 0.9684\n",
            "...loss: 0.1092\n",
            "Results at the end of batch\n",
            "...sparse_categorical_accuracy: 0.9685\n",
            "...loss: 0.1092\n",
            "Results at the end of batch\n",
            "...sparse_categorical_accuracy: 0.9685\n",
            "...loss: 0.1091\n",
            "Results at the end of batch\n",
            "...sparse_categorical_accuracy: 0.9683\n",
            "...loss: 0.1097\n",
            "Results at the end of batch\n",
            "...sparse_categorical_accuracy: 0.9682\n",
            "...loss: 0.1100\n",
            "Results at the end of batch\n",
            "...sparse_categorical_accuracy: 0.9683\n",
            "...loss: 0.1098\n",
            "Results at the end of batch\n",
            "...sparse_categorical_accuracy: 0.9682\n",
            "...loss: 0.1100\n",
            "Results at the end of batch\n",
            "...sparse_categorical_accuracy: 0.9683\n",
            "...loss: 0.1100\n",
            "Results at the end of batch\n",
            "...sparse_categorical_accuracy: 0.9683\n",
            "...loss: 0.1100\n",
            "Results at the end of batch\n",
            "...sparse_categorical_accuracy: 0.9682\n",
            "...loss: 0.1099\n",
            "Results at the end of batch\n",
            "...sparse_categorical_accuracy: 0.9683\n",
            "...loss: 0.1097\n",
            "Results at the end of batch\n",
            "...sparse_categorical_accuracy: 0.9684\n",
            "...loss: 0.1095\n",
            "Results at the end of batch\n",
            "...sparse_categorical_accuracy: 0.9684\n",
            "...loss: 0.1094\n",
            "Results at the end of batch\n",
            "...sparse_categorical_accuracy: 0.9684\n",
            "...loss: 0.1094\n",
            "Results at the end of batch\n",
            "...sparse_categorical_accuracy: 0.9685\n",
            "...loss: 0.1092\n",
            "Results at the end of batch\n",
            "...sparse_categorical_accuracy: 0.9685\n",
            "...loss: 0.1091\n",
            "Results at the end of batch\n",
            "...sparse_categorical_accuracy: 0.9685\n",
            "...loss: 0.1089\n",
            "Results at the end of batch\n",
            "...sparse_categorical_accuracy: 0.9686\n",
            "...loss: 0.1089\n",
            "Results at the end of batch\n",
            "...sparse_categorical_accuracy: 0.9686\n",
            "...loss: 0.1088\n",
            "Results at the end of batch\n",
            "...sparse_categorical_accuracy: 0.9686\n",
            "...loss: 0.1088\n",
            "Results at the end of batch\n",
            "...sparse_categorical_accuracy: 0.9686\n",
            "...loss: 0.1087\n",
            "Results at the end of batch\n",
            "...sparse_categorical_accuracy: 0.9687\n",
            "...loss: 0.1086\n",
            "Results at the end of batch\n",
            "...sparse_categorical_accuracy: 0.9685\n",
            "...loss: 0.1090\n",
            "Results at the end of batch\n",
            "...sparse_categorical_accuracy: 0.9685\n",
            "...loss: 0.1090\n",
            "Results at the end of batch\n",
            "...sparse_categorical_accuracy: 0.9685\n",
            "...loss: 0.1093\n",
            "Results at the end of batch\n",
            "...sparse_categorical_accuracy: 0.9685\n",
            "...loss: 0.1095\n",
            "Results at the end of batch\n",
            "...sparse_categorical_accuracy: 0.9685\n",
            "...loss: 0.1093\n",
            "Results at the end of batch\n",
            "...sparse_categorical_accuracy: 0.9686\n",
            "...loss: 0.1091\n",
            "Results at the end of batch\n",
            "...sparse_categorical_accuracy: 0.9686\n",
            "...loss: 0.1089\n",
            "Results at the end of batch\n",
            "...sparse_categorical_accuracy: 0.9686\n",
            "...loss: 0.1090\n",
            "Results at the end of batch\n",
            "...sparse_categorical_accuracy: 0.9685\n",
            "...loss: 0.1089\n",
            "Results at the end of batch\n",
            "...sparse_categorical_accuracy: 0.9685\n",
            "...loss: 0.1091\n",
            "Results at the end of batch\n",
            "...sparse_categorical_accuracy: 0.9685\n",
            "...loss: 0.1088\n",
            "Results at the end of batch\n",
            "...sparse_categorical_accuracy: 0.9685\n",
            "...loss: 0.1089\n",
            "Results at the end of batch\n",
            "...sparse_categorical_accuracy: 0.9684\n",
            "...loss: 0.1094\n",
            "Results at the end of batch\n",
            "...sparse_categorical_accuracy: 0.9683\n",
            "...loss: 0.1096\n",
            "Results at the end of batch\n",
            "...sparse_categorical_accuracy: 0.9683\n",
            "...loss: 0.1095\n",
            "Results at the end of batch\n",
            "...sparse_categorical_accuracy: 0.9684\n",
            "...loss: 0.1095\n",
            "Results at the end of batch\n",
            "...sparse_categorical_accuracy: 0.9683\n",
            "...loss: 0.1098\n",
            "Results at the end of batch\n",
            "...sparse_categorical_accuracy: 0.9682\n",
            "...loss: 0.1100\n",
            "Results at the end of batch\n",
            "...sparse_categorical_accuracy: 0.9682\n",
            "...loss: 0.1099\n",
            "Results at the end of batch\n",
            "...sparse_categorical_accuracy: 0.9683\n",
            "...loss: 0.1099\n",
            "Results at the end of batch\n",
            "...sparse_categorical_accuracy: 0.9683\n",
            "...loss: 0.1097\n",
            "Results at the end of batch\n",
            "...sparse_categorical_accuracy: 0.9684\n",
            "...loss: 0.1095\n",
            "Results at the end of batch\n",
            "...sparse_categorical_accuracy: 0.9684\n",
            "...loss: 0.1094\n",
            "Results at the end of batch\n",
            "...sparse_categorical_accuracy: 0.9684\n",
            "...loss: 0.1095\n",
            "Results at the end of batch\n",
            "...sparse_categorical_accuracy: 0.9684\n",
            "...loss: 0.1095\n",
            "Results at the end of batch\n",
            "...sparse_categorical_accuracy: 0.9685\n",
            "...loss: 0.1093\n",
            "Results at the end of batch\n",
            "...sparse_categorical_accuracy: 0.9685\n",
            "...loss: 0.1093\n",
            "Results at the end of batch\n",
            "...sparse_categorical_accuracy: 0.9685\n",
            "...loss: 0.1092\n",
            "Results at the end of batch\n",
            "...sparse_categorical_accuracy: 0.9686\n",
            "...loss: 0.1090\n",
            "Results at the end of batch\n",
            "...sparse_categorical_accuracy: 0.9686\n",
            "...loss: 0.1089\n",
            "Results at the end of batch\n",
            "...sparse_categorical_accuracy: 0.9686\n",
            "...loss: 0.1089\n",
            "Results at the end of batch\n",
            "...sparse_categorical_accuracy: 0.9687\n",
            "...loss: 0.1088\n",
            "Results at the end of batch\n",
            "...sparse_categorical_accuracy: 0.9687\n",
            "...loss: 0.1090\n",
            "Results at the end of batch\n",
            "...sparse_categorical_accuracy: 0.9687\n",
            "...loss: 0.1088\n",
            "Results at the end of batch\n",
            "...sparse_categorical_accuracy: 0.9686\n",
            "...loss: 0.1088\n",
            "Results at the end of batch\n",
            "...sparse_categorical_accuracy: 0.9686\n",
            "...loss: 0.1087\n",
            "Results at the end of batch\n",
            "...sparse_categorical_accuracy: 0.9686\n",
            "...loss: 0.1087\n",
            "Results at the end of batch\n",
            "...sparse_categorical_accuracy: 0.9685\n",
            "...loss: 0.1088\n",
            "Results at the end of batch\n",
            "...sparse_categorical_accuracy: 0.9686\n",
            "...loss: 0.1087\n",
            "Results at the end of batch\n",
            "...sparse_categorical_accuracy: 0.9686\n",
            "...loss: 0.1089\n",
            "Results at the end of batch\n",
            "...sparse_categorical_accuracy: 0.9686\n",
            "...loss: 0.1088\n",
            "Results at the end of batch\n",
            "...sparse_categorical_accuracy: 0.9687\n",
            "...loss: 0.1086\n",
            "Results at the end of batch\n",
            "...sparse_categorical_accuracy: 0.9686\n",
            "...loss: 0.1086\n",
            "Results at the end of batch\n",
            "...sparse_categorical_accuracy: 0.9685\n",
            "...loss: 0.1088\n",
            "Results at the end of batch\n",
            "...sparse_categorical_accuracy: 0.9685\n",
            "...loss: 0.1090\n",
            "Results at the end of batch\n",
            "...sparse_categorical_accuracy: 0.9685\n",
            "...loss: 0.1089\n",
            "Results at the end of batch\n",
            "...sparse_categorical_accuracy: 0.9684\n",
            "...loss: 0.1090\n",
            "Results at the end of batch\n",
            "...sparse_categorical_accuracy: 0.9684\n",
            "...loss: 0.1090\n",
            "Results at the end of batch\n",
            "...sparse_categorical_accuracy: 0.9683\n",
            "...loss: 0.1093\n",
            "Results at the end of batch\n",
            "...sparse_categorical_accuracy: 0.9683\n",
            "...loss: 0.1093\n",
            "Results at the end of batch\n",
            "...sparse_categorical_accuracy: 0.9681\n",
            "...loss: 0.1097\n",
            "Results at the end of batch\n",
            "...sparse_categorical_accuracy: 0.9680\n",
            "...loss: 0.1098\n",
            "Results at the end of batch\n",
            "...sparse_categorical_accuracy: 0.9680\n",
            "...loss: 0.1099\n",
            "Results at the end of batch\n",
            "...sparse_categorical_accuracy: 0.9681\n",
            "...loss: 0.1097\n",
            "Results at the end of batch\n",
            "...sparse_categorical_accuracy: 0.9681\n",
            "...loss: 0.1096\n",
            "Results at the end of batch\n",
            "...sparse_categorical_accuracy: 0.9681\n",
            "...loss: 0.1096\n",
            "Results at the end of batch\n",
            "...sparse_categorical_accuracy: 0.9682\n",
            "...loss: 0.1095\n",
            "Results at the end of batch\n",
            "...sparse_categorical_accuracy: 0.9682\n",
            "...loss: 0.1093\n",
            "Results at the end of batch\n",
            "...sparse_categorical_accuracy: 0.9682\n",
            "...loss: 0.1093\n",
            "Results at the end of batch\n",
            "...sparse_categorical_accuracy: 0.9682\n",
            "...loss: 0.1091\n",
            "Results at the end of batch\n",
            "...sparse_categorical_accuracy: 0.9680\n",
            "...loss: 0.1097\n",
            "Results at the end of batch\n",
            "...sparse_categorical_accuracy: 0.9680\n",
            "...loss: 0.1099\n",
            "Results at the end of batch\n",
            "...sparse_categorical_accuracy: 0.9680\n",
            "...loss: 0.1098\n",
            "Results at the end of batch\n",
            "...sparse_categorical_accuracy: 0.9681\n",
            "...loss: 0.1098\n",
            "Results at the end of batch\n",
            "...sparse_categorical_accuracy: 0.9680\n",
            "...loss: 0.1101\n",
            "Results at the end of batch\n",
            "...sparse_categorical_accuracy: 0.9679\n",
            "...loss: 0.1101\n",
            "Results at the end of batch\n",
            "...sparse_categorical_accuracy: 0.9680\n",
            "...loss: 0.1100\n",
            "Results at the end of batch\n",
            "...sparse_categorical_accuracy: 0.9680\n",
            "...loss: 0.1099\n",
            "Results at the end of batch\n",
            "...sparse_categorical_accuracy: 0.9680\n",
            "...loss: 0.1100\n",
            "Results at the end of batch\n",
            "...sparse_categorical_accuracy: 0.9680\n",
            "...loss: 0.1099\n",
            "Results at the end of batch\n",
            "...sparse_categorical_accuracy: 0.9680\n",
            "...loss: 0.1097\n",
            "Results at the end of batch\n",
            "...sparse_categorical_accuracy: 0.9680\n",
            "...loss: 0.1097\n",
            "Results at the end of batch\n",
            "...sparse_categorical_accuracy: 0.9680\n",
            "...loss: 0.1095\n",
            "Results at the end of batch\n",
            "...sparse_categorical_accuracy: 0.9680\n",
            "...loss: 0.1096\n",
            "Results at the end of batch\n",
            "...sparse_categorical_accuracy: 0.9680\n",
            "...loss: 0.1095\n",
            "Results at the end of batch\n",
            "...sparse_categorical_accuracy: 0.9681\n",
            "...loss: 0.1093\n",
            "Results at the end of batch\n",
            "...sparse_categorical_accuracy: 0.9681\n",
            "...loss: 0.1092\n",
            "Results at the end of batch\n",
            "...sparse_categorical_accuracy: 0.9679\n",
            "...loss: 0.1098\n",
            "Results at the end of batch\n",
            "...sparse_categorical_accuracy: 0.9679\n",
            "...loss: 0.1101\n",
            "Results at the end of batch\n",
            "...sparse_categorical_accuracy: 0.9679\n",
            "...loss: 0.1100\n",
            "Results at the end of batch\n",
            "...sparse_categorical_accuracy: 0.9679\n",
            "...loss: 0.1101\n",
            "Results at the end of batch\n",
            "...sparse_categorical_accuracy: 0.9678\n",
            "...loss: 0.1100\n",
            "Results at the end of batch\n",
            "...sparse_categorical_accuracy: 0.9678\n",
            "...loss: 0.1101\n",
            "Results at the end of batch\n",
            "...sparse_categorical_accuracy: 0.9677\n",
            "...loss: 0.1107\n",
            "Results at the end of batch\n",
            "...sparse_categorical_accuracy: 0.9676\n",
            "...loss: 0.1108\n",
            "Results at the end of batch\n",
            "...sparse_categorical_accuracy: 0.9677\n",
            "...loss: 0.1107\n",
            "Results at the end of batch\n",
            "...sparse_categorical_accuracy: 0.9675\n",
            "...loss: 0.1114\n",
            "Results at the end of batch\n",
            "...sparse_categorical_accuracy: 0.9675\n",
            "...loss: 0.1113\n",
            "Results at the end of batch\n",
            "...sparse_categorical_accuracy: 0.9675\n",
            "...loss: 0.1112\n",
            "Results at the end of batch\n",
            "...sparse_categorical_accuracy: 0.9676\n",
            "...loss: 0.1110\n",
            "Results at the end of batch\n",
            "...sparse_categorical_accuracy: 0.9676\n",
            "...loss: 0.1112\n",
            "Results at the end of batch\n",
            "...sparse_categorical_accuracy: 0.9675\n",
            "...loss: 0.1113\n",
            "Results at the end of batch\n",
            "...sparse_categorical_accuracy: 0.9675\n",
            "...loss: 0.1115\n",
            "Results at the end of batch\n",
            "...sparse_categorical_accuracy: 0.9675\n",
            "...loss: 0.1117\n",
            "Results at the end of batch\n",
            "...sparse_categorical_accuracy: 0.9675\n",
            "...loss: 0.1116\n",
            "Results at the end of batch\n",
            "...sparse_categorical_accuracy: 0.9675\n",
            "...loss: 0.1116\n",
            "Results at the end of batch\n",
            "...sparse_categorical_accuracy: 0.9676\n",
            "...loss: 0.1116\n",
            "Results at the end of batch\n",
            "...sparse_categorical_accuracy: 0.9676\n",
            "...loss: 0.1115\n",
            "Results at the end of batch\n",
            "...sparse_categorical_accuracy: 0.9676\n",
            "...loss: 0.1113\n",
            "Results at the end of batch\n",
            "...sparse_categorical_accuracy: 0.9677\n",
            "...loss: 0.1112\n",
            "Results at the end of batch\n",
            "...sparse_categorical_accuracy: 0.9676\n",
            "...loss: 0.1114\n",
            "Results at the end of batch\n",
            "...sparse_categorical_accuracy: 0.9676\n",
            "...loss: 0.1114\n",
            "Results at the end of batch\n",
            "...sparse_categorical_accuracy: 0.9676\n",
            "...loss: 0.1112\n",
            "Results at the end of batch\n",
            "...sparse_categorical_accuracy: 0.9676\n",
            "...loss: 0.1111\n",
            "Results at the end of batch\n",
            "...sparse_categorical_accuracy: 0.9676\n",
            "...loss: 0.1110\n",
            "Results at the end of batch\n",
            "...sparse_categorical_accuracy: 0.9676\n",
            "...loss: 0.1112\n",
            "Results at the end of batch\n",
            "...sparse_categorical_accuracy: 0.9677\n",
            "...loss: 0.1110\n",
            "Results at the end of batch\n",
            "...sparse_categorical_accuracy: 0.9677\n",
            "...loss: 0.1109\n",
            "Results at the end of batch\n",
            "...sparse_categorical_accuracy: 0.9677\n",
            "...loss: 0.1109\n",
            "Results at the end of batch\n",
            "...sparse_categorical_accuracy: 0.9676\n",
            "...loss: 0.1109\n",
            "Results at the end of batch\n",
            "...sparse_categorical_accuracy: 0.9676\n",
            "...loss: 0.1109\n",
            "Results at the end of batch\n",
            "...sparse_categorical_accuracy: 0.9675\n",
            "...loss: 0.1110\n",
            "Results at the end of batch\n",
            "...sparse_categorical_accuracy: 0.9676\n",
            "...loss: 0.1108\n",
            "Results at the end of batch\n",
            "...sparse_categorical_accuracy: 0.9676\n",
            "...loss: 0.1106\n",
            "Results at the end of batch\n",
            "...sparse_categorical_accuracy: 0.9676\n",
            "...loss: 0.1107\n",
            "Results at the end of batch\n",
            "...sparse_categorical_accuracy: 0.9676\n",
            "...loss: 0.1106\n",
            "Results at the end of batch\n",
            "...sparse_categorical_accuracy: 0.9676\n",
            "...loss: 0.1107\n",
            "Results at the end of batch\n",
            "...sparse_categorical_accuracy: 0.9675\n",
            "...loss: 0.1110\n",
            "Results at the end of batch\n",
            "...sparse_categorical_accuracy: 0.9675\n",
            "...loss: 0.1109\n",
            "Results at the end of batch\n",
            "...sparse_categorical_accuracy: 0.9676\n",
            "...loss: 0.1108\n",
            "Results at the end of batch\n",
            "...sparse_categorical_accuracy: 0.9676\n",
            "...loss: 0.1107\n",
            "Results at the end of batch\n",
            "...sparse_categorical_accuracy: 0.9676\n",
            "...loss: 0.1106\n",
            "Results at the end of batch\n",
            "...sparse_categorical_accuracy: 0.9677\n",
            "...loss: 0.1106\n",
            "Results at the end of batch\n",
            "...sparse_categorical_accuracy: 0.9676\n",
            "...loss: 0.1107\n",
            "Results at the end of batch\n",
            "...sparse_categorical_accuracy: 0.9676\n",
            "...loss: 0.1109\n",
            "Results at the end of batch\n",
            "...sparse_categorical_accuracy: 0.9675\n",
            "...loss: 0.1108\n",
            "Results at the end of batch\n",
            "...sparse_categorical_accuracy: 0.9675\n",
            "...loss: 0.1109\n",
            "Results at the end of batch\n",
            "...sparse_categorical_accuracy: 0.9675\n",
            "...loss: 0.1108\n",
            "Results at the end of batch\n",
            "...sparse_categorical_accuracy: 0.9675\n",
            "...loss: 0.1108\n",
            "Results at the end of batch\n",
            "...sparse_categorical_accuracy: 0.9675\n",
            "...loss: 0.1107\n",
            "Results at the end of batch\n",
            "...sparse_categorical_accuracy: 0.9676\n",
            "...loss: 0.1106\n",
            "Results at the end of batch\n",
            "...sparse_categorical_accuracy: 0.9676\n",
            "...loss: 0.1105\n",
            "Results at the end of batch\n",
            "...sparse_categorical_accuracy: 0.9676\n",
            "...loss: 0.1103\n",
            "Results at the end of batch\n",
            "...sparse_categorical_accuracy: 0.9676\n",
            "...loss: 0.1104\n",
            "Results at the end of batch\n",
            "...sparse_categorical_accuracy: 0.9677\n",
            "...loss: 0.1102\n",
            "Results at the end of batch\n",
            "...sparse_categorical_accuracy: 0.9678\n",
            "...loss: 0.1100\n",
            "Results at the end of batch\n",
            "...sparse_categorical_accuracy: 0.9678\n",
            "...loss: 0.1101\n",
            "Results at the end of batch\n",
            "...sparse_categorical_accuracy: 0.9677\n",
            "...loss: 0.1101\n",
            "Results at the end of batch\n",
            "...sparse_categorical_accuracy: 0.9677\n",
            "...loss: 0.1100\n",
            "Results at the end of batch\n",
            "...sparse_categorical_accuracy: 0.9677\n",
            "...loss: 0.1100\n",
            "Results at the end of batch\n",
            "...sparse_categorical_accuracy: 0.9677\n",
            "...loss: 0.1099\n",
            "Results at the end of batch\n",
            "...sparse_categorical_accuracy: 0.9678\n",
            "...loss: 0.1099\n",
            "Results at the end of batch\n",
            "...sparse_categorical_accuracy: 0.9678\n",
            "...loss: 0.1098\n",
            "Results at the end of batch\n",
            "...sparse_categorical_accuracy: 0.9678\n",
            "...loss: 0.1099\n",
            "Results at the end of batch\n",
            "...sparse_categorical_accuracy: 0.9678\n",
            "...loss: 0.1097\n",
            "Results at the end of batch\n",
            "...sparse_categorical_accuracy: 0.9678\n",
            "...loss: 0.1097\n",
            "Results at the end of batch\n",
            "...sparse_categorical_accuracy: 0.9678\n",
            "...loss: 0.1097\n",
            "Results at the end of batch\n",
            "...sparse_categorical_accuracy: 0.9679\n",
            "...loss: 0.1097\n",
            "Results at the end of batch\n",
            "...sparse_categorical_accuracy: 0.9679\n",
            "...loss: 0.1096\n",
            "Results at the end of batch\n",
            "...sparse_categorical_accuracy: 0.9680\n",
            "...loss: 0.1094\n",
            "Results at the end of batch\n",
            "...sparse_categorical_accuracy: 0.9679\n",
            "...loss: 0.1095\n",
            "Results at the end of batch\n",
            "...sparse_categorical_accuracy: 0.9680\n",
            "...loss: 0.1094\n",
            "Results at the end of batch\n",
            "...sparse_categorical_accuracy: 0.9680\n",
            "...loss: 0.1095\n",
            "Results at the end of batch\n",
            "...sparse_categorical_accuracy: 0.9680\n",
            "...loss: 0.1093\n",
            "Results at the end of batch\n",
            "...sparse_categorical_accuracy: 0.9680\n",
            "...loss: 0.1092\n",
            "Results at the end of batch\n",
            "...sparse_categorical_accuracy: 0.9679\n",
            "...loss: 0.1092\n",
            "Results at the end of batch\n",
            "...sparse_categorical_accuracy: 0.9680\n",
            "...loss: 0.1091\n",
            "Results at the end of batch\n",
            "...sparse_categorical_accuracy: 0.9680\n",
            "...loss: 0.1089\n",
            "Results at the end of batch\n",
            "...sparse_categorical_accuracy: 0.9680\n",
            "...loss: 0.1089\n",
            "Results at the end of batch\n",
            "...sparse_categorical_accuracy: 0.9681\n",
            "...loss: 0.1087\n",
            "Results at the end of batch\n",
            "...sparse_categorical_accuracy: 0.9681\n",
            "...loss: 0.1087\n",
            "Results at the end of batch\n",
            "...sparse_categorical_accuracy: 0.9681\n",
            "...loss: 0.1086\n",
            "Results at the end of batch\n",
            "...sparse_categorical_accuracy: 0.9680\n",
            "...loss: 0.1087\n",
            "Results at the end of batch\n",
            "...sparse_categorical_accuracy: 0.9681\n",
            "...loss: 0.1085\n",
            "Results at the end of batch\n",
            "...sparse_categorical_accuracy: 0.9681\n",
            "...loss: 0.1086\n",
            "Results at the end of batch\n",
            "...sparse_categorical_accuracy: 0.9681\n",
            "...loss: 0.1086\n",
            "Results at the end of batch\n",
            "...sparse_categorical_accuracy: 0.9681\n",
            "...loss: 0.1085\n",
            "Results at the end of batch\n",
            "...sparse_categorical_accuracy: 0.9681\n",
            "...loss: 0.1083\n",
            "Results at the end of batch\n",
            "...sparse_categorical_accuracy: 0.9681\n",
            "...loss: 0.1084\n",
            "Results at the end of batch\n",
            "...sparse_categorical_accuracy: 0.9681\n",
            "...loss: 0.1082\n",
            "Results at the end of batch\n",
            "...sparse_categorical_accuracy: 0.9682\n",
            "...loss: 0.1080\n",
            "Results at the end of batch\n",
            "...sparse_categorical_accuracy: 0.9682\n",
            "...loss: 0.1079\n",
            "Results at the end of batch\n",
            "...sparse_categorical_accuracy: 0.9683\n",
            "...loss: 0.1077\n",
            "Results at the end of batch\n",
            "...sparse_categorical_accuracy: 0.9684\n",
            "...loss: 0.1075\n",
            "Results at the end of batch\n",
            "...sparse_categorical_accuracy: 0.9684\n",
            "...loss: 0.1074\n",
            "Results at the end of batch\n",
            "...sparse_categorical_accuracy: 0.9685\n",
            "...loss: 0.1072\n",
            "Results at the end of batch\n",
            "...sparse_categorical_accuracy: 0.9684\n",
            "...loss: 0.1074\n",
            "Results at the end of batch\n",
            "...sparse_categorical_accuracy: 0.9685\n",
            "...loss: 0.1072\n",
            "Results at the end of batch\n",
            "...sparse_categorical_accuracy: 0.9685\n",
            "...loss: 0.1070\n",
            "Results at the end of batch\n",
            "...sparse_categorical_accuracy: 0.9686\n",
            "...loss: 0.1068\n",
            "Results at the end of batch\n",
            "...sparse_categorical_accuracy: 0.9686\n",
            "...loss: 0.1067\n",
            "Results at the end of batch\n",
            "...sparse_categorical_accuracy: 0.9686\n",
            "...loss: 0.1067\n",
            "Results at the end of batch\n",
            "...sparse_categorical_accuracy: 0.9686\n",
            "...loss: 0.1066\n",
            "Results at the end of batch\n",
            "...sparse_categorical_accuracy: 0.9686\n",
            "...loss: 0.1064\n",
            "Results at the end of batch\n",
            "...sparse_categorical_accuracy: 0.9687\n",
            "...loss: 0.1063\n",
            "Results at the end of batch\n",
            "...sparse_categorical_accuracy: 0.9686\n",
            "...loss: 0.1070\n",
            "Results at the end of batch\n",
            "...sparse_categorical_accuracy: 0.9687\n",
            "...loss: 0.1068\n",
            "Results at the end of batch\n",
            "...sparse_categorical_accuracy: 0.9687\n",
            "...loss: 0.1071\n",
            "Results at the end of epoch0\n",
            "...sparse_categorical_accuracy: 0.9687\n",
            "Results at the end of epoch0\n",
            "...loss: 0.1071\n",
            "Results at the end of batch\n",
            "...sparse_categorical_accuracy: 0.9500\n",
            "...loss: 0.1607\n",
            "Results at the end of batch\n",
            "...sparse_categorical_accuracy: 0.9600\n",
            "...loss: 0.1152\n",
            "Results at the end of batch\n",
            "...sparse_categorical_accuracy: 0.9500\n",
            "...loss: 0.1625\n",
            "Results at the end of batch\n",
            "...sparse_categorical_accuracy: 0.9600\n",
            "...loss: 0.1325\n",
            "Results at the end of batch\n",
            "...sparse_categorical_accuracy: 0.9680\n",
            "...loss: 0.1097\n",
            "Results at the end of batch\n",
            "...sparse_categorical_accuracy: 0.9717\n",
            "...loss: 0.0965\n",
            "Results at the end of batch\n",
            "...sparse_categorical_accuracy: 0.9743\n",
            "...loss: 0.0880\n",
            "Results at the end of batch\n",
            "...sparse_categorical_accuracy: 0.9737\n",
            "...loss: 0.0898\n",
            "Results at the end of batch\n",
            "...sparse_categorical_accuracy: 0.9722\n",
            "...loss: 0.0900\n",
            "Results at the end of batch\n",
            "...sparse_categorical_accuracy: 0.9730\n",
            "...loss: 0.0879\n",
            "Results at the end of batch\n",
            "...sparse_categorical_accuracy: 0.9736\n",
            "...loss: 0.0861\n",
            "Results at the end of batch\n",
            "...sparse_categorical_accuracy: 0.9742\n",
            "...loss: 0.0821\n",
            "Results at the end of batch\n",
            "...sparse_categorical_accuracy: 0.9754\n",
            "...loss: 0.0798\n",
            "Results at the end of batch\n",
            "...sparse_categorical_accuracy: 0.9771\n",
            "...loss: 0.0753\n",
            "Results at the end of batch\n",
            "...sparse_categorical_accuracy: 0.9773\n",
            "...loss: 0.0752\n",
            "Results at the end of batch\n",
            "...sparse_categorical_accuracy: 0.9762\n",
            "...loss: 0.0777\n",
            "Results at the end of batch\n",
            "...sparse_categorical_accuracy: 0.9759\n",
            "...loss: 0.0792\n",
            "Results at the end of batch\n",
            "...sparse_categorical_accuracy: 0.9739\n",
            "...loss: 0.0826\n",
            "Results at the end of batch\n",
            "...sparse_categorical_accuracy: 0.9726\n",
            "...loss: 0.0834\n",
            "Results at the end of batch\n",
            "...sparse_categorical_accuracy: 0.9725\n",
            "...loss: 0.0843\n",
            "Results at the end of batch\n",
            "...sparse_categorical_accuracy: 0.9729\n",
            "...loss: 0.0835\n",
            "Results at the end of batch\n",
            "...sparse_categorical_accuracy: 0.9732\n",
            "...loss: 0.0815\n",
            "Results at the end of batch\n",
            "...sparse_categorical_accuracy: 0.9730\n",
            "...loss: 0.0826\n",
            "Results at the end of batch\n",
            "...sparse_categorical_accuracy: 0.9725\n",
            "...loss: 0.0832\n",
            "Results at the end of batch\n",
            "...sparse_categorical_accuracy: 0.9724\n",
            "...loss: 0.0825\n",
            "Results at the end of batch\n",
            "...sparse_categorical_accuracy: 0.9715\n",
            "...loss: 0.0895\n",
            "Results at the end of batch\n",
            "...sparse_categorical_accuracy: 0.9704\n",
            "...loss: 0.0945\n",
            "Results at the end of batch\n",
            "...sparse_categorical_accuracy: 0.9707\n",
            "...loss: 0.0933\n",
            "Results at the end of batch\n",
            "...sparse_categorical_accuracy: 0.9717\n",
            "...loss: 0.0925\n",
            "Results at the end of batch\n",
            "...sparse_categorical_accuracy: 0.9720\n",
            "...loss: 0.0915\n",
            "Results at the end of batch\n",
            "...sparse_categorical_accuracy: 0.9716\n",
            "...loss: 0.0926\n",
            "Results at the end of batch\n",
            "...sparse_categorical_accuracy: 0.9712\n",
            "...loss: 0.0923\n",
            "Results at the end of batch\n",
            "...sparse_categorical_accuracy: 0.9718\n",
            "...loss: 0.0919\n",
            "Results at the end of batch\n",
            "...sparse_categorical_accuracy: 0.9721\n",
            "...loss: 0.0916\n",
            "Results at the end of batch\n",
            "...sparse_categorical_accuracy: 0.9717\n",
            "...loss: 0.0924\n",
            "Results at the end of batch\n",
            "...sparse_categorical_accuracy: 0.9722\n",
            "...loss: 0.0923\n",
            "Results at the end of batch\n",
            "...sparse_categorical_accuracy: 0.9719\n",
            "...loss: 0.0923\n",
            "Results at the end of batch\n",
            "...sparse_categorical_accuracy: 0.9724\n",
            "...loss: 0.0913\n",
            "Results at the end of batch\n",
            "...sparse_categorical_accuracy: 0.9723\n",
            "...loss: 0.0912\n",
            "Results at the end of batch\n",
            "...sparse_categorical_accuracy: 0.9728\n",
            "...loss: 0.0916\n",
            "Results at the end of batch\n",
            "...sparse_categorical_accuracy: 0.9724\n",
            "...loss: 0.0911\n",
            "Results at the end of batch\n",
            "...sparse_categorical_accuracy: 0.9729\n",
            "...loss: 0.0899\n",
            "Results at the end of batch\n",
            "...sparse_categorical_accuracy: 0.9728\n",
            "...loss: 0.0902\n",
            "Results at the end of batch\n",
            "...sparse_categorical_accuracy: 0.9716\n",
            "...loss: 0.0930\n",
            "Results at the end of batch\n",
            "...sparse_categorical_accuracy: 0.9716\n",
            "...loss: 0.0927\n",
            "Results at the end of batch\n",
            "...sparse_categorical_accuracy: 0.9713\n",
            "...loss: 0.0927\n",
            "Results at the end of batch\n",
            "...sparse_categorical_accuracy: 0.9711\n",
            "...loss: 0.0928\n",
            "Results at the end of batch\n",
            "...sparse_categorical_accuracy: 0.9700\n",
            "...loss: 0.0961\n",
            "Results at the end of batch\n",
            "...sparse_categorical_accuracy: 0.9702\n",
            "...loss: 0.0951\n",
            "Results at the end of batch\n",
            "...sparse_categorical_accuracy: 0.9706\n",
            "...loss: 0.0940\n",
            "Results at the end of batch\n",
            "...sparse_categorical_accuracy: 0.9708\n",
            "...loss: 0.0932\n",
            "Results at the end of batch\n",
            "...sparse_categorical_accuracy: 0.9708\n",
            "...loss: 0.0937\n",
            "Results at the end of batch\n",
            "...sparse_categorical_accuracy: 0.9706\n",
            "...loss: 0.0939\n",
            "Results at the end of batch\n",
            "...sparse_categorical_accuracy: 0.9706\n",
            "...loss: 0.0937\n",
            "Results at the end of batch\n",
            "...sparse_categorical_accuracy: 0.9705\n",
            "...loss: 0.0934\n",
            "Results at the end of batch\n",
            "...sparse_categorical_accuracy: 0.9709\n",
            "...loss: 0.0923\n",
            "Results at the end of batch\n",
            "...sparse_categorical_accuracy: 0.9711\n",
            "...loss: 0.0922\n",
            "Results at the end of batch\n",
            "...sparse_categorical_accuracy: 0.9697\n",
            "...loss: 0.0951\n",
            "Results at the end of batch\n",
            "...sparse_categorical_accuracy: 0.9693\n",
            "...loss: 0.0960\n",
            "Results at the end of batch\n",
            "...sparse_categorical_accuracy: 0.9690\n",
            "...loss: 0.0973\n",
            "Results at the end of batch\n",
            "...sparse_categorical_accuracy: 0.9685\n",
            "...loss: 0.0975\n",
            "Results at the end of batch\n",
            "...sparse_categorical_accuracy: 0.9685\n",
            "...loss: 0.0975\n",
            "Results at the end of batch\n",
            "...sparse_categorical_accuracy: 0.9690\n",
            "...loss: 0.0963\n",
            "Results at the end of batch\n",
            "...sparse_categorical_accuracy: 0.9694\n",
            "...loss: 0.0957\n",
            "Results at the end of batch\n",
            "...sparse_categorical_accuracy: 0.9695\n",
            "...loss: 0.0953\n",
            "Results at the end of batch\n",
            "...sparse_categorical_accuracy: 0.9697\n",
            "...loss: 0.0951\n",
            "Results at the end of batch\n",
            "...sparse_categorical_accuracy: 0.9697\n",
            "...loss: 0.0956\n",
            "Results at the end of batch\n",
            "...sparse_categorical_accuracy: 0.9694\n",
            "...loss: 0.0957\n",
            "Results at the end of batch\n",
            "...sparse_categorical_accuracy: 0.9693\n",
            "...loss: 0.0959\n",
            "Results at the end of batch\n",
            "...sparse_categorical_accuracy: 0.9693\n",
            "...loss: 0.0958\n",
            "Results at the end of batch\n",
            "...sparse_categorical_accuracy: 0.9693\n",
            "...loss: 0.0961\n",
            "Results at the end of batch\n",
            "...sparse_categorical_accuracy: 0.9692\n",
            "...loss: 0.0964\n",
            "Results at the end of batch\n",
            "...sparse_categorical_accuracy: 0.9695\n",
            "...loss: 0.0961\n",
            "Results at the end of batch\n",
            "...sparse_categorical_accuracy: 0.9697\n",
            "...loss: 0.0951\n",
            "Results at the end of batch\n",
            "...sparse_categorical_accuracy: 0.9692\n",
            "...loss: 0.0965\n",
            "Results at the end of batch\n",
            "...sparse_categorical_accuracy: 0.9691\n",
            "...loss: 0.0967\n",
            "Results at the end of batch\n",
            "...sparse_categorical_accuracy: 0.9692\n",
            "...loss: 0.0960\n",
            "Results at the end of batch\n",
            "...sparse_categorical_accuracy: 0.9688\n",
            "...loss: 0.0975\n",
            "Results at the end of batch\n",
            "...sparse_categorical_accuracy: 0.9686\n",
            "...loss: 0.0977\n",
            "Results at the end of batch\n",
            "...sparse_categorical_accuracy: 0.9685\n",
            "...loss: 0.0980\n",
            "Results at the end of batch\n",
            "...sparse_categorical_accuracy: 0.9688\n",
            "...loss: 0.0976\n",
            "Results at the end of batch\n",
            "...sparse_categorical_accuracy: 0.9689\n",
            "...loss: 0.0974\n",
            "Results at the end of batch\n",
            "...sparse_categorical_accuracy: 0.9692\n",
            "...loss: 0.0966\n",
            "Results at the end of batch\n",
            "...sparse_categorical_accuracy: 0.9690\n",
            "...loss: 0.0974\n",
            "Results at the end of batch\n",
            "...sparse_categorical_accuracy: 0.9693\n",
            "...loss: 0.0967\n",
            "Results at the end of batch\n",
            "...sparse_categorical_accuracy: 0.9692\n",
            "...loss: 0.0969\n",
            "Results at the end of batch\n",
            "...sparse_categorical_accuracy: 0.9694\n",
            "...loss: 0.0963\n",
            "Results at the end of batch\n",
            "...sparse_categorical_accuracy: 0.9694\n",
            "...loss: 0.0961\n",
            "Results at the end of batch\n",
            "...sparse_categorical_accuracy: 0.9698\n",
            "...loss: 0.0952\n",
            "Results at the end of batch\n",
            "...sparse_categorical_accuracy: 0.9700\n",
            "...loss: 0.0945\n",
            "Results at the end of batch\n",
            "...sparse_categorical_accuracy: 0.9702\n",
            "...loss: 0.0941\n",
            "Results at the end of batch\n",
            "...sparse_categorical_accuracy: 0.9702\n",
            "...loss: 0.0940\n",
            "Results at the end of batch\n",
            "...sparse_categorical_accuracy: 0.9702\n",
            "...loss: 0.0945\n",
            "Results at the end of batch\n",
            "...sparse_categorical_accuracy: 0.9702\n",
            "...loss: 0.0944\n",
            "Results at the end of batch\n",
            "...sparse_categorical_accuracy: 0.9702\n",
            "...loss: 0.0942\n",
            "Results at the end of batch\n",
            "...sparse_categorical_accuracy: 0.9701\n",
            "...loss: 0.0948\n",
            "Results at the end of batch\n",
            "...sparse_categorical_accuracy: 0.9703\n",
            "...loss: 0.0940\n",
            "Results at the end of batch\n",
            "...sparse_categorical_accuracy: 0.9705\n",
            "...loss: 0.0935\n",
            "Results at the end of batch\n",
            "...sparse_categorical_accuracy: 0.9706\n",
            "...loss: 0.0936\n",
            "Results at the end of batch\n",
            "...sparse_categorical_accuracy: 0.9708\n",
            "...loss: 0.0931\n",
            "Results at the end of batch\n",
            "...sparse_categorical_accuracy: 0.9706\n",
            "...loss: 0.0937\n",
            "Results at the end of batch\n",
            "...sparse_categorical_accuracy: 0.9706\n",
            "...loss: 0.0938\n",
            "Results at the end of batch\n",
            "...sparse_categorical_accuracy: 0.9707\n",
            "...loss: 0.0939\n",
            "Results at the end of batch\n",
            "...sparse_categorical_accuracy: 0.9708\n",
            "...loss: 0.0936\n",
            "Results at the end of batch\n",
            "...sparse_categorical_accuracy: 0.9710\n",
            "...loss: 0.0930\n",
            "Results at the end of batch\n",
            "...sparse_categorical_accuracy: 0.9710\n",
            "...loss: 0.0926\n",
            "Results at the end of batch\n",
            "...sparse_categorical_accuracy: 0.9711\n",
            "...loss: 0.0928\n",
            "Results at the end of batch\n",
            "...sparse_categorical_accuracy: 0.9706\n",
            "...loss: 0.0945\n",
            "Results at the end of batch\n",
            "...sparse_categorical_accuracy: 0.9706\n",
            "...loss: 0.0949\n",
            "Results at the end of batch\n",
            "...sparse_categorical_accuracy: 0.9702\n",
            "...loss: 0.0964\n",
            "Results at the end of batch\n",
            "...sparse_categorical_accuracy: 0.9702\n",
            "...loss: 0.0964\n",
            "Results at the end of batch\n",
            "...sparse_categorical_accuracy: 0.9701\n",
            "...loss: 0.0965\n",
            "Results at the end of batch\n",
            "...sparse_categorical_accuracy: 0.9703\n",
            "...loss: 0.0959\n",
            "Results at the end of batch\n",
            "...sparse_categorical_accuracy: 0.9702\n",
            "...loss: 0.0959\n",
            "Results at the end of batch\n",
            "...sparse_categorical_accuracy: 0.9701\n",
            "...loss: 0.0960\n",
            "Results at the end of batch\n",
            "...sparse_categorical_accuracy: 0.9703\n",
            "...loss: 0.0956\n",
            "Results at the end of batch\n",
            "...sparse_categorical_accuracy: 0.9702\n",
            "...loss: 0.0965\n",
            "Results at the end of batch\n",
            "...sparse_categorical_accuracy: 0.9704\n",
            "...loss: 0.0960\n",
            "Results at the end of batch\n",
            "...sparse_categorical_accuracy: 0.9704\n",
            "...loss: 0.0959\n",
            "Results at the end of batch\n",
            "...sparse_categorical_accuracy: 0.9704\n",
            "...loss: 0.0958\n",
            "Results at the end of batch\n",
            "...sparse_categorical_accuracy: 0.9706\n",
            "...loss: 0.0953\n",
            "Results at the end of batch\n",
            "...sparse_categorical_accuracy: 0.9703\n",
            "...loss: 0.0956\n",
            "Results at the end of batch\n",
            "...sparse_categorical_accuracy: 0.9703\n",
            "...loss: 0.0961\n",
            "Results at the end of batch\n",
            "...sparse_categorical_accuracy: 0.9704\n",
            "...loss: 0.0958\n",
            "Results at the end of batch\n",
            "...sparse_categorical_accuracy: 0.9703\n",
            "...loss: 0.0961\n",
            "Results at the end of batch\n",
            "...sparse_categorical_accuracy: 0.9701\n",
            "...loss: 0.0970\n",
            "Results at the end of batch\n",
            "...sparse_categorical_accuracy: 0.9701\n",
            "...loss: 0.0973\n",
            "Results at the end of batch\n",
            "...sparse_categorical_accuracy: 0.9701\n",
            "...loss: 0.0971\n",
            "Results at the end of batch\n",
            "...sparse_categorical_accuracy: 0.9699\n",
            "...loss: 0.0972\n",
            "Results at the end of batch\n",
            "...sparse_categorical_accuracy: 0.9701\n",
            "...loss: 0.0967\n",
            "Results at the end of batch\n",
            "...sparse_categorical_accuracy: 0.9702\n",
            "...loss: 0.0965\n",
            "Results at the end of batch\n",
            "...sparse_categorical_accuracy: 0.9702\n",
            "...loss: 0.0964\n",
            "Results at the end of batch\n",
            "...sparse_categorical_accuracy: 0.9705\n",
            "...loss: 0.0958\n",
            "Results at the end of batch\n",
            "...sparse_categorical_accuracy: 0.9705\n",
            "...loss: 0.0955\n",
            "Results at the end of batch\n",
            "...sparse_categorical_accuracy: 0.9706\n",
            "...loss: 0.0953\n",
            "Results at the end of batch\n",
            "...sparse_categorical_accuracy: 0.9705\n",
            "...loss: 0.0953\n",
            "Results at the end of batch\n",
            "...sparse_categorical_accuracy: 0.9706\n",
            "...loss: 0.0950\n",
            "Results at the end of batch\n",
            "...sparse_categorical_accuracy: 0.9705\n",
            "...loss: 0.0952\n",
            "Results at the end of batch\n",
            "...sparse_categorical_accuracy: 0.9706\n",
            "...loss: 0.0951\n",
            "Results at the end of batch\n",
            "...sparse_categorical_accuracy: 0.9706\n",
            "...loss: 0.0958\n",
            "Results at the end of batch\n",
            "...sparse_categorical_accuracy: 0.9707\n",
            "...loss: 0.0955\n",
            "Results at the end of batch\n",
            "...sparse_categorical_accuracy: 0.9708\n",
            "...loss: 0.0951\n",
            "Results at the end of batch\n",
            "...sparse_categorical_accuracy: 0.9706\n",
            "...loss: 0.0956\n",
            "Results at the end of batch\n",
            "...sparse_categorical_accuracy: 0.9708\n",
            "...loss: 0.0951\n",
            "Results at the end of batch\n",
            "...sparse_categorical_accuracy: 0.9708\n",
            "...loss: 0.0949\n",
            "Results at the end of batch\n",
            "...sparse_categorical_accuracy: 0.9708\n",
            "...loss: 0.0951\n",
            "Results at the end of batch\n",
            "...sparse_categorical_accuracy: 0.9706\n",
            "...loss: 0.0953\n",
            "Results at the end of batch\n",
            "...sparse_categorical_accuracy: 0.9707\n",
            "...loss: 0.0954\n",
            "Results at the end of batch\n",
            "...sparse_categorical_accuracy: 0.9708\n",
            "...loss: 0.0952\n",
            "Results at the end of batch\n",
            "...sparse_categorical_accuracy: 0.9708\n",
            "...loss: 0.0952\n",
            "Results at the end of batch\n",
            "...sparse_categorical_accuracy: 0.9709\n",
            "...loss: 0.0949\n",
            "Results at the end of batch\n",
            "...sparse_categorical_accuracy: 0.9708\n",
            "...loss: 0.0950\n",
            "Results at the end of batch\n",
            "...sparse_categorical_accuracy: 0.9709\n",
            "...loss: 0.0946\n",
            "Results at the end of batch\n",
            "...sparse_categorical_accuracy: 0.9710\n",
            "...loss: 0.0942\n",
            "Results at the end of batch\n",
            "...sparse_categorical_accuracy: 0.9711\n",
            "...loss: 0.0939\n",
            "Results at the end of batch\n",
            "...sparse_categorical_accuracy: 0.9712\n",
            "...loss: 0.0946\n",
            "Results at the end of batch\n",
            "...sparse_categorical_accuracy: 0.9711\n",
            "...loss: 0.0945\n",
            "Results at the end of batch\n",
            "...sparse_categorical_accuracy: 0.9712\n",
            "...loss: 0.0943\n",
            "Results at the end of batch\n",
            "...sparse_categorical_accuracy: 0.9711\n",
            "...loss: 0.0944\n",
            "Results at the end of batch\n",
            "...sparse_categorical_accuracy: 0.9712\n",
            "...loss: 0.0942\n",
            "Results at the end of batch\n",
            "...sparse_categorical_accuracy: 0.9712\n",
            "...loss: 0.0941\n",
            "Results at the end of batch\n",
            "...sparse_categorical_accuracy: 0.9714\n",
            "...loss: 0.0936\n",
            "Results at the end of batch\n",
            "...sparse_categorical_accuracy: 0.9715\n",
            "...loss: 0.0934\n",
            "Results at the end of batch\n",
            "...sparse_categorical_accuracy: 0.9715\n",
            "...loss: 0.0933\n",
            "Results at the end of batch\n",
            "...sparse_categorical_accuracy: 0.9712\n",
            "...loss: 0.0940\n",
            "Results at the end of batch\n",
            "...sparse_categorical_accuracy: 0.9711\n",
            "...loss: 0.0950\n",
            "Results at the end of batch\n",
            "...sparse_categorical_accuracy: 0.9710\n",
            "...loss: 0.0953\n",
            "Results at the end of batch\n",
            "...sparse_categorical_accuracy: 0.9707\n",
            "...loss: 0.0961\n",
            "Results at the end of batch\n",
            "...sparse_categorical_accuracy: 0.9707\n",
            "...loss: 0.0969\n",
            "Results at the end of batch\n",
            "...sparse_categorical_accuracy: 0.9708\n",
            "...loss: 0.0966\n",
            "Results at the end of batch\n",
            "...sparse_categorical_accuracy: 0.9708\n",
            "...loss: 0.0963\n",
            "Results at the end of batch\n",
            "...sparse_categorical_accuracy: 0.9706\n",
            "...loss: 0.0969\n",
            "Results at the end of batch\n",
            "...sparse_categorical_accuracy: 0.9705\n",
            "...loss: 0.0974\n",
            "Results at the end of batch\n",
            "...sparse_categorical_accuracy: 0.9705\n",
            "...loss: 0.0971\n",
            "Results at the end of batch\n",
            "...sparse_categorical_accuracy: 0.9705\n",
            "...loss: 0.0971\n",
            "Results at the end of batch\n",
            "...sparse_categorical_accuracy: 0.9705\n",
            "...loss: 0.0969\n",
            "Results at the end of batch\n",
            "...sparse_categorical_accuracy: 0.9703\n",
            "...loss: 0.0971\n",
            "Results at the end of batch\n",
            "...sparse_categorical_accuracy: 0.9703\n",
            "...loss: 0.0970\n",
            "Results at the end of batch\n",
            "...sparse_categorical_accuracy: 0.9703\n",
            "...loss: 0.0972\n",
            "Results at the end of batch\n",
            "...sparse_categorical_accuracy: 0.9704\n",
            "...loss: 0.0968\n",
            "Results at the end of batch\n",
            "...sparse_categorical_accuracy: 0.9706\n",
            "...loss: 0.0965\n",
            "Results at the end of batch\n",
            "...sparse_categorical_accuracy: 0.9705\n",
            "...loss: 0.0966\n",
            "Results at the end of batch\n",
            "...sparse_categorical_accuracy: 0.9707\n",
            "...loss: 0.0962\n",
            "Results at the end of batch\n",
            "...sparse_categorical_accuracy: 0.9704\n",
            "...loss: 0.0967\n",
            "Results at the end of batch\n",
            "...sparse_categorical_accuracy: 0.9705\n",
            "...loss: 0.0965\n",
            "Results at the end of batch\n",
            "...sparse_categorical_accuracy: 0.9704\n",
            "...loss: 0.0965\n",
            "Results at the end of batch\n",
            "...sparse_categorical_accuracy: 0.9703\n",
            "...loss: 0.0965\n",
            "Results at the end of batch\n",
            "...sparse_categorical_accuracy: 0.9703\n",
            "...loss: 0.0963\n",
            "Results at the end of batch\n",
            "...sparse_categorical_accuracy: 0.9704\n",
            "...loss: 0.0960\n",
            "Results at the end of batch\n",
            "...sparse_categorical_accuracy: 0.9705\n",
            "...loss: 0.0959\n",
            "Results at the end of batch\n",
            "...sparse_categorical_accuracy: 0.9705\n",
            "...loss: 0.0957\n",
            "Results at the end of batch\n",
            "...sparse_categorical_accuracy: 0.9705\n",
            "...loss: 0.0961\n",
            "Results at the end of batch\n",
            "...sparse_categorical_accuracy: 0.9705\n",
            "...loss: 0.0963\n",
            "Results at the end of batch\n",
            "...sparse_categorical_accuracy: 0.9703\n",
            "...loss: 0.0963\n",
            "Results at the end of batch\n",
            "...sparse_categorical_accuracy: 0.9703\n",
            "...loss: 0.0961\n",
            "Results at the end of batch\n",
            "...sparse_categorical_accuracy: 0.9704\n",
            "...loss: 0.0958\n",
            "Results at the end of batch\n",
            "...sparse_categorical_accuracy: 0.9705\n",
            "...loss: 0.0956\n",
            "Results at the end of batch\n",
            "...sparse_categorical_accuracy: 0.9705\n",
            "...loss: 0.0956\n",
            "Results at the end of batch\n",
            "...sparse_categorical_accuracy: 0.9705\n",
            "...loss: 0.0956\n",
            "Results at the end of batch\n",
            "...sparse_categorical_accuracy: 0.9705\n",
            "...loss: 0.0955\n",
            "Results at the end of batch\n",
            "...sparse_categorical_accuracy: 0.9705\n",
            "...loss: 0.0957\n",
            "Results at the end of batch\n",
            "...sparse_categorical_accuracy: 0.9705\n",
            "...loss: 0.0959\n",
            "Results at the end of batch\n",
            "...sparse_categorical_accuracy: 0.9706\n",
            "...loss: 0.0956\n",
            "Results at the end of batch\n",
            "...sparse_categorical_accuracy: 0.9706\n",
            "...loss: 0.0955\n",
            "Results at the end of batch\n",
            "...sparse_categorical_accuracy: 0.9705\n",
            "...loss: 0.0955\n",
            "Results at the end of batch\n",
            "...sparse_categorical_accuracy: 0.9706\n",
            "...loss: 0.0954\n",
            "Results at the end of batch\n",
            "...sparse_categorical_accuracy: 0.9706\n",
            "...loss: 0.0953\n",
            "Results at the end of batch\n",
            "...sparse_categorical_accuracy: 0.9707\n",
            "...loss: 0.0950\n",
            "Results at the end of batch\n",
            "...sparse_categorical_accuracy: 0.9708\n",
            "...loss: 0.0948\n",
            "Results at the end of batch\n",
            "...sparse_categorical_accuracy: 0.9709\n",
            "...loss: 0.0947\n",
            "Results at the end of batch\n",
            "...sparse_categorical_accuracy: 0.9709\n",
            "...loss: 0.0946\n",
            "Results at the end of batch\n",
            "...sparse_categorical_accuracy: 0.9708\n",
            "...loss: 0.0958\n",
            "Results at the end of batch\n",
            "...sparse_categorical_accuracy: 0.9708\n",
            "...loss: 0.0957\n",
            "Results at the end of batch\n",
            "...sparse_categorical_accuracy: 0.9707\n",
            "...loss: 0.0962\n",
            "Results at the end of batch\n",
            "...sparse_categorical_accuracy: 0.9706\n",
            "...loss: 0.0961\n",
            "Results at the end of batch\n",
            "...sparse_categorical_accuracy: 0.9706\n",
            "...loss: 0.0963\n",
            "Results at the end of batch\n",
            "...sparse_categorical_accuracy: 0.9705\n",
            "...loss: 0.0965\n",
            "Results at the end of batch\n",
            "...sparse_categorical_accuracy: 0.9703\n",
            "...loss: 0.0969\n",
            "Results at the end of batch\n",
            "...sparse_categorical_accuracy: 0.9704\n",
            "...loss: 0.0969\n",
            "Results at the end of batch\n",
            "...sparse_categorical_accuracy: 0.9704\n",
            "...loss: 0.0968\n",
            "Results at the end of batch\n",
            "...sparse_categorical_accuracy: 0.9705\n",
            "...loss: 0.0966\n",
            "Results at the end of batch\n",
            "...sparse_categorical_accuracy: 0.9704\n",
            "...loss: 0.0967\n",
            "Results at the end of batch\n",
            "...sparse_categorical_accuracy: 0.9703\n",
            "...loss: 0.0968\n",
            "Results at the end of batch\n",
            "...sparse_categorical_accuracy: 0.9703\n",
            "...loss: 0.0970\n",
            "Results at the end of batch\n",
            "...sparse_categorical_accuracy: 0.9702\n",
            "...loss: 0.0972\n",
            "Results at the end of batch\n",
            "...sparse_categorical_accuracy: 0.9703\n",
            "...loss: 0.0971\n",
            "Results at the end of batch\n",
            "...sparse_categorical_accuracy: 0.9703\n",
            "...loss: 0.0970\n",
            "Results at the end of batch\n",
            "...sparse_categorical_accuracy: 0.9704\n",
            "...loss: 0.0974\n",
            "Results at the end of batch\n",
            "...sparse_categorical_accuracy: 0.9703\n",
            "...loss: 0.0975\n",
            "Results at the end of batch\n",
            "...sparse_categorical_accuracy: 0.9705\n",
            "...loss: 0.0971\n",
            "Results at the end of batch\n",
            "...sparse_categorical_accuracy: 0.9704\n",
            "...loss: 0.0971\n",
            "Results at the end of batch\n",
            "...sparse_categorical_accuracy: 0.9704\n",
            "...loss: 0.0971\n",
            "Results at the end of batch\n",
            "...sparse_categorical_accuracy: 0.9704\n",
            "...loss: 0.0970\n",
            "Results at the end of batch\n",
            "...sparse_categorical_accuracy: 0.9704\n",
            "...loss: 0.0971\n",
            "Results at the end of batch\n",
            "...sparse_categorical_accuracy: 0.9705\n",
            "...loss: 0.0969\n",
            "Results at the end of batch\n",
            "...sparse_categorical_accuracy: 0.9705\n",
            "...loss: 0.0968\n",
            "Results at the end of batch\n",
            "...sparse_categorical_accuracy: 0.9705\n",
            "...loss: 0.0967\n",
            "Results at the end of batch\n",
            "...sparse_categorical_accuracy: 0.9705\n",
            "...loss: 0.0966\n",
            "Results at the end of batch\n",
            "...sparse_categorical_accuracy: 0.9706\n",
            "...loss: 0.0963\n",
            "Results at the end of batch\n",
            "...sparse_categorical_accuracy: 0.9707\n",
            "...loss: 0.0960\n",
            "Results at the end of batch\n",
            "...sparse_categorical_accuracy: 0.9707\n",
            "...loss: 0.0963\n",
            "Results at the end of batch\n",
            "...sparse_categorical_accuracy: 0.9708\n",
            "...loss: 0.0960\n",
            "Results at the end of batch\n",
            "...sparse_categorical_accuracy: 0.9709\n",
            "...loss: 0.0957\n",
            "Results at the end of batch\n",
            "...sparse_categorical_accuracy: 0.9709\n",
            "...loss: 0.0955\n",
            "Results at the end of batch\n",
            "...sparse_categorical_accuracy: 0.9708\n",
            "...loss: 0.0958\n",
            "Results at the end of batch\n",
            "...sparse_categorical_accuracy: 0.9708\n",
            "...loss: 0.0961\n",
            "Results at the end of batch\n",
            "...sparse_categorical_accuracy: 0.9707\n",
            "...loss: 0.0962\n",
            "Results at the end of batch\n",
            "...sparse_categorical_accuracy: 0.9706\n",
            "...loss: 0.0963\n",
            "Results at the end of batch\n",
            "...sparse_categorical_accuracy: 0.9706\n",
            "...loss: 0.0965\n",
            "Results at the end of batch\n",
            "...sparse_categorical_accuracy: 0.9706\n",
            "...loss: 0.0966\n",
            "Results at the end of batch\n",
            "...sparse_categorical_accuracy: 0.9705\n",
            "...loss: 0.0966\n",
            "Results at the end of batch\n",
            "...sparse_categorical_accuracy: 0.9706\n",
            "...loss: 0.0964\n",
            "Results at the end of batch\n",
            "...sparse_categorical_accuracy: 0.9706\n",
            "...loss: 0.0964\n",
            "Results at the end of batch\n",
            "...sparse_categorical_accuracy: 0.9706\n",
            "...loss: 0.0964\n",
            "Results at the end of batch\n",
            "...sparse_categorical_accuracy: 0.9704\n",
            "...loss: 0.0970\n",
            "Results at the end of batch\n",
            "...sparse_categorical_accuracy: 0.9705\n",
            "...loss: 0.0967\n",
            "Results at the end of batch\n",
            "...sparse_categorical_accuracy: 0.9706\n",
            "...loss: 0.0967\n",
            "Results at the end of batch\n",
            "...sparse_categorical_accuracy: 0.9707\n",
            "...loss: 0.0965\n",
            "Results at the end of batch\n",
            "...sparse_categorical_accuracy: 0.9708\n",
            "...loss: 0.0963\n",
            "Results at the end of batch\n",
            "...sparse_categorical_accuracy: 0.9708\n",
            "...loss: 0.0962\n",
            "Results at the end of batch\n",
            "...sparse_categorical_accuracy: 0.9708\n",
            "...loss: 0.0961\n",
            "Results at the end of batch\n",
            "...sparse_categorical_accuracy: 0.9707\n",
            "...loss: 0.0965\n",
            "Results at the end of batch\n",
            "...sparse_categorical_accuracy: 0.9707\n",
            "...loss: 0.0963\n",
            "Results at the end of batch\n",
            "...sparse_categorical_accuracy: 0.9708\n",
            "...loss: 0.0960\n",
            "Results at the end of batch\n",
            "...sparse_categorical_accuracy: 0.9707\n",
            "...loss: 0.0964\n",
            "Results at the end of batch\n",
            "...sparse_categorical_accuracy: 0.9708\n",
            "...loss: 0.0962\n",
            "Results at the end of batch\n",
            "...sparse_categorical_accuracy: 0.9708\n",
            "...loss: 0.0960\n",
            "Results at the end of batch\n",
            "...sparse_categorical_accuracy: 0.9708\n",
            "...loss: 0.0960\n",
            "Results at the end of batch\n",
            "...sparse_categorical_accuracy: 0.9708\n",
            "...loss: 0.0959\n",
            "Results at the end of batch\n",
            "...sparse_categorical_accuracy: 0.9708\n",
            "...loss: 0.0958\n",
            "Results at the end of batch\n",
            "...sparse_categorical_accuracy: 0.9708\n",
            "...loss: 0.0957\n",
            "Results at the end of batch\n",
            "...sparse_categorical_accuracy: 0.9707\n",
            "...loss: 0.0959\n",
            "Results at the end of batch\n",
            "...sparse_categorical_accuracy: 0.9707\n",
            "...loss: 0.0958\n",
            "Results at the end of batch\n",
            "...sparse_categorical_accuracy: 0.9705\n",
            "...loss: 0.0962\n",
            "Results at the end of batch\n",
            "...sparse_categorical_accuracy: 0.9705\n",
            "...loss: 0.0965\n",
            "Results at the end of batch\n",
            "...sparse_categorical_accuracy: 0.9704\n",
            "...loss: 0.0966\n",
            "Results at the end of batch\n",
            "...sparse_categorical_accuracy: 0.9705\n",
            "...loss: 0.0964\n",
            "Results at the end of batch\n",
            "...sparse_categorical_accuracy: 0.9705\n",
            "...loss: 0.0963\n",
            "Results at the end of batch\n",
            "...sparse_categorical_accuracy: 0.9705\n",
            "...loss: 0.0967\n",
            "Results at the end of batch\n",
            "...sparse_categorical_accuracy: 0.9705\n",
            "...loss: 0.0967\n",
            "Results at the end of batch\n",
            "...sparse_categorical_accuracy: 0.9706\n",
            "...loss: 0.0965\n",
            "Results at the end of batch\n",
            "...sparse_categorical_accuracy: 0.9707\n",
            "...loss: 0.0963\n",
            "Results at the end of batch\n",
            "...sparse_categorical_accuracy: 0.9707\n",
            "...loss: 0.0963\n",
            "Results at the end of batch\n",
            "...sparse_categorical_accuracy: 0.9708\n",
            "...loss: 0.0961\n",
            "Results at the end of batch\n",
            "...sparse_categorical_accuracy: 0.9709\n",
            "...loss: 0.0959\n",
            "Results at the end of batch\n",
            "...sparse_categorical_accuracy: 0.9708\n",
            "...loss: 0.0960\n",
            "Results at the end of batch\n",
            "...sparse_categorical_accuracy: 0.9708\n",
            "...loss: 0.0959\n",
            "Results at the end of batch\n",
            "...sparse_categorical_accuracy: 0.9708\n",
            "...loss: 0.0960\n",
            "Results at the end of batch\n",
            "...sparse_categorical_accuracy: 0.9709\n",
            "...loss: 0.0957\n",
            "Results at the end of batch\n",
            "...sparse_categorical_accuracy: 0.9709\n",
            "...loss: 0.0956\n",
            "Results at the end of batch\n",
            "...sparse_categorical_accuracy: 0.9710\n",
            "...loss: 0.0953\n",
            "Results at the end of batch\n",
            "...sparse_categorical_accuracy: 0.9711\n",
            "...loss: 0.0954\n",
            "Results at the end of batch\n",
            "...sparse_categorical_accuracy: 0.9712\n",
            "...loss: 0.0953\n",
            "Results at the end of batch\n",
            "...sparse_categorical_accuracy: 0.9711\n",
            "...loss: 0.0958\n",
            "Results at the end of batch\n",
            "...sparse_categorical_accuracy: 0.9711\n",
            "...loss: 0.0957\n",
            "Results at the end of batch\n",
            "...sparse_categorical_accuracy: 0.9711\n",
            "...loss: 0.0955\n",
            "Results at the end of batch\n",
            "...sparse_categorical_accuracy: 0.9710\n",
            "...loss: 0.0957\n",
            "Results at the end of batch\n",
            "...sparse_categorical_accuracy: 0.9710\n",
            "...loss: 0.0956\n",
            "Results at the end of batch\n",
            "...sparse_categorical_accuracy: 0.9710\n",
            "...loss: 0.0957\n",
            "Results at the end of batch\n",
            "...sparse_categorical_accuracy: 0.9710\n",
            "...loss: 0.0956\n",
            "Results at the end of batch\n",
            "...sparse_categorical_accuracy: 0.9711\n",
            "...loss: 0.0954\n",
            "Results at the end of batch\n",
            "...sparse_categorical_accuracy: 0.9711\n",
            "...loss: 0.0953\n",
            "Results at the end of batch\n",
            "...sparse_categorical_accuracy: 0.9712\n",
            "...loss: 0.0952\n",
            "Results at the end of batch\n",
            "...sparse_categorical_accuracy: 0.9712\n",
            "...loss: 0.0952\n",
            "Results at the end of batch\n",
            "...sparse_categorical_accuracy: 0.9713\n",
            "...loss: 0.0950\n",
            "Results at the end of batch\n",
            "...sparse_categorical_accuracy: 0.9713\n",
            "...loss: 0.0949\n",
            "Results at the end of batch\n",
            "...sparse_categorical_accuracy: 0.9713\n",
            "...loss: 0.0947\n",
            "Results at the end of batch\n",
            "...sparse_categorical_accuracy: 0.9713\n",
            "...loss: 0.0947\n",
            "Results at the end of batch\n",
            "...sparse_categorical_accuracy: 0.9713\n",
            "...loss: 0.0946\n",
            "Results at the end of batch\n",
            "...sparse_categorical_accuracy: 0.9714\n",
            "...loss: 0.0948\n",
            "Results at the end of batch\n",
            "...sparse_categorical_accuracy: 0.9713\n",
            "...loss: 0.0949\n",
            "Results at the end of batch\n",
            "...sparse_categorical_accuracy: 0.9713\n",
            "...loss: 0.0949\n",
            "Results at the end of batch\n",
            "...sparse_categorical_accuracy: 0.9712\n",
            "...loss: 0.0953\n",
            "Results at the end of batch\n",
            "...sparse_categorical_accuracy: 0.9711\n",
            "...loss: 0.0954\n",
            "Results at the end of batch\n",
            "...sparse_categorical_accuracy: 0.9710\n",
            "...loss: 0.0957\n",
            "Results at the end of batch\n",
            "...sparse_categorical_accuracy: 0.9710\n",
            "...loss: 0.0960\n",
            "Results at the end of batch\n",
            "...sparse_categorical_accuracy: 0.9710\n",
            "...loss: 0.0959\n",
            "Results at the end of batch\n",
            "...sparse_categorical_accuracy: 0.9710\n",
            "...loss: 0.0959\n",
            "Results at the end of batch\n",
            "...sparse_categorical_accuracy: 0.9710\n",
            "...loss: 0.0958\n",
            "Results at the end of batch\n",
            "...sparse_categorical_accuracy: 0.9710\n",
            "...loss: 0.0960\n",
            "Results at the end of batch\n",
            "...sparse_categorical_accuracy: 0.9710\n",
            "...loss: 0.0959\n",
            "Results at the end of batch\n",
            "...sparse_categorical_accuracy: 0.9709\n",
            "...loss: 0.0959\n",
            "Results at the end of batch\n",
            "...sparse_categorical_accuracy: 0.9710\n",
            "...loss: 0.0957\n",
            "Results at the end of batch\n",
            "...sparse_categorical_accuracy: 0.9710\n",
            "...loss: 0.0958\n",
            "Results at the end of batch\n",
            "...sparse_categorical_accuracy: 0.9709\n",
            "...loss: 0.0961\n",
            "Results at the end of batch\n",
            "...sparse_categorical_accuracy: 0.9709\n",
            "...loss: 0.0964\n",
            "Results at the end of batch\n",
            "...sparse_categorical_accuracy: 0.9709\n",
            "...loss: 0.0962\n",
            "Results at the end of batch\n",
            "...sparse_categorical_accuracy: 0.9709\n",
            "...loss: 0.0964\n",
            "Results at the end of batch\n",
            "...sparse_categorical_accuracy: 0.9709\n",
            "...loss: 0.0966\n",
            "Results at the end of batch\n",
            "...sparse_categorical_accuracy: 0.9709\n",
            "...loss: 0.0969\n",
            "Results at the end of batch\n",
            "...sparse_categorical_accuracy: 0.9709\n",
            "...loss: 0.0970\n",
            "Results at the end of batch\n",
            "...sparse_categorical_accuracy: 0.9709\n",
            "...loss: 0.0969\n",
            "Results at the end of batch\n",
            "...sparse_categorical_accuracy: 0.9709\n",
            "...loss: 0.0968\n",
            "Results at the end of batch\n",
            "...sparse_categorical_accuracy: 0.9710\n",
            "...loss: 0.0966\n",
            "Results at the end of batch\n",
            "...sparse_categorical_accuracy: 0.9710\n",
            "...loss: 0.0965\n",
            "Results at the end of batch\n",
            "...sparse_categorical_accuracy: 0.9711\n",
            "...loss: 0.0963\n",
            "Results at the end of batch\n",
            "...sparse_categorical_accuracy: 0.9711\n",
            "...loss: 0.0965\n",
            "Results at the end of batch\n",
            "...sparse_categorical_accuracy: 0.9711\n",
            "...loss: 0.0963\n",
            "Results at the end of batch\n",
            "...sparse_categorical_accuracy: 0.9712\n",
            "...loss: 0.0963\n"
          ]
        },
        {
          "output_type": "error",
          "ename": "KeyboardInterrupt",
          "evalue": "",
          "traceback": [
            "\u001b[0;31m---------------------------------------------------------------------------\u001b[0m",
            "\u001b[0;31mKeyboardInterrupt\u001b[0m                         Traceback (most recent call last)",
            "\u001b[0;32m<ipython-input-64-e15624bf0e3a>\u001b[0m in \u001b[0;36m<cell line: 0>\u001b[0;34m()\u001b[0m\n\u001b[1;32m      5\u001b[0m     \u001b[0mreset_metrics\u001b[0m\u001b[0;34m(\u001b[0m\u001b[0;34m)\u001b[0m\u001b[0;34m\u001b[0m\u001b[0;34m\u001b[0m\u001b[0m\n\u001b[1;32m      6\u001b[0m     \u001b[0;32mfor\u001b[0m \u001b[0minputs_batch\u001b[0m\u001b[0;34m,\u001b[0m \u001b[0mtargets_batch\u001b[0m \u001b[0;32min\u001b[0m \u001b[0mtraining_dataset\u001b[0m\u001b[0;34m:\u001b[0m\u001b[0;34m\u001b[0m\u001b[0;34m\u001b[0m\u001b[0m\n\u001b[0;32m----> 7\u001b[0;31m         \u001b[0mlogs\u001b[0m \u001b[0;34m=\u001b[0m \u001b[0mtrain_step\u001b[0m\u001b[0;34m(\u001b[0m\u001b[0minputs_batch\u001b[0m\u001b[0;34m,\u001b[0m \u001b[0mtargets_batch\u001b[0m\u001b[0;34m)\u001b[0m\u001b[0;34m\u001b[0m\u001b[0;34m\u001b[0m\u001b[0m\n\u001b[0m\u001b[1;32m      8\u001b[0m         \u001b[0mprint\u001b[0m\u001b[0;34m(\u001b[0m\u001b[0;34mf\"Results at the end of batch\"\u001b[0m\u001b[0;34m)\u001b[0m\u001b[0;34m\u001b[0m\u001b[0;34m\u001b[0m\u001b[0m\n\u001b[1;32m      9\u001b[0m         \u001b[0;32mfor\u001b[0m \u001b[0mkey\u001b[0m\u001b[0;34m,\u001b[0m \u001b[0mvalue\u001b[0m \u001b[0;32min\u001b[0m \u001b[0mlogs\u001b[0m\u001b[0;34m.\u001b[0m\u001b[0mitems\u001b[0m\u001b[0;34m(\u001b[0m\u001b[0;34m)\u001b[0m\u001b[0;34m:\u001b[0m\u001b[0;34m\u001b[0m\u001b[0;34m\u001b[0m\u001b[0m\n",
            "\u001b[0;32m/usr/local/lib/python3.11/dist-packages/tensorflow/python/util/traceback_utils.py\u001b[0m in \u001b[0;36merror_handler\u001b[0;34m(*args, **kwargs)\u001b[0m\n\u001b[1;32m    148\u001b[0m     \u001b[0mfiltered_tb\u001b[0m \u001b[0;34m=\u001b[0m \u001b[0;32mNone\u001b[0m\u001b[0;34m\u001b[0m\u001b[0;34m\u001b[0m\u001b[0m\n\u001b[1;32m    149\u001b[0m     \u001b[0;32mtry\u001b[0m\u001b[0;34m:\u001b[0m\u001b[0;34m\u001b[0m\u001b[0;34m\u001b[0m\u001b[0m\n\u001b[0;32m--> 150\u001b[0;31m       \u001b[0;32mreturn\u001b[0m \u001b[0mfn\u001b[0m\u001b[0;34m(\u001b[0m\u001b[0;34m*\u001b[0m\u001b[0margs\u001b[0m\u001b[0;34m,\u001b[0m \u001b[0;34m**\u001b[0m\u001b[0mkwargs\u001b[0m\u001b[0;34m)\u001b[0m\u001b[0;34m\u001b[0m\u001b[0;34m\u001b[0m\u001b[0m\n\u001b[0m\u001b[1;32m    151\u001b[0m     \u001b[0;32mexcept\u001b[0m \u001b[0mException\u001b[0m \u001b[0;32mas\u001b[0m \u001b[0me\u001b[0m\u001b[0;34m:\u001b[0m\u001b[0;34m\u001b[0m\u001b[0;34m\u001b[0m\u001b[0m\n\u001b[1;32m    152\u001b[0m       \u001b[0mfiltered_tb\u001b[0m \u001b[0;34m=\u001b[0m \u001b[0m_process_traceback_frames\u001b[0m\u001b[0;34m(\u001b[0m\u001b[0me\u001b[0m\u001b[0;34m.\u001b[0m\u001b[0m__traceback__\u001b[0m\u001b[0;34m)\u001b[0m\u001b[0;34m\u001b[0m\u001b[0;34m\u001b[0m\u001b[0m\n",
            "\u001b[0;32m/usr/local/lib/python3.11/dist-packages/tensorflow/python/eager/polymorphic_function/polymorphic_function.py\u001b[0m in \u001b[0;36m__call__\u001b[0;34m(self, *args, **kwds)\u001b[0m\n\u001b[1;32m    831\u001b[0m \u001b[0;34m\u001b[0m\u001b[0m\n\u001b[1;32m    832\u001b[0m       \u001b[0;32mwith\u001b[0m \u001b[0mOptionalXlaContext\u001b[0m\u001b[0;34m(\u001b[0m\u001b[0mself\u001b[0m\u001b[0;34m.\u001b[0m\u001b[0m_jit_compile\u001b[0m\u001b[0;34m)\u001b[0m\u001b[0;34m:\u001b[0m\u001b[0;34m\u001b[0m\u001b[0;34m\u001b[0m\u001b[0m\n\u001b[0;32m--> 833\u001b[0;31m         \u001b[0mresult\u001b[0m \u001b[0;34m=\u001b[0m \u001b[0mself\u001b[0m\u001b[0;34m.\u001b[0m\u001b[0m_call\u001b[0m\u001b[0;34m(\u001b[0m\u001b[0;34m*\u001b[0m\u001b[0margs\u001b[0m\u001b[0;34m,\u001b[0m \u001b[0;34m**\u001b[0m\u001b[0mkwds\u001b[0m\u001b[0;34m)\u001b[0m\u001b[0;34m\u001b[0m\u001b[0;34m\u001b[0m\u001b[0m\n\u001b[0m\u001b[1;32m    834\u001b[0m \u001b[0;34m\u001b[0m\u001b[0m\n\u001b[1;32m    835\u001b[0m       \u001b[0mnew_tracing_count\u001b[0m \u001b[0;34m=\u001b[0m \u001b[0mself\u001b[0m\u001b[0;34m.\u001b[0m\u001b[0mexperimental_get_tracing_count\u001b[0m\u001b[0;34m(\u001b[0m\u001b[0;34m)\u001b[0m\u001b[0;34m\u001b[0m\u001b[0;34m\u001b[0m\u001b[0m\n",
            "\u001b[0;32m/usr/local/lib/python3.11/dist-packages/tensorflow/python/eager/polymorphic_function/polymorphic_function.py\u001b[0m in \u001b[0;36m_call\u001b[0;34m(self, *args, **kwds)\u001b[0m\n\u001b[1;32m    867\u001b[0m       \u001b[0;31m# In this case we have created variables on the first call, so we run the\u001b[0m\u001b[0;34m\u001b[0m\u001b[0;34m\u001b[0m\u001b[0m\n\u001b[1;32m    868\u001b[0m       \u001b[0;31m# defunned version which is guaranteed to never create variables.\u001b[0m\u001b[0;34m\u001b[0m\u001b[0;34m\u001b[0m\u001b[0m\n\u001b[0;32m--> 869\u001b[0;31m       return tracing_compilation.call_function(\n\u001b[0m\u001b[1;32m    870\u001b[0m           \u001b[0margs\u001b[0m\u001b[0;34m,\u001b[0m \u001b[0mkwds\u001b[0m\u001b[0;34m,\u001b[0m \u001b[0mself\u001b[0m\u001b[0;34m.\u001b[0m\u001b[0m_no_variable_creation_config\u001b[0m\u001b[0;34m\u001b[0m\u001b[0;34m\u001b[0m\u001b[0m\n\u001b[1;32m    871\u001b[0m       )\n",
            "\u001b[0;32m/usr/local/lib/python3.11/dist-packages/tensorflow/python/eager/polymorphic_function/tracing_compilation.py\u001b[0m in \u001b[0;36mcall_function\u001b[0;34m(args, kwargs, tracing_options)\u001b[0m\n\u001b[1;32m    135\u001b[0m \u001b[0;34m\u001b[0m\u001b[0m\n\u001b[1;32m    136\u001b[0m   \u001b[0;31m# Bind it ourselves to skip unnecessary canonicalization of default call.\u001b[0m\u001b[0;34m\u001b[0m\u001b[0;34m\u001b[0m\u001b[0m\n\u001b[0;32m--> 137\u001b[0;31m   \u001b[0mbound_args\u001b[0m \u001b[0;34m=\u001b[0m \u001b[0mfunction\u001b[0m\u001b[0;34m.\u001b[0m\u001b[0mfunction_type\u001b[0m\u001b[0;34m.\u001b[0m\u001b[0mbind\u001b[0m\u001b[0;34m(\u001b[0m\u001b[0;34m*\u001b[0m\u001b[0margs\u001b[0m\u001b[0;34m,\u001b[0m \u001b[0;34m**\u001b[0m\u001b[0mkwargs\u001b[0m\u001b[0;34m)\u001b[0m\u001b[0;34m\u001b[0m\u001b[0;34m\u001b[0m\u001b[0m\n\u001b[0m\u001b[1;32m    138\u001b[0m   \u001b[0mflat_inputs\u001b[0m \u001b[0;34m=\u001b[0m \u001b[0mfunction\u001b[0m\u001b[0;34m.\u001b[0m\u001b[0mfunction_type\u001b[0m\u001b[0;34m.\u001b[0m\u001b[0munpack_inputs\u001b[0m\u001b[0;34m(\u001b[0m\u001b[0mbound_args\u001b[0m\u001b[0;34m)\u001b[0m\u001b[0;34m\u001b[0m\u001b[0;34m\u001b[0m\u001b[0m\n\u001b[1;32m    139\u001b[0m   return function._call_flat(  # pylint: disable=protected-access\n",
            "\u001b[0;32m/usr/lib/python3.11/inspect.py\u001b[0m in \u001b[0;36mbind\u001b[0;34m(self, *args, **kwargs)\u001b[0m\n\u001b[1;32m   3193\u001b[0m         \u001b[0;32mif\u001b[0m \u001b[0mthe\u001b[0m \u001b[0mpassed\u001b[0m \u001b[0marguments\u001b[0m \u001b[0mcan\u001b[0m \u001b[0;32mnot\u001b[0m \u001b[0mbe\u001b[0m \u001b[0mbound\u001b[0m\u001b[0;34m.\u001b[0m\u001b[0;34m\u001b[0m\u001b[0;34m\u001b[0m\u001b[0m\n\u001b[1;32m   3194\u001b[0m         \"\"\"\n\u001b[0;32m-> 3195\u001b[0;31m         \u001b[0;32mreturn\u001b[0m \u001b[0mself\u001b[0m\u001b[0;34m.\u001b[0m\u001b[0m_bind\u001b[0m\u001b[0;34m(\u001b[0m\u001b[0margs\u001b[0m\u001b[0;34m,\u001b[0m \u001b[0mkwargs\u001b[0m\u001b[0;34m)\u001b[0m\u001b[0;34m\u001b[0m\u001b[0;34m\u001b[0m\u001b[0m\n\u001b[0m\u001b[1;32m   3196\u001b[0m \u001b[0;34m\u001b[0m\u001b[0m\n\u001b[1;32m   3197\u001b[0m     \u001b[0;32mdef\u001b[0m \u001b[0mbind_partial\u001b[0m\u001b[0;34m(\u001b[0m\u001b[0mself\u001b[0m\u001b[0;34m,\u001b[0m \u001b[0;34m/\u001b[0m\u001b[0;34m,\u001b[0m \u001b[0;34m*\u001b[0m\u001b[0margs\u001b[0m\u001b[0;34m,\u001b[0m \u001b[0;34m**\u001b[0m\u001b[0mkwargs\u001b[0m\u001b[0;34m)\u001b[0m\u001b[0;34m:\u001b[0m\u001b[0;34m\u001b[0m\u001b[0;34m\u001b[0m\u001b[0m\n",
            "\u001b[0;32m/usr/lib/python3.11/inspect.py\u001b[0m in \u001b[0;36m_bind\u001b[0;34m(self, args, kwargs, partial)\u001b[0m\n\u001b[1;32m   3112\u001b[0m                 \u001b[0;31m# We have a positional argument to process\u001b[0m\u001b[0;34m\u001b[0m\u001b[0;34m\u001b[0m\u001b[0m\n\u001b[1;32m   3113\u001b[0m                 \u001b[0;32mtry\u001b[0m\u001b[0;34m:\u001b[0m\u001b[0;34m\u001b[0m\u001b[0;34m\u001b[0m\u001b[0m\n\u001b[0;32m-> 3114\u001b[0;31m                     \u001b[0mparam\u001b[0m \u001b[0;34m=\u001b[0m \u001b[0mnext\u001b[0m\u001b[0;34m(\u001b[0m\u001b[0mparameters\u001b[0m\u001b[0;34m)\u001b[0m\u001b[0;34m\u001b[0m\u001b[0;34m\u001b[0m\u001b[0m\n\u001b[0m\u001b[1;32m   3115\u001b[0m                 \u001b[0;32mexcept\u001b[0m \u001b[0mStopIteration\u001b[0m\u001b[0;34m:\u001b[0m\u001b[0;34m\u001b[0m\u001b[0;34m\u001b[0m\u001b[0m\n\u001b[1;32m   3116\u001b[0m                     \u001b[0;32mraise\u001b[0m \u001b[0mTypeError\u001b[0m\u001b[0;34m(\u001b[0m\u001b[0;34m'too many positional arguments'\u001b[0m\u001b[0;34m)\u001b[0m \u001b[0;32mfrom\u001b[0m \u001b[0;32mNone\u001b[0m\u001b[0;34m\u001b[0m\u001b[0;34m\u001b[0m\u001b[0m\n",
            "\u001b[0;31mKeyboardInterrupt\u001b[0m: "
          ]
        }
      ]
    },
    {
      "cell_type": "markdown",
      "metadata": {
        "id": "hHodyh3C9T3C"
      },
      "source": [
        "**Writing a step-by-step training loop: the loop itself**"
      ]
    },
    {
      "cell_type": "markdown",
      "metadata": {
        "id": "xIx2u3KZ9T3C"
      },
      "source": [
        "**Writing a step-by-step evaluation loop**"
      ]
    },
    {
      "cell_type": "code",
      "execution_count": 65,
      "metadata": {
        "id": "Rh1ebVBm9T3D",
        "outputId": "a96054c4-565e-44fb-d9cb-6bddbbe525e4",
        "colab": {
          "base_uri": "https://localhost:8080/"
        }
      },
      "outputs": [
        {
          "output_type": "stream",
          "name": "stdout",
          "text": [
            "Evaluation results:\n",
            "...val_sparse_categorical_accuracy: 0.9740\n",
            "...val_loss: 0.0883\n"
          ]
        }
      ],
      "source": [
        "@tf.function\n",
        "def test_step(inputs, targets):\n",
        "    predictions = model(inputs, training=False)\n",
        "    loss = loss_fn(targets, predictions)\n",
        "\n",
        "    logs = {}\n",
        "    for metric in metrics:\n",
        "        metric.update_state(targets, predictions)\n",
        "        logs[\"val_\" + metric.name] = metric.result()\n",
        "\n",
        "    loss_tracking_metric.update_state(loss)\n",
        "    logs[\"val_loss\"] = loss_tracking_metric.result()\n",
        "    return logs\n",
        "\n",
        "val_dataset = tf.data.Dataset.from_tensor_slices((val_images, val_labels))\n",
        "val_dataset = val_dataset.batch(100)\n",
        "reset_metrics()\n",
        "for inputs_batch, targets_batch in val_dataset:\n",
        "    logs = test_step(inputs_batch, targets_batch)\n",
        "print(\"Evaluation results:\")\n",
        "for key, value in logs.items():\n",
        "    print(f\"...{key}: {value:.4f}\")"
      ]
    },
    {
      "cell_type": "markdown",
      "metadata": {
        "id": "XJ1_5jiK9T3D"
      },
      "source": [
        "### Make it fast with tf.function"
      ]
    },
    {
      "cell_type": "markdown",
      "metadata": {
        "id": "xXmu4d_19T3D"
      },
      "source": [
        "**Adding a `tf.function` decorator to our evaluation-step function**"
      ]
    },
    {
      "cell_type": "code",
      "execution_count": 66,
      "metadata": {
        "id": "JnbjOvdC9T3D",
        "outputId": "78c2e64c-a10e-4440-faa1-471501a96774",
        "colab": {
          "base_uri": "https://localhost:8080/"
        }
      },
      "outputs": [
        {
          "output_type": "stream",
          "name": "stdout",
          "text": [
            "Evaluation results:\n",
            "...val_sparse_categorical_accuracy: 0.9740\n",
            "...val_loss: 0.0882\n"
          ]
        }
      ],
      "source": [
        "@tf.function # GPU를 이용해서 연산속도를 높일 수 있다\n",
        "def test_step(inputs, targets):\n",
        "    predictions = model(inputs, training=False)\n",
        "    loss = loss_fn(targets, predictions)\n",
        "\n",
        "    logs = {}\n",
        "    for metric in metrics:\n",
        "        metric.update_state(targets, predictions)\n",
        "        logs[\"val_\" + metric.name] = metric.result()\n",
        "\n",
        "    loss_tracking_metric.update_state(loss)\n",
        "    logs[\"val_loss\"] = loss_tracking_metric.result()\n",
        "    return logs\n",
        "\n",
        "val_dataset = tf.data.Dataset.from_tensor_slices((val_images, val_labels))\n",
        "val_dataset = val_dataset.batch(32)\n",
        "reset_metrics()\n",
        "for inputs_batch, targets_batch in val_dataset:\n",
        "    logs = test_step(inputs_batch, targets_batch)\n",
        "print(\"Evaluation results:\")\n",
        "for key, value in logs.items():\n",
        "    print(f\"...{key}: {value:.4f}\")"
      ]
    },
    {
      "cell_type": "markdown",
      "metadata": {
        "id": "ko8MZim39T3D"
      },
      "source": [
        "### Leveraging fit() with a custom training loop"
      ]
    },
    {
      "cell_type": "markdown",
      "metadata": {
        "id": "Rfh68f7R9T3D"
      },
      "source": [
        "**Implementing a custom training step to use with `fit()`**"
      ]
    },
    {
      "cell_type": "code",
      "execution_count": 67,
      "metadata": {
        "id": "5XqI6qT39T3D"
      },
      "outputs": [],
      "source": [
        "loss_fn = keras.losses.SparseCategoricalCrossentropy()\n",
        "loss_tracker = keras.metrics.Mean(name=\"loss\")\n",
        "\n",
        "class CustomModel(keras.Model):\n",
        "    def train_step(self, data):\n",
        "        inputs, targets = data\n",
        "        with tf.GradientTape() as tape:\n",
        "            predictions = self(inputs, training=True)\n",
        "            loss = loss_fn(targets, predictions)\n",
        "        gradients = tape.gradient(loss, self.trainable_weights)\n",
        "        self.optimizer.apply_gradients(zip(gradients, self.trainable_weights))\n",
        "\n",
        "        loss_tracker.update_state(loss)\n",
        "        return {\"loss\": loss_tracker.result()}\n",
        "\n",
        "    @property\n",
        "    def metrics(self):\n",
        "        return [loss_tracker]"
      ]
    },
    {
      "cell_type": "code",
      "execution_count": 68,
      "metadata": {
        "id": "-u-KS20U9T3E",
        "outputId": "ac8ede4d-fd44-4ba2-b768-6b1840a1170d",
        "colab": {
          "base_uri": "https://localhost:8080/"
        }
      },
      "outputs": [
        {
          "output_type": "stream",
          "name": "stdout",
          "text": [
            "Epoch 1/3\n",
            "\u001b[1m1563/1563\u001b[0m \u001b[32m━━━━━━━━━━━━━━━━━━━━\u001b[0m\u001b[37m\u001b[0m \u001b[1m5s\u001b[0m 2ms/step - loss: 0.4597\n",
            "Epoch 2/3\n",
            "\u001b[1m1563/1563\u001b[0m \u001b[32m━━━━━━━━━━━━━━━━━━━━\u001b[0m\u001b[37m\u001b[0m \u001b[1m5s\u001b[0m 3ms/step - loss: 0.1683\n",
            "Epoch 3/3\n",
            "\u001b[1m1563/1563\u001b[0m \u001b[32m━━━━━━━━━━━━━━━━━━━━\u001b[0m\u001b[37m\u001b[0m \u001b[1m4s\u001b[0m 2ms/step - loss: 0.1386\n"
          ]
        },
        {
          "output_type": "execute_result",
          "data": {
            "text/plain": [
              "<keras.src.callbacks.history.History at 0x7c806beea790>"
            ]
          },
          "metadata": {},
          "execution_count": 68
        }
      ],
      "source": [
        "inputs = keras.Input(shape=(28 * 28,))\n",
        "features = layers.Dense(512, activation=\"relu\")(inputs)\n",
        "features = layers.Dropout(0.5)(features)\n",
        "outputs = layers.Dense(10, activation=\"softmax\")(features)\n",
        "model = CustomModel(inputs, outputs)\n",
        "\n",
        "model.compile(optimizer=keras.optimizers.RMSprop())\n",
        "model.fit(train_images, train_labels, epochs=3)"
      ]
    },
    {
      "cell_type": "code",
      "execution_count": 69,
      "metadata": {
        "id": "7Hpdwi5v9T3E"
      },
      "outputs": [],
      "source": [
        "class CustomModel(keras.Model):\n",
        "    def train_step(self, data):\n",
        "        inputs, targets = data\n",
        "        with tf.GradientTape() as tape:\n",
        "            predictions = self(inputs, training=True)\n",
        "            loss = self.compiled_loss(targets, predictions)\n",
        "        gradients = tape.gradient(loss, self.trainable_weights)\n",
        "        self.optimizer.apply_gradients(zip(gradients, self.trainable_weights))\n",
        "        self.compiled_metrics.update_state(targets, predictions)\n",
        "        return {m.name: m.result() for m in self.metrics}"
      ]
    },
    {
      "cell_type": "code",
      "execution_count": 70,
      "metadata": {
        "id": "4KqAoldb9T3E",
        "outputId": "1c99e29f-0147-4486-cd6c-18739572cec4",
        "colab": {
          "base_uri": "https://localhost:8080/"
        }
      },
      "outputs": [
        {
          "output_type": "stream",
          "name": "stdout",
          "text": [
            "Epoch 1/3\n"
          ]
        },
        {
          "output_type": "stream",
          "name": "stderr",
          "text": [
            "/usr/local/lib/python3.11/dist-packages/keras/src/backend/tensorflow/trainer.py:667: UserWarning: `model.compiled_loss()` is deprecated. Instead, use `model.compute_loss(x, y, y_pred, sample_weight, training)`.\n",
            "  warnings.warn(\n",
            "/usr/local/lib/python3.11/dist-packages/keras/src/backend/tensorflow/trainer.py:642: UserWarning: `model.compiled_metrics()` is deprecated. Instead, use e.g.:\n",
            "```\n",
            "for metric in self.metrics:\n",
            "    metric.update_state(y, y_pred)\n",
            "```\n",
            "\n",
            "  return self._compiled_metrics_update_state(\n"
          ]
        },
        {
          "output_type": "stream",
          "name": "stdout",
          "text": [
            "\u001b[1m1563/1563\u001b[0m \u001b[32m━━━━━━━━━━━━━━━━━━━━\u001b[0m\u001b[37m\u001b[0m \u001b[1m7s\u001b[0m 3ms/step - sparse_categorical_accuracy: 0.8643 - loss: 0.1000\n",
            "Epoch 2/3\n",
            "\u001b[1m1563/1563\u001b[0m \u001b[32m━━━━━━━━━━━━━━━━━━━━\u001b[0m\u001b[37m\u001b[0m \u001b[1m3s\u001b[0m 2ms/step - sparse_categorical_accuracy: 0.9525 - loss: 0.1000\n",
            "Epoch 3/3\n",
            "\u001b[1m1563/1563\u001b[0m \u001b[32m━━━━━━━━━━━━━━━━━━━━\u001b[0m\u001b[37m\u001b[0m \u001b[1m3s\u001b[0m 2ms/step - sparse_categorical_accuracy: 0.9642 - loss: 0.1000\n"
          ]
        },
        {
          "output_type": "execute_result",
          "data": {
            "text/plain": [
              "<keras.src.callbacks.history.History at 0x7c806bf17e10>"
            ]
          },
          "metadata": {},
          "execution_count": 70
        }
      ],
      "source": [
        "inputs = keras.Input(shape=(28 * 28,))\n",
        "features = layers.Dense(512, activation=\"relu\")(inputs)\n",
        "features = layers.Dropout(0.5)(features)\n",
        "outputs = layers.Dense(10, activation=\"softmax\")(features)\n",
        "model = CustomModel(inputs, outputs)\n",
        "\n",
        "model.compile(optimizer=keras.optimizers.RMSprop(),\n",
        "              loss=keras.losses.SparseCategoricalCrossentropy(),\n",
        "              metrics=[keras.metrics.SparseCategoricalAccuracy()])\n",
        "model.fit(train_images, train_labels, epochs=3)"
      ]
    },
    {
      "cell_type": "markdown",
      "metadata": {
        "id": "5SO8FFYy9T3E"
      },
      "source": [
        "## Summary"
      ]
    }
  ],
  "metadata": {
    "colab": {
      "provenance": [],
      "gpuType": "T4",
      "include_colab_link": true
    },
    "kernelspec": {
      "display_name": "Python 3",
      "name": "python3"
    },
    "language_info": {
      "codemirror_mode": {
        "name": "ipython",
        "version": 3
      },
      "file_extension": ".py",
      "mimetype": "text/x-python",
      "name": "python",
      "nbconvert_exporter": "python",
      "pygments_lexer": "ipython3",
      "version": "3.7.0"
    },
    "accelerator": "GPU"
  },
  "nbformat": 4,
  "nbformat_minor": 0
}